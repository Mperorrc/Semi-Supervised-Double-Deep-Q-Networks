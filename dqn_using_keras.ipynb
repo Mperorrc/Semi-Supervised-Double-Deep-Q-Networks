{
  "cells": [
    {
      "cell_type": "markdown",
      "metadata": {
        "id": "view-in-github",
        "colab_type": "text"
      },
      "source": [
        "<a href=\"https://colab.research.google.com/github/Mperorrc/Semi-Supervised-Double-Deep-Q-Networks/blob/main/dqn_using_keras.ipynb\" target=\"_parent\"><img src=\"https://colab.research.google.com/assets/colab-badge.svg\" alt=\"Open In Colab\"/></a>"
      ]
    },
    {
      "cell_type": "code",
      "execution_count": null,
      "metadata": {
        "id": "d0126952"
      },
      "outputs": [],
      "source": [
        "import pandas as pd\n",
        "import numpy as np\n",
        "import matplotlib.pyplot as plt\n",
        "import random\n",
        "from gym import Env\n",
        "from gym.spaces import Discrete, Box"
      ],
      "id": "d0126952"
    },
    {
      "cell_type": "code",
      "source": [
        "# !pip install tensorflow==2.11.0\n",
        "# !pip install keras==2.11.0\n",
        "# !pip install keras-rl2\n",
        "# !pip install rl\n",
        "# !pip install tf-agents"
      ],
      "metadata": {
        "colab": {
          "base_uri": "https://localhost:8080/"
        },
        "id": "csTPiNYOwNvf",
        "outputId": "c6bcab2e-db43-4367-d91a-6c5b3512dec4"
      },
      "id": "csTPiNYOwNvf",
      "execution_count": null,
      "outputs": [
        {
          "output_type": "stream",
          "name": "stderr",
          "text": [
            "/usr/local/lib/python3.10/dist-packages/ipykernel/ipkernel.py:283: DeprecationWarning: `should_run_async` will not call `transform_cell` automatically in the future. Please pass the result to `transformed_cell` argument and any exception that happen during thetransform in `preprocessing_exc_tuple` in IPython 7.17 and above.\n",
            "  and should_run_async(code)\n"
          ]
        }
      ]
    },
    {
      "cell_type": "code",
      "execution_count": null,
      "metadata": {
        "colab": {
          "base_uri": "https://localhost:8080/"
        },
        "id": "5ZczRTgVd26V",
        "outputId": "56f248df-d4ca-4c1d-acfb-65623481bbd7"
      },
      "outputs": [
        {
          "output_type": "stream",
          "name": "stdout",
          "text": [
            "2.11.0\n",
            "2.11.0\n"
          ]
        }
      ],
      "source": [
        "import tensorflow as tf\n",
        "import keras\n",
        "print(tf.__version__)\n",
        "print(keras.__version__)"
      ],
      "id": "5ZczRTgVd26V"
    },
    {
      "cell_type": "code",
      "execution_count": null,
      "metadata": {
        "colab": {
          "base_uri": "https://localhost:8080/"
        },
        "id": "3XMcYxWtW72l",
        "outputId": "1d0011d6-b6ab-40f4-8891-bada63837d54"
      },
      "outputs": [
        {
          "output_type": "stream",
          "name": "stdout",
          "text": [
            "Drive already mounted at /content/drive; to attempt to forcibly remount, call drive.mount(\"/content/drive\", force_remount=True).\n"
          ]
        }
      ],
      "source": [
        "from google.colab import drive\n",
        "drive.mount('/content/drive')"
      ],
      "id": "3XMcYxWtW72l"
    },
    {
      "cell_type": "code",
      "execution_count": null,
      "metadata": {
        "id": "3725ab0e"
      },
      "outputs": [],
      "source": [
        "df = pd.read_excel('/content/drive/MyDrive/Colab Notebooks/DDQN/dataset.xlsx')"
      ],
      "id": "3725ab0e"
    },
    {
      "cell_type": "code",
      "source": [
        "df['ABP2'] = df['ABP2'].fillna(0)"
      ],
      "metadata": {
        "id": "BqEJ9twD5sMj"
      },
      "id": "BqEJ9twD5sMj",
      "execution_count": null,
      "outputs": []
    },
    {
      "cell_type": "code",
      "execution_count": null,
      "metadata": {
        "id": "sPc9FEraYGfF",
        "colab": {
          "base_uri": "https://localhost:8080/",
          "height": 478
        },
        "outputId": "a5f336ff-68fa-4320-a263-23aecebafa13"
      },
      "outputs": [
        {
          "output_type": "stream",
          "name": "stderr",
          "text": [
            "/usr/local/lib/python3.10/dist-packages/ipykernel/ipkernel.py:283: DeprecationWarning: `should_run_async` will not call `transform_cell` automatically in the future. Please pass the result to `transformed_cell` argument and any exception that happen during thetransform in `preprocessing_exc_tuple` in IPython 7.17 and above.\n",
            "  and should_run_async(code)\n"
          ]
        },
        {
          "output_type": "execute_result",
          "data": {
            "text/plain": [
              "        SpO2          HR       PULSE  RESP        ABP2       ABP3  ALERT\n",
              "0       94.0   71.000000   71.000000  19.0  113.000000  50.000000      0\n",
              "1       94.0   71.000000   71.000000  19.0  113.000000  50.000000      0\n",
              "2       94.0   71.000000   71.000000  17.0  113.000000  51.000000      0\n",
              "3       94.0   71.000000   71.000000  17.0  113.000000  51.000000      0\n",
              "4       94.0   71.000000   71.000000  17.0  113.000000  50.000000      0\n",
              "...      ...         ...         ...   ...         ...        ...    ...\n",
              "253021  94.0  111.000000  111.000000  14.0  107.000000  61.000000      0\n",
              "253022  94.0  111.000000  110.000000  14.0  108.000000  61.000000      0\n",
              "253023  94.0  111.000000  110.000000  14.0  108.000000  61.000000      0\n",
              "253024  94.0  111.000000  110.000000  14.0  108.000000  61.000000      0\n",
              "253025  94.0  110.489796  110.204082  14.0  108.040816  60.857143      0\n",
              "\n",
              "[253026 rows x 7 columns]"
            ],
            "text/html": [
              "\n",
              "  <div id=\"df-bba40530-c087-483e-b16d-c5b5fa008364\" class=\"colab-df-container\">\n",
              "    <div>\n",
              "<style scoped>\n",
              "    .dataframe tbody tr th:only-of-type {\n",
              "        vertical-align: middle;\n",
              "    }\n",
              "\n",
              "    .dataframe tbody tr th {\n",
              "        vertical-align: top;\n",
              "    }\n",
              "\n",
              "    .dataframe thead th {\n",
              "        text-align: right;\n",
              "    }\n",
              "</style>\n",
              "<table border=\"1\" class=\"dataframe\">\n",
              "  <thead>\n",
              "    <tr style=\"text-align: right;\">\n",
              "      <th></th>\n",
              "      <th>SpO2</th>\n",
              "      <th>HR</th>\n",
              "      <th>PULSE</th>\n",
              "      <th>RESP</th>\n",
              "      <th>ABP2</th>\n",
              "      <th>ABP3</th>\n",
              "      <th>ALERT</th>\n",
              "    </tr>\n",
              "  </thead>\n",
              "  <tbody>\n",
              "    <tr>\n",
              "      <th>0</th>\n",
              "      <td>94.0</td>\n",
              "      <td>71.000000</td>\n",
              "      <td>71.000000</td>\n",
              "      <td>19.0</td>\n",
              "      <td>113.000000</td>\n",
              "      <td>50.000000</td>\n",
              "      <td>0</td>\n",
              "    </tr>\n",
              "    <tr>\n",
              "      <th>1</th>\n",
              "      <td>94.0</td>\n",
              "      <td>71.000000</td>\n",
              "      <td>71.000000</td>\n",
              "      <td>19.0</td>\n",
              "      <td>113.000000</td>\n",
              "      <td>50.000000</td>\n",
              "      <td>0</td>\n",
              "    </tr>\n",
              "    <tr>\n",
              "      <th>2</th>\n",
              "      <td>94.0</td>\n",
              "      <td>71.000000</td>\n",
              "      <td>71.000000</td>\n",
              "      <td>17.0</td>\n",
              "      <td>113.000000</td>\n",
              "      <td>51.000000</td>\n",
              "      <td>0</td>\n",
              "    </tr>\n",
              "    <tr>\n",
              "      <th>3</th>\n",
              "      <td>94.0</td>\n",
              "      <td>71.000000</td>\n",
              "      <td>71.000000</td>\n",
              "      <td>17.0</td>\n",
              "      <td>113.000000</td>\n",
              "      <td>51.000000</td>\n",
              "      <td>0</td>\n",
              "    </tr>\n",
              "    <tr>\n",
              "      <th>4</th>\n",
              "      <td>94.0</td>\n",
              "      <td>71.000000</td>\n",
              "      <td>71.000000</td>\n",
              "      <td>17.0</td>\n",
              "      <td>113.000000</td>\n",
              "      <td>50.000000</td>\n",
              "      <td>0</td>\n",
              "    </tr>\n",
              "    <tr>\n",
              "      <th>...</th>\n",
              "      <td>...</td>\n",
              "      <td>...</td>\n",
              "      <td>...</td>\n",
              "      <td>...</td>\n",
              "      <td>...</td>\n",
              "      <td>...</td>\n",
              "      <td>...</td>\n",
              "    </tr>\n",
              "    <tr>\n",
              "      <th>253021</th>\n",
              "      <td>94.0</td>\n",
              "      <td>111.000000</td>\n",
              "      <td>111.000000</td>\n",
              "      <td>14.0</td>\n",
              "      <td>107.000000</td>\n",
              "      <td>61.000000</td>\n",
              "      <td>0</td>\n",
              "    </tr>\n",
              "    <tr>\n",
              "      <th>253022</th>\n",
              "      <td>94.0</td>\n",
              "      <td>111.000000</td>\n",
              "      <td>110.000000</td>\n",
              "      <td>14.0</td>\n",
              "      <td>108.000000</td>\n",
              "      <td>61.000000</td>\n",
              "      <td>0</td>\n",
              "    </tr>\n",
              "    <tr>\n",
              "      <th>253023</th>\n",
              "      <td>94.0</td>\n",
              "      <td>111.000000</td>\n",
              "      <td>110.000000</td>\n",
              "      <td>14.0</td>\n",
              "      <td>108.000000</td>\n",
              "      <td>61.000000</td>\n",
              "      <td>0</td>\n",
              "    </tr>\n",
              "    <tr>\n",
              "      <th>253024</th>\n",
              "      <td>94.0</td>\n",
              "      <td>111.000000</td>\n",
              "      <td>110.000000</td>\n",
              "      <td>14.0</td>\n",
              "      <td>108.000000</td>\n",
              "      <td>61.000000</td>\n",
              "      <td>0</td>\n",
              "    </tr>\n",
              "    <tr>\n",
              "      <th>253025</th>\n",
              "      <td>94.0</td>\n",
              "      <td>110.489796</td>\n",
              "      <td>110.204082</td>\n",
              "      <td>14.0</td>\n",
              "      <td>108.040816</td>\n",
              "      <td>60.857143</td>\n",
              "      <td>0</td>\n",
              "    </tr>\n",
              "  </tbody>\n",
              "</table>\n",
              "<p>253026 rows × 7 columns</p>\n",
              "</div>\n",
              "    <div class=\"colab-df-buttons\">\n",
              "\n",
              "  <div class=\"colab-df-container\">\n",
              "    <button class=\"colab-df-convert\" onclick=\"convertToInteractive('df-bba40530-c087-483e-b16d-c5b5fa008364')\"\n",
              "            title=\"Convert this dataframe to an interactive table.\"\n",
              "            style=\"display:none;\">\n",
              "\n",
              "  <svg xmlns=\"http://www.w3.org/2000/svg\" height=\"24px\" viewBox=\"0 -960 960 960\">\n",
              "    <path d=\"M120-120v-720h720v720H120Zm60-500h600v-160H180v160Zm220 220h160v-160H400v160Zm0 220h160v-160H400v160ZM180-400h160v-160H180v160Zm440 0h160v-160H620v160ZM180-180h160v-160H180v160Zm440 0h160v-160H620v160Z\"/>\n",
              "  </svg>\n",
              "    </button>\n",
              "\n",
              "  <style>\n",
              "    .colab-df-container {\n",
              "      display:flex;\n",
              "      gap: 12px;\n",
              "    }\n",
              "\n",
              "    .colab-df-convert {\n",
              "      background-color: #E8F0FE;\n",
              "      border: none;\n",
              "      border-radius: 50%;\n",
              "      cursor: pointer;\n",
              "      display: none;\n",
              "      fill: #1967D2;\n",
              "      height: 32px;\n",
              "      padding: 0 0 0 0;\n",
              "      width: 32px;\n",
              "    }\n",
              "\n",
              "    .colab-df-convert:hover {\n",
              "      background-color: #E2EBFA;\n",
              "      box-shadow: 0px 1px 2px rgba(60, 64, 67, 0.3), 0px 1px 3px 1px rgba(60, 64, 67, 0.15);\n",
              "      fill: #174EA6;\n",
              "    }\n",
              "\n",
              "    .colab-df-buttons div {\n",
              "      margin-bottom: 4px;\n",
              "    }\n",
              "\n",
              "    [theme=dark] .colab-df-convert {\n",
              "      background-color: #3B4455;\n",
              "      fill: #D2E3FC;\n",
              "    }\n",
              "\n",
              "    [theme=dark] .colab-df-convert:hover {\n",
              "      background-color: #434B5C;\n",
              "      box-shadow: 0px 1px 3px 1px rgba(0, 0, 0, 0.15);\n",
              "      filter: drop-shadow(0px 1px 2px rgba(0, 0, 0, 0.3));\n",
              "      fill: #FFFFFF;\n",
              "    }\n",
              "  </style>\n",
              "\n",
              "    <script>\n",
              "      const buttonEl =\n",
              "        document.querySelector('#df-bba40530-c087-483e-b16d-c5b5fa008364 button.colab-df-convert');\n",
              "      buttonEl.style.display =\n",
              "        google.colab.kernel.accessAllowed ? 'block' : 'none';\n",
              "\n",
              "      async function convertToInteractive(key) {\n",
              "        const element = document.querySelector('#df-bba40530-c087-483e-b16d-c5b5fa008364');\n",
              "        const dataTable =\n",
              "          await google.colab.kernel.invokeFunction('convertToInteractive',\n",
              "                                                    [key], {});\n",
              "        if (!dataTable) return;\n",
              "\n",
              "        const docLinkHtml = 'Like what you see? Visit the ' +\n",
              "          '<a target=\"_blank\" href=https://colab.research.google.com/notebooks/data_table.ipynb>data table notebook</a>'\n",
              "          + ' to learn more about interactive tables.';\n",
              "        element.innerHTML = '';\n",
              "        dataTable['output_type'] = 'display_data';\n",
              "        await google.colab.output.renderOutput(dataTable, element);\n",
              "        const docLink = document.createElement('div');\n",
              "        docLink.innerHTML = docLinkHtml;\n",
              "        element.appendChild(docLink);\n",
              "      }\n",
              "    </script>\n",
              "  </div>\n",
              "\n",
              "\n",
              "<div id=\"df-0624f180-4a39-4fa0-861d-7fdb7aebc3f3\">\n",
              "  <button class=\"colab-df-quickchart\" onclick=\"quickchart('df-0624f180-4a39-4fa0-861d-7fdb7aebc3f3')\"\n",
              "            title=\"Suggest charts\"\n",
              "            style=\"display:none;\">\n",
              "\n",
              "<svg xmlns=\"http://www.w3.org/2000/svg\" height=\"24px\"viewBox=\"0 0 24 24\"\n",
              "     width=\"24px\">\n",
              "    <g>\n",
              "        <path d=\"M19 3H5c-1.1 0-2 .9-2 2v14c0 1.1.9 2 2 2h14c1.1 0 2-.9 2-2V5c0-1.1-.9-2-2-2zM9 17H7v-7h2v7zm4 0h-2V7h2v10zm4 0h-2v-4h2v4z\"/>\n",
              "    </g>\n",
              "</svg>\n",
              "  </button>\n",
              "\n",
              "<style>\n",
              "  .colab-df-quickchart {\n",
              "      --bg-color: #E8F0FE;\n",
              "      --fill-color: #1967D2;\n",
              "      --hover-bg-color: #E2EBFA;\n",
              "      --hover-fill-color: #174EA6;\n",
              "      --disabled-fill-color: #AAA;\n",
              "      --disabled-bg-color: #DDD;\n",
              "  }\n",
              "\n",
              "  [theme=dark] .colab-df-quickchart {\n",
              "      --bg-color: #3B4455;\n",
              "      --fill-color: #D2E3FC;\n",
              "      --hover-bg-color: #434B5C;\n",
              "      --hover-fill-color: #FFFFFF;\n",
              "      --disabled-bg-color: #3B4455;\n",
              "      --disabled-fill-color: #666;\n",
              "  }\n",
              "\n",
              "  .colab-df-quickchart {\n",
              "    background-color: var(--bg-color);\n",
              "    border: none;\n",
              "    border-radius: 50%;\n",
              "    cursor: pointer;\n",
              "    display: none;\n",
              "    fill: var(--fill-color);\n",
              "    height: 32px;\n",
              "    padding: 0;\n",
              "    width: 32px;\n",
              "  }\n",
              "\n",
              "  .colab-df-quickchart:hover {\n",
              "    background-color: var(--hover-bg-color);\n",
              "    box-shadow: 0 1px 2px rgba(60, 64, 67, 0.3), 0 1px 3px 1px rgba(60, 64, 67, 0.15);\n",
              "    fill: var(--button-hover-fill-color);\n",
              "  }\n",
              "\n",
              "  .colab-df-quickchart-complete:disabled,\n",
              "  .colab-df-quickchart-complete:disabled:hover {\n",
              "    background-color: var(--disabled-bg-color);\n",
              "    fill: var(--disabled-fill-color);\n",
              "    box-shadow: none;\n",
              "  }\n",
              "\n",
              "  .colab-df-spinner {\n",
              "    border: 2px solid var(--fill-color);\n",
              "    border-color: transparent;\n",
              "    border-bottom-color: var(--fill-color);\n",
              "    animation:\n",
              "      spin 1s steps(1) infinite;\n",
              "  }\n",
              "\n",
              "  @keyframes spin {\n",
              "    0% {\n",
              "      border-color: transparent;\n",
              "      border-bottom-color: var(--fill-color);\n",
              "      border-left-color: var(--fill-color);\n",
              "    }\n",
              "    20% {\n",
              "      border-color: transparent;\n",
              "      border-left-color: var(--fill-color);\n",
              "      border-top-color: var(--fill-color);\n",
              "    }\n",
              "    30% {\n",
              "      border-color: transparent;\n",
              "      border-left-color: var(--fill-color);\n",
              "      border-top-color: var(--fill-color);\n",
              "      border-right-color: var(--fill-color);\n",
              "    }\n",
              "    40% {\n",
              "      border-color: transparent;\n",
              "      border-right-color: var(--fill-color);\n",
              "      border-top-color: var(--fill-color);\n",
              "    }\n",
              "    60% {\n",
              "      border-color: transparent;\n",
              "      border-right-color: var(--fill-color);\n",
              "    }\n",
              "    80% {\n",
              "      border-color: transparent;\n",
              "      border-right-color: var(--fill-color);\n",
              "      border-bottom-color: var(--fill-color);\n",
              "    }\n",
              "    90% {\n",
              "      border-color: transparent;\n",
              "      border-bottom-color: var(--fill-color);\n",
              "    }\n",
              "  }\n",
              "</style>\n",
              "\n",
              "  <script>\n",
              "    async function quickchart(key) {\n",
              "      const quickchartButtonEl =\n",
              "        document.querySelector('#' + key + ' button');\n",
              "      quickchartButtonEl.disabled = true;  // To prevent multiple clicks.\n",
              "      quickchartButtonEl.classList.add('colab-df-spinner');\n",
              "      try {\n",
              "        const charts = await google.colab.kernel.invokeFunction(\n",
              "            'suggestCharts', [key], {});\n",
              "      } catch (error) {\n",
              "        console.error('Error during call to suggestCharts:', error);\n",
              "      }\n",
              "      quickchartButtonEl.classList.remove('colab-df-spinner');\n",
              "      quickchartButtonEl.classList.add('colab-df-quickchart-complete');\n",
              "    }\n",
              "    (() => {\n",
              "      let quickchartButtonEl =\n",
              "        document.querySelector('#df-0624f180-4a39-4fa0-861d-7fdb7aebc3f3 button');\n",
              "      quickchartButtonEl.style.display =\n",
              "        google.colab.kernel.accessAllowed ? 'block' : 'none';\n",
              "    })();\n",
              "  </script>\n",
              "</div>\n",
              "    </div>\n",
              "  </div>\n"
            ]
          },
          "metadata": {},
          "execution_count": 53
        }
      ],
      "source": [
        "df"
      ],
      "id": "sPc9FEraYGfF"
    },
    {
      "cell_type": "code",
      "execution_count": null,
      "metadata": {
        "id": "4fea10cd",
        "colab": {
          "base_uri": "https://localhost:8080/"
        },
        "outputId": "fed12cd1-76a8-4529-fe7a-2bc66ba4375e"
      },
      "outputs": [
        {
          "output_type": "stream",
          "name": "stderr",
          "text": [
            "/usr/local/lib/python3.10/dist-packages/ipykernel/ipkernel.py:283: DeprecationWarning: `should_run_async` will not call `transform_cell` automatically in the future. Please pass the result to `transformed_cell` argument and any exception that happen during thetransform in `preprocessing_exc_tuple` in IPython 7.17 and above.\n",
            "  and should_run_async(code)\n"
          ]
        }
      ],
      "source": [
        "from sklearn.preprocessing import MinMaxScaler"
      ],
      "id": "4fea10cd"
    },
    {
      "cell_type": "code",
      "execution_count": null,
      "metadata": {
        "id": "af9a7890"
      },
      "outputs": [],
      "source": [
        "scaler = MinMaxScaler()\n",
        "columns = ['SpO2','HR','PULSE','RESP','ABP2','ABP3']\n",
        "X = pd.DataFrame(scaler.fit_transform(df[['SpO2','HR','PULSE','RESP','ABP2','ABP3']]), columns=columns)\n",
        "Y = df['ALERT']"
      ],
      "id": "af9a7890"
    },
    {
      "cell_type": "code",
      "source": [
        "split_index = int(0.7 * len(X))\n",
        "\n",
        "# Splitting the data into training and testing sets\n",
        "x_train, x_test = X[:split_index], X[split_index:]\n",
        "y_train, y_test = Y[:split_index], Y[split_index:]"
      ],
      "metadata": {
        "colab": {
          "base_uri": "https://localhost:8080/"
        },
        "id": "2JAzAihNn49P",
        "outputId": "93f514b8-a718-4f00-d8a2-1c50ce582c72"
      },
      "id": "2JAzAihNn49P",
      "execution_count": null,
      "outputs": [
        {
          "output_type": "stream",
          "name": "stderr",
          "text": [
            "/usr/local/lib/python3.10/dist-packages/ipykernel/ipkernel.py:283: DeprecationWarning: `should_run_async` will not call `transform_cell` automatically in the future. Please pass the result to `transformed_cell` argument and any exception that happen during thetransform in `preprocessing_exc_tuple` in IPython 7.17 and above.\n",
            "  and should_run_async(code)\n"
          ]
        }
      ]
    },
    {
      "cell_type": "code",
      "source": [
        "x_train"
      ],
      "metadata": {
        "colab": {
          "base_uri": "https://localhost:8080/",
          "height": 423
        },
        "id": "RGiX9Wv_mrHf",
        "outputId": "23784351-8212-490d-c0ec-05a9f5f5ada4"
      },
      "id": "RGiX9Wv_mrHf",
      "execution_count": null,
      "outputs": [
        {
          "output_type": "execute_result",
          "data": {
            "text/plain": [
              "        SpO2        HR     PULSE   RESP      ABP2      ABP3\n",
              "0       0.94  0.458065  0.510791  0.038  0.323288  0.209302\n",
              "1       0.94  0.458065  0.510791  0.038  0.323288  0.209302\n",
              "2       0.94  0.458065  0.510791  0.034  0.323288  0.211886\n",
              "3       0.94  0.458065  0.510791  0.034  0.323288  0.211886\n",
              "4       0.94  0.458065  0.510791  0.034  0.323288  0.209302\n",
              "...      ...       ...       ...    ...       ...       ...\n",
              "177113  0.00  0.606452  0.000000  0.016  0.276712  0.219638\n",
              "177114  0.00  0.612903  0.000000  0.016  0.279452  0.219638\n",
              "177115  0.00  0.612903  0.000000  0.016  0.282192  0.222222\n",
              "177116  0.00  0.612903  0.000000  0.016  0.282192  0.222222\n",
              "177117  0.00  0.612903  0.000000  0.020  0.282192  0.222222\n",
              "\n",
              "[177118 rows x 6 columns]"
            ],
            "text/html": [
              "\n",
              "  <div id=\"df-200ca79b-6abc-4e2c-b47d-aa175d74857c\" class=\"colab-df-container\">\n",
              "    <div>\n",
              "<style scoped>\n",
              "    .dataframe tbody tr th:only-of-type {\n",
              "        vertical-align: middle;\n",
              "    }\n",
              "\n",
              "    .dataframe tbody tr th {\n",
              "        vertical-align: top;\n",
              "    }\n",
              "\n",
              "    .dataframe thead th {\n",
              "        text-align: right;\n",
              "    }\n",
              "</style>\n",
              "<table border=\"1\" class=\"dataframe\">\n",
              "  <thead>\n",
              "    <tr style=\"text-align: right;\">\n",
              "      <th></th>\n",
              "      <th>SpO2</th>\n",
              "      <th>HR</th>\n",
              "      <th>PULSE</th>\n",
              "      <th>RESP</th>\n",
              "      <th>ABP2</th>\n",
              "      <th>ABP3</th>\n",
              "    </tr>\n",
              "  </thead>\n",
              "  <tbody>\n",
              "    <tr>\n",
              "      <th>0</th>\n",
              "      <td>0.94</td>\n",
              "      <td>0.458065</td>\n",
              "      <td>0.510791</td>\n",
              "      <td>0.038</td>\n",
              "      <td>0.323288</td>\n",
              "      <td>0.209302</td>\n",
              "    </tr>\n",
              "    <tr>\n",
              "      <th>1</th>\n",
              "      <td>0.94</td>\n",
              "      <td>0.458065</td>\n",
              "      <td>0.510791</td>\n",
              "      <td>0.038</td>\n",
              "      <td>0.323288</td>\n",
              "      <td>0.209302</td>\n",
              "    </tr>\n",
              "    <tr>\n",
              "      <th>2</th>\n",
              "      <td>0.94</td>\n",
              "      <td>0.458065</td>\n",
              "      <td>0.510791</td>\n",
              "      <td>0.034</td>\n",
              "      <td>0.323288</td>\n",
              "      <td>0.211886</td>\n",
              "    </tr>\n",
              "    <tr>\n",
              "      <th>3</th>\n",
              "      <td>0.94</td>\n",
              "      <td>0.458065</td>\n",
              "      <td>0.510791</td>\n",
              "      <td>0.034</td>\n",
              "      <td>0.323288</td>\n",
              "      <td>0.211886</td>\n",
              "    </tr>\n",
              "    <tr>\n",
              "      <th>4</th>\n",
              "      <td>0.94</td>\n",
              "      <td>0.458065</td>\n",
              "      <td>0.510791</td>\n",
              "      <td>0.034</td>\n",
              "      <td>0.323288</td>\n",
              "      <td>0.209302</td>\n",
              "    </tr>\n",
              "    <tr>\n",
              "      <th>...</th>\n",
              "      <td>...</td>\n",
              "      <td>...</td>\n",
              "      <td>...</td>\n",
              "      <td>...</td>\n",
              "      <td>...</td>\n",
              "      <td>...</td>\n",
              "    </tr>\n",
              "    <tr>\n",
              "      <th>177113</th>\n",
              "      <td>0.00</td>\n",
              "      <td>0.606452</td>\n",
              "      <td>0.000000</td>\n",
              "      <td>0.016</td>\n",
              "      <td>0.276712</td>\n",
              "      <td>0.219638</td>\n",
              "    </tr>\n",
              "    <tr>\n",
              "      <th>177114</th>\n",
              "      <td>0.00</td>\n",
              "      <td>0.612903</td>\n",
              "      <td>0.000000</td>\n",
              "      <td>0.016</td>\n",
              "      <td>0.279452</td>\n",
              "      <td>0.219638</td>\n",
              "    </tr>\n",
              "    <tr>\n",
              "      <th>177115</th>\n",
              "      <td>0.00</td>\n",
              "      <td>0.612903</td>\n",
              "      <td>0.000000</td>\n",
              "      <td>0.016</td>\n",
              "      <td>0.282192</td>\n",
              "      <td>0.222222</td>\n",
              "    </tr>\n",
              "    <tr>\n",
              "      <th>177116</th>\n",
              "      <td>0.00</td>\n",
              "      <td>0.612903</td>\n",
              "      <td>0.000000</td>\n",
              "      <td>0.016</td>\n",
              "      <td>0.282192</td>\n",
              "      <td>0.222222</td>\n",
              "    </tr>\n",
              "    <tr>\n",
              "      <th>177117</th>\n",
              "      <td>0.00</td>\n",
              "      <td>0.612903</td>\n",
              "      <td>0.000000</td>\n",
              "      <td>0.020</td>\n",
              "      <td>0.282192</td>\n",
              "      <td>0.222222</td>\n",
              "    </tr>\n",
              "  </tbody>\n",
              "</table>\n",
              "<p>177118 rows × 6 columns</p>\n",
              "</div>\n",
              "    <div class=\"colab-df-buttons\">\n",
              "\n",
              "  <div class=\"colab-df-container\">\n",
              "    <button class=\"colab-df-convert\" onclick=\"convertToInteractive('df-200ca79b-6abc-4e2c-b47d-aa175d74857c')\"\n",
              "            title=\"Convert this dataframe to an interactive table.\"\n",
              "            style=\"display:none;\">\n",
              "\n",
              "  <svg xmlns=\"http://www.w3.org/2000/svg\" height=\"24px\" viewBox=\"0 -960 960 960\">\n",
              "    <path d=\"M120-120v-720h720v720H120Zm60-500h600v-160H180v160Zm220 220h160v-160H400v160Zm0 220h160v-160H400v160ZM180-400h160v-160H180v160Zm440 0h160v-160H620v160ZM180-180h160v-160H180v160Zm440 0h160v-160H620v160Z\"/>\n",
              "  </svg>\n",
              "    </button>\n",
              "\n",
              "  <style>\n",
              "    .colab-df-container {\n",
              "      display:flex;\n",
              "      gap: 12px;\n",
              "    }\n",
              "\n",
              "    .colab-df-convert {\n",
              "      background-color: #E8F0FE;\n",
              "      border: none;\n",
              "      border-radius: 50%;\n",
              "      cursor: pointer;\n",
              "      display: none;\n",
              "      fill: #1967D2;\n",
              "      height: 32px;\n",
              "      padding: 0 0 0 0;\n",
              "      width: 32px;\n",
              "    }\n",
              "\n",
              "    .colab-df-convert:hover {\n",
              "      background-color: #E2EBFA;\n",
              "      box-shadow: 0px 1px 2px rgba(60, 64, 67, 0.3), 0px 1px 3px 1px rgba(60, 64, 67, 0.15);\n",
              "      fill: #174EA6;\n",
              "    }\n",
              "\n",
              "    .colab-df-buttons div {\n",
              "      margin-bottom: 4px;\n",
              "    }\n",
              "\n",
              "    [theme=dark] .colab-df-convert {\n",
              "      background-color: #3B4455;\n",
              "      fill: #D2E3FC;\n",
              "    }\n",
              "\n",
              "    [theme=dark] .colab-df-convert:hover {\n",
              "      background-color: #434B5C;\n",
              "      box-shadow: 0px 1px 3px 1px rgba(0, 0, 0, 0.15);\n",
              "      filter: drop-shadow(0px 1px 2px rgba(0, 0, 0, 0.3));\n",
              "      fill: #FFFFFF;\n",
              "    }\n",
              "  </style>\n",
              "\n",
              "    <script>\n",
              "      const buttonEl =\n",
              "        document.querySelector('#df-200ca79b-6abc-4e2c-b47d-aa175d74857c button.colab-df-convert');\n",
              "      buttonEl.style.display =\n",
              "        google.colab.kernel.accessAllowed ? 'block' : 'none';\n",
              "\n",
              "      async function convertToInteractive(key) {\n",
              "        const element = document.querySelector('#df-200ca79b-6abc-4e2c-b47d-aa175d74857c');\n",
              "        const dataTable =\n",
              "          await google.colab.kernel.invokeFunction('convertToInteractive',\n",
              "                                                    [key], {});\n",
              "        if (!dataTable) return;\n",
              "\n",
              "        const docLinkHtml = 'Like what you see? Visit the ' +\n",
              "          '<a target=\"_blank\" href=https://colab.research.google.com/notebooks/data_table.ipynb>data table notebook</a>'\n",
              "          + ' to learn more about interactive tables.';\n",
              "        element.innerHTML = '';\n",
              "        dataTable['output_type'] = 'display_data';\n",
              "        await google.colab.output.renderOutput(dataTable, element);\n",
              "        const docLink = document.createElement('div');\n",
              "        docLink.innerHTML = docLinkHtml;\n",
              "        element.appendChild(docLink);\n",
              "      }\n",
              "    </script>\n",
              "  </div>\n",
              "\n",
              "\n",
              "<div id=\"df-23272b84-fb58-4540-b5a8-95dc075ff9fa\">\n",
              "  <button class=\"colab-df-quickchart\" onclick=\"quickchart('df-23272b84-fb58-4540-b5a8-95dc075ff9fa')\"\n",
              "            title=\"Suggest charts\"\n",
              "            style=\"display:none;\">\n",
              "\n",
              "<svg xmlns=\"http://www.w3.org/2000/svg\" height=\"24px\"viewBox=\"0 0 24 24\"\n",
              "     width=\"24px\">\n",
              "    <g>\n",
              "        <path d=\"M19 3H5c-1.1 0-2 .9-2 2v14c0 1.1.9 2 2 2h14c1.1 0 2-.9 2-2V5c0-1.1-.9-2-2-2zM9 17H7v-7h2v7zm4 0h-2V7h2v10zm4 0h-2v-4h2v4z\"/>\n",
              "    </g>\n",
              "</svg>\n",
              "  </button>\n",
              "\n",
              "<style>\n",
              "  .colab-df-quickchart {\n",
              "      --bg-color: #E8F0FE;\n",
              "      --fill-color: #1967D2;\n",
              "      --hover-bg-color: #E2EBFA;\n",
              "      --hover-fill-color: #174EA6;\n",
              "      --disabled-fill-color: #AAA;\n",
              "      --disabled-bg-color: #DDD;\n",
              "  }\n",
              "\n",
              "  [theme=dark] .colab-df-quickchart {\n",
              "      --bg-color: #3B4455;\n",
              "      --fill-color: #D2E3FC;\n",
              "      --hover-bg-color: #434B5C;\n",
              "      --hover-fill-color: #FFFFFF;\n",
              "      --disabled-bg-color: #3B4455;\n",
              "      --disabled-fill-color: #666;\n",
              "  }\n",
              "\n",
              "  .colab-df-quickchart {\n",
              "    background-color: var(--bg-color);\n",
              "    border: none;\n",
              "    border-radius: 50%;\n",
              "    cursor: pointer;\n",
              "    display: none;\n",
              "    fill: var(--fill-color);\n",
              "    height: 32px;\n",
              "    padding: 0;\n",
              "    width: 32px;\n",
              "  }\n",
              "\n",
              "  .colab-df-quickchart:hover {\n",
              "    background-color: var(--hover-bg-color);\n",
              "    box-shadow: 0 1px 2px rgba(60, 64, 67, 0.3), 0 1px 3px 1px rgba(60, 64, 67, 0.15);\n",
              "    fill: var(--button-hover-fill-color);\n",
              "  }\n",
              "\n",
              "  .colab-df-quickchart-complete:disabled,\n",
              "  .colab-df-quickchart-complete:disabled:hover {\n",
              "    background-color: var(--disabled-bg-color);\n",
              "    fill: var(--disabled-fill-color);\n",
              "    box-shadow: none;\n",
              "  }\n",
              "\n",
              "  .colab-df-spinner {\n",
              "    border: 2px solid var(--fill-color);\n",
              "    border-color: transparent;\n",
              "    border-bottom-color: var(--fill-color);\n",
              "    animation:\n",
              "      spin 1s steps(1) infinite;\n",
              "  }\n",
              "\n",
              "  @keyframes spin {\n",
              "    0% {\n",
              "      border-color: transparent;\n",
              "      border-bottom-color: var(--fill-color);\n",
              "      border-left-color: var(--fill-color);\n",
              "    }\n",
              "    20% {\n",
              "      border-color: transparent;\n",
              "      border-left-color: var(--fill-color);\n",
              "      border-top-color: var(--fill-color);\n",
              "    }\n",
              "    30% {\n",
              "      border-color: transparent;\n",
              "      border-left-color: var(--fill-color);\n",
              "      border-top-color: var(--fill-color);\n",
              "      border-right-color: var(--fill-color);\n",
              "    }\n",
              "    40% {\n",
              "      border-color: transparent;\n",
              "      border-right-color: var(--fill-color);\n",
              "      border-top-color: var(--fill-color);\n",
              "    }\n",
              "    60% {\n",
              "      border-color: transparent;\n",
              "      border-right-color: var(--fill-color);\n",
              "    }\n",
              "    80% {\n",
              "      border-color: transparent;\n",
              "      border-right-color: var(--fill-color);\n",
              "      border-bottom-color: var(--fill-color);\n",
              "    }\n",
              "    90% {\n",
              "      border-color: transparent;\n",
              "      border-bottom-color: var(--fill-color);\n",
              "    }\n",
              "  }\n",
              "</style>\n",
              "\n",
              "  <script>\n",
              "    async function quickchart(key) {\n",
              "      const quickchartButtonEl =\n",
              "        document.querySelector('#' + key + ' button');\n",
              "      quickchartButtonEl.disabled = true;  // To prevent multiple clicks.\n",
              "      quickchartButtonEl.classList.add('colab-df-spinner');\n",
              "      try {\n",
              "        const charts = await google.colab.kernel.invokeFunction(\n",
              "            'suggestCharts', [key], {});\n",
              "      } catch (error) {\n",
              "        console.error('Error during call to suggestCharts:', error);\n",
              "      }\n",
              "      quickchartButtonEl.classList.remove('colab-df-spinner');\n",
              "      quickchartButtonEl.classList.add('colab-df-quickchart-complete');\n",
              "    }\n",
              "    (() => {\n",
              "      let quickchartButtonEl =\n",
              "        document.querySelector('#df-23272b84-fb58-4540-b5a8-95dc075ff9fa button');\n",
              "      quickchartButtonEl.style.display =\n",
              "        google.colab.kernel.accessAllowed ? 'block' : 'none';\n",
              "    })();\n",
              "  </script>\n",
              "</div>\n",
              "    </div>\n",
              "  </div>\n"
            ]
          },
          "metadata": {},
          "execution_count": 57
        }
      ]
    },
    {
      "cell_type": "code",
      "source": [
        "x_train.loc[x_train.isnull().any(axis=1), 'ALERT'] = 1\n",
        "\n",
        "# Replace NaN values with zeros in the entire DataFrame\n",
        "x_train.fillna(0, inplace=True)\n",
        "nan_indices = np.isnan(x_train)\n",
        "nan_count = np.sum(nan_indices)\n",
        "print(nan_count)\n"
      ],
      "metadata": {
        "colab": {
          "base_uri": "https://localhost:8080/"
        },
        "id": "pLxS4GUw2j7j",
        "outputId": "062b0299-361b-48ce-cf91-d81b8181b797"
      },
      "id": "pLxS4GUw2j7j",
      "execution_count": null,
      "outputs": [
        {
          "output_type": "stream",
          "name": "stdout",
          "text": [
            "SpO2     0\n",
            "HR       0\n",
            "PULSE    0\n",
            "RESP     0\n",
            "ABP2     0\n",
            "ABP3     0\n",
            "ALERT    0\n",
            "dtype: int64\n"
          ]
        },
        {
          "output_type": "stream",
          "name": "stderr",
          "text": [
            "<ipython-input-59-02b4f2c0c199>:1: SettingWithCopyWarning: \n",
            "A value is trying to be set on a copy of a slice from a DataFrame.\n",
            "Try using .loc[row_indexer,col_indexer] = value instead\n",
            "\n",
            "See the caveats in the documentation: https://pandas.pydata.org/pandas-docs/stable/user_guide/indexing.html#returning-a-view-versus-a-copy\n",
            "  x_train.loc[x_train.isnull().any(axis=1), 'ALERT'] = 1\n",
            "<ipython-input-59-02b4f2c0c199>:4: SettingWithCopyWarning: \n",
            "A value is trying to be set on a copy of a slice from a DataFrame\n",
            "\n",
            "See the caveats in the documentation: https://pandas.pydata.org/pandas-docs/stable/user_guide/indexing.html#returning-a-view-versus-a-copy\n",
            "  x_train.fillna(0, inplace=True)\n"
          ]
        }
      ]
    },
    {
      "cell_type": "code",
      "execution_count": null,
      "metadata": {
        "id": "2dd058c5",
        "colab": {
          "base_uri": "https://localhost:8080/"
        },
        "outputId": "b969b2e4-8a32-4852-9ba3-530c974852b1"
      },
      "outputs": [
        {
          "output_type": "execute_result",
          "data": {
            "text/plain": [
              "0         0\n",
              "1         0\n",
              "2         0\n",
              "3         0\n",
              "4         0\n",
              "         ..\n",
              "177113    1\n",
              "177114    1\n",
              "177115    1\n",
              "177116    1\n",
              "177117    1\n",
              "Name: ALERT, Length: 177118, dtype: int64"
            ]
          },
          "metadata": {},
          "execution_count": 47
        }
      ],
      "source": [
        "y_train"
      ],
      "id": "2dd058c5"
    },
    {
      "cell_type": "code",
      "source": [
        "model = tf.keras.models.Sequential()\n",
        "model.add(tf.keras.layers.Dense(64, activation='relu', kernel_initializer='he_uniform', input_shape=(x_train.shape[1],)))\n",
        "model.add(tf.keras.layers.BatchNormalization())\n",
        "model.add(tf.keras.layers.Dense(256, activation='relu', kernel_initializer='he_uniform'))\n",
        "model.add(tf.keras.layers.BatchNormalization())\n",
        "model.add(tf.keras.layers.Dense(1024, activation='relu', kernel_initializer='he_uniform'))\n",
        "model.add(tf.keras.layers.BatchNormalization())\n",
        "model.add(tf.keras.layers.Dense(3, activation='linear'))\n",
        "model.compile(loss=\"mse\", optimizer = tf.keras.optimizers.Adam(learning_rate=0.1))"
      ],
      "metadata": {
        "id": "pmJ90oiHyGoD"
      },
      "id": "pmJ90oiHyGoD",
      "execution_count": null,
      "outputs": []
    },
    {
      "cell_type": "code",
      "source": [
        "model.fit(x_train, y_train, epochs=100, batch_size=200, shuffle=False)"
      ],
      "metadata": {
        "colab": {
          "base_uri": "https://localhost:8080/",
          "height": 529
        },
        "id": "vSfkV_DDyGrM",
        "outputId": "dbf383a2-a4d9-4627-a698-f8313dda8277"
      },
      "id": "vSfkV_DDyGrM",
      "execution_count": null,
      "outputs": [
        {
          "output_type": "stream",
          "name": "stdout",
          "text": [
            "Epoch 1/100\n",
            "886/886 [==============================] - 20s 21ms/step - loss: 4.9961\n",
            "Epoch 2/100\n",
            "886/886 [==============================] - 17s 19ms/step - loss: 0.1707\n",
            "Epoch 3/100\n",
            "886/886 [==============================] - 18s 20ms/step - loss: 0.1347\n",
            "Epoch 4/100\n",
            "886/886 [==============================] - 19s 21ms/step - loss: 0.1999\n",
            "Epoch 5/100\n",
            "886/886 [==============================] - 17s 19ms/step - loss: 0.1785\n",
            "Epoch 6/100\n",
            "464/886 [==============>...............] - ETA: 9s - loss: 0.1450"
          ]
        },
        {
          "output_type": "error",
          "ename": "KeyboardInterrupt",
          "evalue": "",
          "traceback": [
            "\u001b[0;31m---------------------------------------------------------------------------\u001b[0m",
            "\u001b[0;31mKeyboardInterrupt\u001b[0m                         Traceback (most recent call last)",
            "\u001b[0;32m<ipython-input-51-9346339d9353>\u001b[0m in \u001b[0;36m<cell line: 1>\u001b[0;34m()\u001b[0m\n\u001b[0;32m----> 1\u001b[0;31m \u001b[0mmodel\u001b[0m\u001b[0;34m.\u001b[0m\u001b[0mfit\u001b[0m\u001b[0;34m(\u001b[0m\u001b[0mx_train\u001b[0m\u001b[0;34m,\u001b[0m \u001b[0my_train\u001b[0m\u001b[0;34m,\u001b[0m \u001b[0mepochs\u001b[0m\u001b[0;34m=\u001b[0m\u001b[0;36m100\u001b[0m\u001b[0;34m,\u001b[0m \u001b[0mbatch_size\u001b[0m\u001b[0;34m=\u001b[0m\u001b[0;36m200\u001b[0m\u001b[0;34m,\u001b[0m \u001b[0mshuffle\u001b[0m\u001b[0;34m=\u001b[0m\u001b[0;32mFalse\u001b[0m\u001b[0;34m)\u001b[0m\u001b[0;34m\u001b[0m\u001b[0;34m\u001b[0m\u001b[0m\n\u001b[0m",
            "\u001b[0;32m/usr/local/lib/python3.10/dist-packages/keras/utils/traceback_utils.py\u001b[0m in \u001b[0;36merror_handler\u001b[0;34m(*args, **kwargs)\u001b[0m\n\u001b[1;32m     63\u001b[0m         \u001b[0mfiltered_tb\u001b[0m \u001b[0;34m=\u001b[0m \u001b[0;32mNone\u001b[0m\u001b[0;34m\u001b[0m\u001b[0;34m\u001b[0m\u001b[0m\n\u001b[1;32m     64\u001b[0m         \u001b[0;32mtry\u001b[0m\u001b[0;34m:\u001b[0m\u001b[0;34m\u001b[0m\u001b[0;34m\u001b[0m\u001b[0m\n\u001b[0;32m---> 65\u001b[0;31m             \u001b[0;32mreturn\u001b[0m \u001b[0mfn\u001b[0m\u001b[0;34m(\u001b[0m\u001b[0;34m*\u001b[0m\u001b[0margs\u001b[0m\u001b[0;34m,\u001b[0m \u001b[0;34m**\u001b[0m\u001b[0mkwargs\u001b[0m\u001b[0;34m)\u001b[0m\u001b[0;34m\u001b[0m\u001b[0;34m\u001b[0m\u001b[0m\n\u001b[0m\u001b[1;32m     66\u001b[0m         \u001b[0;32mexcept\u001b[0m \u001b[0mException\u001b[0m \u001b[0;32mas\u001b[0m \u001b[0me\u001b[0m\u001b[0;34m:\u001b[0m\u001b[0;34m\u001b[0m\u001b[0;34m\u001b[0m\u001b[0m\n\u001b[1;32m     67\u001b[0m             \u001b[0mfiltered_tb\u001b[0m \u001b[0;34m=\u001b[0m \u001b[0m_process_traceback_frames\u001b[0m\u001b[0;34m(\u001b[0m\u001b[0me\u001b[0m\u001b[0;34m.\u001b[0m\u001b[0m__traceback__\u001b[0m\u001b[0;34m)\u001b[0m\u001b[0;34m\u001b[0m\u001b[0;34m\u001b[0m\u001b[0m\n",
            "\u001b[0;32m/usr/local/lib/python3.10/dist-packages/keras/engine/training.py\u001b[0m in \u001b[0;36mfit\u001b[0;34m(self, x, y, batch_size, epochs, verbose, callbacks, validation_split, validation_data, shuffle, class_weight, sample_weight, initial_epoch, steps_per_epoch, validation_steps, validation_batch_size, validation_freq, max_queue_size, workers, use_multiprocessing)\u001b[0m\n\u001b[1;32m   1648\u001b[0m                         ):\n\u001b[1;32m   1649\u001b[0m                             \u001b[0mcallbacks\u001b[0m\u001b[0;34m.\u001b[0m\u001b[0mon_train_batch_begin\u001b[0m\u001b[0;34m(\u001b[0m\u001b[0mstep\u001b[0m\u001b[0;34m)\u001b[0m\u001b[0;34m\u001b[0m\u001b[0;34m\u001b[0m\u001b[0m\n\u001b[0;32m-> 1650\u001b[0;31m                             \u001b[0mtmp_logs\u001b[0m \u001b[0;34m=\u001b[0m \u001b[0mself\u001b[0m\u001b[0;34m.\u001b[0m\u001b[0mtrain_function\u001b[0m\u001b[0;34m(\u001b[0m\u001b[0miterator\u001b[0m\u001b[0;34m)\u001b[0m\u001b[0;34m\u001b[0m\u001b[0;34m\u001b[0m\u001b[0m\n\u001b[0m\u001b[1;32m   1651\u001b[0m                             \u001b[0;32mif\u001b[0m \u001b[0mdata_handler\u001b[0m\u001b[0;34m.\u001b[0m\u001b[0mshould_sync\u001b[0m\u001b[0;34m:\u001b[0m\u001b[0;34m\u001b[0m\u001b[0;34m\u001b[0m\u001b[0m\n\u001b[1;32m   1652\u001b[0m                                 \u001b[0mcontext\u001b[0m\u001b[0;34m.\u001b[0m\u001b[0masync_wait\u001b[0m\u001b[0;34m(\u001b[0m\u001b[0;34m)\u001b[0m\u001b[0;34m\u001b[0m\u001b[0;34m\u001b[0m\u001b[0m\n",
            "\u001b[0;32m/usr/local/lib/python3.10/dist-packages/tensorflow/python/util/traceback_utils.py\u001b[0m in \u001b[0;36merror_handler\u001b[0;34m(*args, **kwargs)\u001b[0m\n\u001b[1;32m    148\u001b[0m     \u001b[0mfiltered_tb\u001b[0m \u001b[0;34m=\u001b[0m \u001b[0;32mNone\u001b[0m\u001b[0;34m\u001b[0m\u001b[0;34m\u001b[0m\u001b[0m\n\u001b[1;32m    149\u001b[0m     \u001b[0;32mtry\u001b[0m\u001b[0;34m:\u001b[0m\u001b[0;34m\u001b[0m\u001b[0;34m\u001b[0m\u001b[0m\n\u001b[0;32m--> 150\u001b[0;31m       \u001b[0;32mreturn\u001b[0m \u001b[0mfn\u001b[0m\u001b[0;34m(\u001b[0m\u001b[0;34m*\u001b[0m\u001b[0margs\u001b[0m\u001b[0;34m,\u001b[0m \u001b[0;34m**\u001b[0m\u001b[0mkwargs\u001b[0m\u001b[0;34m)\u001b[0m\u001b[0;34m\u001b[0m\u001b[0;34m\u001b[0m\u001b[0m\n\u001b[0m\u001b[1;32m    151\u001b[0m     \u001b[0;32mexcept\u001b[0m \u001b[0mException\u001b[0m \u001b[0;32mas\u001b[0m \u001b[0me\u001b[0m\u001b[0;34m:\u001b[0m\u001b[0;34m\u001b[0m\u001b[0;34m\u001b[0m\u001b[0m\n\u001b[1;32m    152\u001b[0m       \u001b[0mfiltered_tb\u001b[0m \u001b[0;34m=\u001b[0m \u001b[0m_process_traceback_frames\u001b[0m\u001b[0;34m(\u001b[0m\u001b[0me\u001b[0m\u001b[0;34m.\u001b[0m\u001b[0m__traceback__\u001b[0m\u001b[0;34m)\u001b[0m\u001b[0;34m\u001b[0m\u001b[0;34m\u001b[0m\u001b[0m\n",
            "\u001b[0;32m/usr/local/lib/python3.10/dist-packages/tensorflow/python/eager/polymorphic_function/polymorphic_function.py\u001b[0m in \u001b[0;36m__call__\u001b[0;34m(self, *args, **kwds)\u001b[0m\n\u001b[1;32m    878\u001b[0m \u001b[0;34m\u001b[0m\u001b[0m\n\u001b[1;32m    879\u001b[0m       \u001b[0;32mwith\u001b[0m \u001b[0mOptionalXlaContext\u001b[0m\u001b[0;34m(\u001b[0m\u001b[0mself\u001b[0m\u001b[0;34m.\u001b[0m\u001b[0m_jit_compile\u001b[0m\u001b[0;34m)\u001b[0m\u001b[0;34m:\u001b[0m\u001b[0;34m\u001b[0m\u001b[0;34m\u001b[0m\u001b[0m\n\u001b[0;32m--> 880\u001b[0;31m         \u001b[0mresult\u001b[0m \u001b[0;34m=\u001b[0m \u001b[0mself\u001b[0m\u001b[0;34m.\u001b[0m\u001b[0m_call\u001b[0m\u001b[0;34m(\u001b[0m\u001b[0;34m*\u001b[0m\u001b[0margs\u001b[0m\u001b[0;34m,\u001b[0m \u001b[0;34m**\u001b[0m\u001b[0mkwds\u001b[0m\u001b[0;34m)\u001b[0m\u001b[0;34m\u001b[0m\u001b[0;34m\u001b[0m\u001b[0m\n\u001b[0m\u001b[1;32m    881\u001b[0m \u001b[0;34m\u001b[0m\u001b[0m\n\u001b[1;32m    882\u001b[0m       \u001b[0mnew_tracing_count\u001b[0m \u001b[0;34m=\u001b[0m \u001b[0mself\u001b[0m\u001b[0;34m.\u001b[0m\u001b[0mexperimental_get_tracing_count\u001b[0m\u001b[0;34m(\u001b[0m\u001b[0;34m)\u001b[0m\u001b[0;34m\u001b[0m\u001b[0;34m\u001b[0m\u001b[0m\n",
            "\u001b[0;32m/usr/local/lib/python3.10/dist-packages/tensorflow/python/eager/polymorphic_function/polymorphic_function.py\u001b[0m in \u001b[0;36m_call\u001b[0;34m(self, *args, **kwds)\u001b[0m\n\u001b[1;32m    910\u001b[0m       \u001b[0;31m# In this case we have created variables on the first call, so we run the\u001b[0m\u001b[0;34m\u001b[0m\u001b[0;34m\u001b[0m\u001b[0m\n\u001b[1;32m    911\u001b[0m       \u001b[0;31m# defunned version which is guaranteed to never create variables.\u001b[0m\u001b[0;34m\u001b[0m\u001b[0;34m\u001b[0m\u001b[0m\n\u001b[0;32m--> 912\u001b[0;31m       \u001b[0;32mreturn\u001b[0m \u001b[0mself\u001b[0m\u001b[0;34m.\u001b[0m\u001b[0m_no_variable_creation_fn\u001b[0m\u001b[0;34m(\u001b[0m\u001b[0;34m*\u001b[0m\u001b[0margs\u001b[0m\u001b[0;34m,\u001b[0m \u001b[0;34m**\u001b[0m\u001b[0mkwds\u001b[0m\u001b[0;34m)\u001b[0m  \u001b[0;31m# pylint: disable=not-callable\u001b[0m\u001b[0;34m\u001b[0m\u001b[0;34m\u001b[0m\u001b[0m\n\u001b[0m\u001b[1;32m    913\u001b[0m     \u001b[0;32melif\u001b[0m \u001b[0mself\u001b[0m\u001b[0;34m.\u001b[0m\u001b[0m_variable_creation_fn\u001b[0m \u001b[0;32mis\u001b[0m \u001b[0;32mnot\u001b[0m \u001b[0;32mNone\u001b[0m\u001b[0;34m:\u001b[0m\u001b[0;34m\u001b[0m\u001b[0;34m\u001b[0m\u001b[0m\n\u001b[1;32m    914\u001b[0m       \u001b[0;31m# Release the lock early so that multiple threads can perform the call\u001b[0m\u001b[0;34m\u001b[0m\u001b[0;34m\u001b[0m\u001b[0m\n",
            "\u001b[0;32m/usr/local/lib/python3.10/dist-packages/tensorflow/python/eager/polymorphic_function/tracing_compiler.py\u001b[0m in \u001b[0;36m__call__\u001b[0;34m(self, *args, **kwargs)\u001b[0m\n\u001b[1;32m    132\u001b[0m       (concrete_function,\n\u001b[1;32m    133\u001b[0m        filtered_flat_args) = self._maybe_define_function(args, kwargs)\n\u001b[0;32m--> 134\u001b[0;31m     return concrete_function._call_flat(\n\u001b[0m\u001b[1;32m    135\u001b[0m         filtered_flat_args, captured_inputs=concrete_function.captured_inputs)  # pylint: disable=protected-access\n\u001b[1;32m    136\u001b[0m \u001b[0;34m\u001b[0m\u001b[0m\n",
            "\u001b[0;32m/usr/local/lib/python3.10/dist-packages/tensorflow/python/eager/polymorphic_function/monomorphic_function.py\u001b[0m in \u001b[0;36m_call_flat\u001b[0;34m(self, args, captured_inputs, cancellation_manager)\u001b[0m\n\u001b[1;32m   1743\u001b[0m         and executing_eagerly):\n\u001b[1;32m   1744\u001b[0m       \u001b[0;31m# No tape is watching; skip to running the function.\u001b[0m\u001b[0;34m\u001b[0m\u001b[0;34m\u001b[0m\u001b[0m\n\u001b[0;32m-> 1745\u001b[0;31m       return self._build_call_outputs(self._inference_function.call(\n\u001b[0m\u001b[1;32m   1746\u001b[0m           ctx, args, cancellation_manager=cancellation_manager))\n\u001b[1;32m   1747\u001b[0m     forward_backward = self._select_forward_and_backward_functions(\n",
            "\u001b[0;32m/usr/local/lib/python3.10/dist-packages/tensorflow/python/eager/polymorphic_function/monomorphic_function.py\u001b[0m in \u001b[0;36mcall\u001b[0;34m(self, ctx, args, cancellation_manager)\u001b[0m\n\u001b[1;32m    376\u001b[0m       \u001b[0;32mwith\u001b[0m \u001b[0m_InterpolateFunctionError\u001b[0m\u001b[0;34m(\u001b[0m\u001b[0mself\u001b[0m\u001b[0;34m)\u001b[0m\u001b[0;34m:\u001b[0m\u001b[0;34m\u001b[0m\u001b[0;34m\u001b[0m\u001b[0m\n\u001b[1;32m    377\u001b[0m         \u001b[0;32mif\u001b[0m \u001b[0mcancellation_manager\u001b[0m \u001b[0;32mis\u001b[0m \u001b[0;32mNone\u001b[0m\u001b[0;34m:\u001b[0m\u001b[0;34m\u001b[0m\u001b[0;34m\u001b[0m\u001b[0m\n\u001b[0;32m--> 378\u001b[0;31m           outputs = execute.execute(\n\u001b[0m\u001b[1;32m    379\u001b[0m               \u001b[0mstr\u001b[0m\u001b[0;34m(\u001b[0m\u001b[0mself\u001b[0m\u001b[0;34m.\u001b[0m\u001b[0msignature\u001b[0m\u001b[0;34m.\u001b[0m\u001b[0mname\u001b[0m\u001b[0;34m)\u001b[0m\u001b[0;34m,\u001b[0m\u001b[0;34m\u001b[0m\u001b[0;34m\u001b[0m\u001b[0m\n\u001b[1;32m    380\u001b[0m               \u001b[0mnum_outputs\u001b[0m\u001b[0;34m=\u001b[0m\u001b[0mself\u001b[0m\u001b[0;34m.\u001b[0m\u001b[0m_num_outputs\u001b[0m\u001b[0;34m,\u001b[0m\u001b[0;34m\u001b[0m\u001b[0;34m\u001b[0m\u001b[0m\n",
            "\u001b[0;32m/usr/local/lib/python3.10/dist-packages/tensorflow/python/eager/execute.py\u001b[0m in \u001b[0;36mquick_execute\u001b[0;34m(op_name, num_outputs, inputs, attrs, ctx, name)\u001b[0m\n\u001b[1;32m     50\u001b[0m   \u001b[0;32mtry\u001b[0m\u001b[0;34m:\u001b[0m\u001b[0;34m\u001b[0m\u001b[0;34m\u001b[0m\u001b[0m\n\u001b[1;32m     51\u001b[0m     \u001b[0mctx\u001b[0m\u001b[0;34m.\u001b[0m\u001b[0mensure_initialized\u001b[0m\u001b[0;34m(\u001b[0m\u001b[0;34m)\u001b[0m\u001b[0;34m\u001b[0m\u001b[0;34m\u001b[0m\u001b[0m\n\u001b[0;32m---> 52\u001b[0;31m     tensors = pywrap_tfe.TFE_Py_Execute(ctx._handle, device_name, op_name,\n\u001b[0m\u001b[1;32m     53\u001b[0m                                         inputs, attrs, num_outputs)\n\u001b[1;32m     54\u001b[0m   \u001b[0;32mexcept\u001b[0m \u001b[0mcore\u001b[0m\u001b[0;34m.\u001b[0m\u001b[0m_NotOkStatusException\u001b[0m \u001b[0;32mas\u001b[0m \u001b[0me\u001b[0m\u001b[0;34m:\u001b[0m\u001b[0;34m\u001b[0m\u001b[0;34m\u001b[0m\u001b[0m\n",
            "\u001b[0;31mKeyboardInterrupt\u001b[0m: "
          ]
        }
      ]
    },
    {
      "cell_type": "code",
      "source": [
        "model.get_weights()"
      ],
      "metadata": {
        "colab": {
          "base_uri": "https://localhost:8080/"
        },
        "id": "qm7OSIiyyGt7",
        "outputId": "54ba239d-20a1-49bb-e9ec-25513994a415"
      },
      "id": "qm7OSIiyyGt7",
      "execution_count": null,
      "outputs": [
        {
          "output_type": "execute_result",
          "data": {
            "text/plain": [
              "[array([[ 9.7827077e-01,  8.3687454e-01, -3.1445226e-01,  3.3231878e-01,\n",
              "          1.2135670e+00, -4.7259378e-01,  3.5693377e-01, -2.5031972e-01,\n",
              "         -7.1440101e-01, -1.0815692e-01, -1.5282196e-01, -4.2236128e+00,\n",
              "          1.1724235e+00,  3.1201833e-01, -3.7240577e-01, -7.9962444e-01,\n",
              "         -6.3483119e-01, -5.8349401e-01, -1.3487974e+00, -1.2473780e+00,\n",
              "         -7.2183609e-01, -1.0307450e+00, -1.2402753e+00,  1.1744138e+00,\n",
              "          7.5210756e-01,  3.9296844e+00, -6.1249828e-01, -5.5637360e-01,\n",
              "         -9.6342564e-03,  9.3121417e-02,  8.3874601e-01,  2.3590371e-01,\n",
              "         -3.0709523e-01,  2.9365250e-01, -1.2061309e+00, -1.3599634e-02,\n",
              "          1.1853189e+00, -6.6695881e-01,  4.3887767e-01,  5.1950234e-01,\n",
              "          2.1920719e+00, -9.6879053e-01, -4.9307424e-01,  4.9331567e-01,\n",
              "         -1.6885971e+00, -4.3007898e-01, -3.8920250e+00, -8.3534968e-01,\n",
              "          1.2239305e+00,  1.0662055e-01, -1.2082852e+00, -4.3157658e-01,\n",
              "          1.4936638e+00, -1.7600927e+00,  2.0350523e+00,  9.5946097e-01,\n",
              "          6.8054330e-01, -1.2995431e-01, -8.9816928e-01, -5.5405807e-01,\n",
              "          4.4246662e-01,  6.6107698e-02, -3.7092123e+00,  1.4498470e+00],\n",
              "        [-7.9682656e-02, -5.2843243e-01,  9.5908010e-01,  6.9551122e-01,\n",
              "         -1.6403757e-01, -2.1733718e-01,  2.3664747e-01, -7.7609289e-01,\n",
              "         -8.5292315e-01, -2.2690105e-01,  7.9725307e-01, -1.7108270e+00,\n",
              "         -1.0265924e-01,  1.0561162e+00, -2.5494594e-02, -1.4122486e-02,\n",
              "         -7.0245844e-01, -7.2283930e-01, -5.3407604e-01,  2.0065609e-01,\n",
              "         -2.7108535e-01, -3.0208591e-01, -2.1245067e-01,  2.9195279e-01,\n",
              "         -6.1460155e-01,  2.3069489e+00, -1.6987920e-01, -2.7877182e-01,\n",
              "         -5.6200099e-01,  4.2878520e-01,  4.1859415e-01,  1.2785324e+00,\n",
              "         -6.9586408e-01,  2.7897978e-01, -3.7780634e-01, -9.3332386e-01,\n",
              "          3.9183676e-01, -1.0795236e-01,  4.9426675e-01, -8.7130308e-02,\n",
              "          1.1215969e+00, -1.3812438e+00,  4.0284485e-02, -5.5794531e-01,\n",
              "          1.2358358e-01, -3.7086505e-01, -1.0664400e+00, -2.6621428e-01,\n",
              "         -1.1588769e-01, -1.3174343e-01, -7.8690253e-02,  1.3908262e+00,\n",
              "          9.0081108e-01,  1.0120155e+00,  8.1221217e-01,  9.1540277e-01,\n",
              "         -7.0799446e-01, -5.0637484e-01, -5.7620764e-01, -7.9273677e-01,\n",
              "         -2.0641083e-01, -9.2939556e-01,  2.1947671e-01,  8.2826996e-01],\n",
              "        [ 1.5491904e-01, -1.6277467e+00,  1.5213163e+00, -1.9540513e+00,\n",
              "         -1.7363250e+00, -6.7912197e-01, -2.0950970e-01, -1.6411114e-01,\n",
              "         -9.7672606e-01, -8.8966918e-01, -1.0329282e+00, -3.0211384e+00,\n",
              "          4.8200926e-01, -1.0985489e+00,  1.8288095e-01, -3.0616093e-01,\n",
              "         -9.3480897e-01,  1.9987038e+00, -2.1411591e+00,  1.4600289e-01,\n",
              "          2.5399952e+00,  3.6560091e-01, -1.6121587e-01,  4.3610942e-01,\n",
              "         -1.1341567e+00,  6.2301886e-01, -8.0182093e-01, -6.8458915e-01,\n",
              "         -8.8717341e-01,  1.4152824e+00,  1.1074630e+00, -1.1655130e+00,\n",
              "         -9.3189621e-01,  1.1718941e+00,  2.5588849e-01, -7.0121527e-01,\n",
              "          1.2791238e+00, -1.7353773e-02,  1.8247641e+00,  1.0116242e+00,\n",
              "          7.2761290e-02, -8.1131220e-01,  1.3551730e-01,  1.0762415e+00,\n",
              "         -1.1464164e-01, -3.8141799e-01,  2.4274878e-01, -3.4312510e-01,\n",
              "          1.4230919e+00, -6.7900920e-01,  3.7158364e-01,  1.6760367e+00,\n",
              "         -1.7774006e+00, -1.4823586e+00,  5.2343398e-02,  6.5797728e-01,\n",
              "         -3.2187143e-01,  3.4599233e-01, -5.9644938e-01, -6.2150383e-01,\n",
              "          3.0889753e-01,  5.1860261e-01,  4.7992715e-01,  2.9782403e-01],\n",
              "        [-1.5375633e+00,  3.1188214e-01, -5.1082093e-01, -8.2803443e-02,\n",
              "         -6.1482596e-01, -1.1168230e+00, -3.1000483e-01, -4.3751323e-01,\n",
              "          2.4608655e-01,  2.2439194e-01, -1.7667207e+00, -6.1020684e-01,\n",
              "         -7.3977476e-01, -1.3636130e+00, -8.1016827e-01, -2.6761389e-01,\n",
              "         -5.7364649e-01, -4.7652781e-01, -5.9176552e-01, -9.2210066e-01,\n",
              "          2.7090392e-01,  1.3755846e-01, -3.5718009e-01,  3.9930281e-01,\n",
              "         -1.4006338e-02,  3.4950033e-02,  2.7737552e-01,  1.0118382e+00,\n",
              "         -3.3654380e-01,  5.7337582e-01,  5.0408888e-01, -1.8647033e+00,\n",
              "         -1.0046065e+00, -4.1052753e-01,  1.3230340e+00, -2.0532384e+00,\n",
              "          2.1341881e-01, -4.4869685e-01, -1.0562899e-01,  5.5789102e-02,\n",
              "         -1.3065240e-01, -9.2936277e-01,  3.6411095e-01, -1.5228398e-01,\n",
              "          3.5194331e-01, -2.2342741e-01,  1.9030346e+00,  4.2865280e-02,\n",
              "          7.4805886e-01, -8.6367369e-02,  1.0367399e+00,  6.1045498e-01,\n",
              "         -1.2156248e+00, -1.3648946e+00,  1.4147485e+00, -1.0852059e+00,\n",
              "         -1.3337792e+00,  1.7590961e+00, -7.2109842e-01, -6.0972661e-01,\n",
              "         -3.2232639e-01, -1.5634381e+00, -3.7939084e-01,  5.8674747e-01],\n",
              "        [-7.6428413e-02,  9.5034355e-01,  7.2032106e-01,  5.6649446e-01,\n",
              "          1.0442934e+00,  7.2949246e-02,  7.7752298e-01,  1.5472923e-01,\n",
              "          2.2440189e-01, -5.6829858e-01, -1.1096712e-01,  1.1022973e+00,\n",
              "         -6.1550617e-01,  1.0204716e+00, -1.4796376e+00, -4.2057276e-01,\n",
              "         -1.4781736e+00, -3.1411514e-01, -1.1627132e+00, -9.8145336e-01,\n",
              "         -6.0874220e-02, -1.2070900e+00, -2.9156473e-01, -1.1537497e+00,\n",
              "         -6.0051873e-02,  3.1364831e-01, -2.7266794e-01, -2.2236349e-01,\n",
              "          1.2185907e-01,  3.4692204e-01, -1.3484809e+00,  1.4519989e+00,\n",
              "         -1.2042511e+00, -3.7291430e-02, -8.6357510e-01, -1.2739046e+00,\n",
              "         -1.0696552e+00, -1.0652474e+00, -1.3074304e+00, -6.6344135e-02,\n",
              "         -6.9858629e-01, -2.9230431e-01, -1.5979580e+00, -1.0174152e+00,\n",
              "          8.3410227e-01, -2.1775529e-02,  2.1289902e+00, -1.1879251e+00,\n",
              "         -1.2662873e+00, -1.6427588e-01, -1.5456312e+00,  1.0164157e+00,\n",
              "          2.0925575e-01, -1.2718652e+00, -6.6323048e-01,  2.9444015e-01,\n",
              "          1.3282900e+00,  3.1178361e-01, -8.7800694e-01, -2.5367281e+00,\n",
              "          4.3225017e-01, -1.4666696e+00,  1.1745890e+00, -1.1798643e+00],\n",
              "        [ 7.2410542e-01,  3.9349097e-01,  1.1666590e-01,  9.6781284e-01,\n",
              "          1.0588846e+00, -1.5786043e-01,  9.7062004e-01, -9.1474837e-01,\n",
              "         -4.0961230e-01, -2.7552462e-01,  1.0681953e+00,  1.3986112e+00,\n",
              "         -1.0752767e+00,  2.9807809e-01, -7.1256649e-01,  5.5775642e-02,\n",
              "         -9.8994756e-01, -1.5961663e-01,  1.7716220e-01, -7.7605057e-01,\n",
              "          5.1725084e-01, -8.8847524e-01,  6.4212523e-02, -4.9159485e-01,\n",
              "          1.1818994e+00,  9.1102302e-01, -1.1557956e+00,  1.4354721e-01,\n",
              "         -9.1140771e-01,  4.2842659e-01, -7.3651606e-01,  1.5099277e+00,\n",
              "          1.2645535e-01, -3.3330339e-01, -1.4142103e-01, -2.0199478e+00,\n",
              "         -5.1138049e-01, -2.3615882e+00, -7.8740734e-01, -2.1244371e-01,\n",
              "         -2.1719110e-01, -1.0549657e+00, -7.9887837e-01, -6.2458140e-01,\n",
              "          5.8261210e-01, -6.2451386e-01,  1.4110556e+00,  2.6684329e-02,\n",
              "         -7.0556337e-01, -6.4018178e-01,  1.4095700e-01,  7.5069916e-01,\n",
              "          1.4312865e+00, -5.1564090e-02,  1.0770733e+00,  9.7426782e-05,\n",
              "         -1.9819924e-01, -1.1320949e-01,  7.1881104e-01, -1.5191013e+00,\n",
              "          1.8215623e-01, -2.7364820e-01,  9.1484416e-01, -4.2740804e-01]],\n",
              "       dtype=float32),\n",
              " array([ 0.36028275,  1.0526935 ,  0.05977891,  0.58037114,  0.71541715,\n",
              "        -0.22169563, -0.14108232, -0.5131129 , -0.5131124 ,  0.        ,\n",
              "         0.42920414, -0.16231723,  0.28992298, -0.18489097, -0.60053813,\n",
              "         0.        , -0.98390514,  0.89887416,  1.0726042 , -0.35147718,\n",
              "         0.9110914 , -0.6005435 , -0.9008467 ,  0.24599414,  0.59776205,\n",
              "         1.2436316 , -0.44282836, -0.73203075,  0.        ,  0.26772207,\n",
              "        -0.36374816,  0.296531  , -0.51311284,  0.69762844, -0.2768647 ,\n",
              "        -2.0395188 , -0.36900544, -1.6104214 ,  0.4135587 ,  0.5230966 ,\n",
              "         0.6237611 , -0.8798903 , -0.60051733,  0.7927904 ,  0.06835809,\n",
              "        -0.72554034,  1.890926  , -0.59439474,  0.4899443 ,  0.        ,\n",
              "        -0.6286495 ,  0.7260516 ,  0.35571167,  0.8619094 ,  1.4683876 ,\n",
              "         1.515169  ,  0.86323404,  0.59458166,  0.        , -1.6087533 ,\n",
              "         0.49502134, -0.6678681 , -0.5759673 ,  0.9498814 ], dtype=float32),\n",
              " array([ 0.02092422,  0.8456271 ,  1.220064  ,  1.4694949 ,  1.6949542 ,\n",
              "         0.26475158,  0.06783896,  0.48689103,  0.7161204 ,  1.        ,\n",
              "         1.8010395 ,  1.7400169 ,  0.326209  ,  1.8939594 ,  0.3994586 ,\n",
              "         1.        ,  0.01964871,  1.975762  ,  1.8018365 ,  1.8514601 ,\n",
              "         2.4081142 ,  0.39946535,  0.06778916,  0.22253853,  0.22068141,\n",
              "        -0.33628148,  0.48705187,  0.171317  ,  1.        ,  0.53151774,\n",
              "         1.7739861 ,  2.343553  ,  0.4869109 , -0.10729472,  0.9782499 ,\n",
              "        -0.6132448 ,  1.79603   , -0.6103002 ,  0.59198684,  0.13163213,\n",
              "         1.5068432 ,  1.8754833 ,  1.6005384 ,  0.9113307 ,  0.7730333 ,\n",
              "         0.19265218,  1.8762999 ,  0.41499093,  2.1138935 ,  1.        ,\n",
              "         0.2560708 ,  1.172015  ,  1.6237602 ,  1.6470834 ,  1.3601123 ,\n",
              "         0.2257761 ,  1.7246132 ,  0.21125951,  1.        , -0.6099564 ,\n",
              "        -0.20475374,  1.4227357 ,  0.2025389 ,  1.6190614 ], dtype=float32),\n",
              " array([ 0.6342021 , -0.4051116 , -0.30880737, -0.38811386, -0.30783784,\n",
              "         0.732294  , -0.48353896, -0.49036622, -0.0788153 , -0.55540055,\n",
              "         0.2883405 , -0.8725235 ,  0.47233403, -0.10358898,  0.70151234,\n",
              "         0.89782375, -0.41147035, -0.05854216,  0.5791597 ,  0.12934297,\n",
              "         0.43785208,  0.22213179, -0.34403333, -0.13312618,  0.7421236 ,\n",
              "        -0.621105  ,  0.7025505 , -0.42693847,  1.1160442 , -0.02285783,\n",
              "         0.40245312,  0.60114634, -0.5856369 , -0.52912617,  0.86487144,\n",
              "        -0.63129145,  0.23804045, -0.28688657,  1.0618452 ,  0.66478866,\n",
              "        -0.7029275 , -0.00394253,  0.46683338,  0.38380325, -0.19699991,\n",
              "        -0.7934565 ,  0.48166126, -0.4247676 ,  0.27333072, -0.258055  ,\n",
              "        -0.2348335 ,  0.79009026, -0.8211446 , -0.03515218, -0.556033  ,\n",
              "         0.7596288 , -0.61414015, -0.31082508, -0.585053  ,  0.2123576 ,\n",
              "        -0.4962237 ,  0.57754415, -0.41389403,  0.16752154], dtype=float32),\n",
              " array([1.3852758e+00, 9.2495543e-01, 1.4811916e+00, 5.3287387e-01,\n",
              "        1.2213633e+00, 4.2408888e-06, 6.6838187e-01, 2.3205553e-06,\n",
              "        1.2117455e-05, 0.0000000e+00, 3.1033680e-01, 1.9805691e-01,\n",
              "        1.1030109e+00, 3.9533132e-01, 1.3649804e-06, 0.0000000e+00,\n",
              "        6.8055300e-08, 1.0031431e+00, 3.2809071e-02, 3.4379882e-05,\n",
              "        1.7559286e+00, 1.7018242e-07, 1.9454819e-05, 1.2475204e+00,\n",
              "        5.0481892e-01, 5.6573491e+00, 4.0686228e-07, 4.5685949e-05,\n",
              "        0.0000000e+00, 1.6810198e+00, 7.4235743e-01, 1.3181322e+00,\n",
              "        1.2342058e-09, 1.7132922e+00, 7.3501586e-05, 4.1967698e-05,\n",
              "        1.2723258e+00, 5.1249644e-06, 1.5682285e+00, 1.4711791e+00,\n",
              "        3.0132585e+00, 1.8938783e-08, 8.1909576e-07, 1.0526013e+00,\n",
              "        3.2723434e-02, 1.8672314e-05, 1.4122242e-01, 4.6647710e-06,\n",
              "        1.8303522e+00, 0.0000000e+00, 1.0948526e-05, 2.6796367e+00,\n",
              "        1.5280060e+00, 9.3595320e-03, 3.7165203e+00, 3.1946840e+00,\n",
              "        1.2216992e+00, 5.2459180e-01, 0.0000000e+00, 6.0704933e-06,\n",
              "        1.1294129e+00, 5.4586279e-05, 1.2498687e-02, 2.4235206e+00],\n",
              "       dtype=float32),\n",
              " array([0.01736982, 0.00820878, 0.01399275, 0.01732817, 0.00748626,\n",
              "        0.00505964, 0.00609561, 0.00505958, 0.00505979, 0.00505955,\n",
              "        0.01362946, 0.01412102, 0.01981633, 0.00931097, 0.00506015,\n",
              "        0.00505955, 0.00505955, 0.01355247, 0.00868487, 0.00506123,\n",
              "        0.01855737, 0.00505958, 0.00505997, 0.02379752, 0.00688774,\n",
              "        0.16873227, 0.00505966, 0.00506338, 0.00505955, 0.0179642 ,\n",
              "        0.01224126, 0.01345357, 0.00505955, 0.01775568, 0.0050992 ,\n",
              "        0.00507014, 0.02556182, 0.00505971, 0.03420974, 0.02012724,\n",
              "        0.05973711, 0.00505955, 0.00505983, 0.01860828, 0.00928069,\n",
              "        0.00505998, 0.08942915, 0.00505966, 0.0459021 , 0.00505955,\n",
              "        0.00506151, 0.0172695 , 0.00971837, 0.00867711, 0.05080444,\n",
              "        0.02733988, 0.00926394, 0.0064568 , 0.00505955, 0.00506354,\n",
              "        0.0096245 , 0.00505989, 0.00579237, 0.03450093], dtype=float32),\n",
              " array([[-0.57283694,  0.34996283,  0.404382  , ...,  0.40735415,\n",
              "          0.68538487,  0.37084413],\n",
              "        [ 0.45114896, -1.0581229 , -0.42791975, ..., -0.41479874,\n",
              "         -0.6111017 , -0.7032196 ],\n",
              "        [ 1.1814973 , -0.2642457 ,  0.4156939 , ..., -0.00324926,\n",
              "          0.8258255 ,  0.5151028 ],\n",
              "        ...,\n",
              "        [-1.0270607 ,  0.47416982, -0.44763675, ...,  0.8623549 ,\n",
              "          0.2990487 ,  0.53037834],\n",
              "        [ 0.2702854 , -0.33776602,  0.5082587 , ...,  1.0579714 ,\n",
              "         -0.22707525, -0.68032324],\n",
              "        [-0.761411  ,  0.43802878,  0.31420013, ...,  0.86032444,\n",
              "          0.87026846, -0.22720224]], dtype=float32),\n",
              " array([ 0.8313776 ,  0.24096887, -0.53216606, -0.22591417,  0.9797529 ,\n",
              "         0.4638861 ,  0.78590584,  0.3926357 , -0.05395622,  0.6897164 ,\n",
              "         0.01729162,  0.4659011 ,  0.4350806 ,  0.26125208,  0.5048442 ,\n",
              "         0.52607054,  0.6209117 , -0.18273292,  0.14988427,  0.7743845 ,\n",
              "        -0.675523  , -0.35806865,  0.6295311 ,  0.66608274,  1.065458  ,\n",
              "        -0.5276302 , -0.16954367,  0.9705212 ,  0.9275393 ,  0.86038345,\n",
              "         0.31837186,  0.84204054, -0.0381928 , -0.81232035, -0.61660874,\n",
              "         0.65709984,  0.5307778 , -0.5200279 ,  0.5952386 , -0.73022205,\n",
              "        -0.6511123 , -0.60836524, -0.39556378, -0.30041322, -0.5122184 ,\n",
              "        -0.7006499 ,  0.39569104,  0.5788989 , -0.55698013, -0.7577472 ,\n",
              "        -0.02113984, -0.23516694,  0.22177017, -0.8164499 , -0.3776827 ,\n",
              "        -0.01776858,  0.5267847 ,  0.45896852,  0.8879205 ,  0.6111834 ,\n",
              "         0.67147934,  0.4839891 , -0.02637753, -0.73573184, -0.88772416,\n",
              "         0.45187294,  0.63302577,  0.5302895 ,  0.78076285,  0.8388104 ,\n",
              "         0.39536616, -0.7303826 , -0.29735982,  0.41860017,  0.37384683,\n",
              "         0.70897573,  0.14822587,  0.6381374 ,  0.2916499 , -0.7225686 ,\n",
              "         0.52789897, -0.51405853, -0.28213155, -0.52325135, -0.6689532 ,\n",
              "        -0.0092624 , -0.4831264 ,  0.32010698,  0.4466134 , -0.87992364,\n",
              "         0.700492  ,  0.23961583,  0.1071801 ,  0.9380995 , -0.7369797 ,\n",
              "        -0.7525942 , -0.7936056 , -0.96892047,  0.4087038 , -0.5341783 ,\n",
              "         0.87219536,  0.27578324,  0.3123576 ,  0.44522914,  0.52221745,\n",
              "         0.01934187,  0.8459468 ,  0.5234338 ,  0.33786035,  0.8144154 ,\n",
              "         0.15652633,  0.5636965 ,  0.37397638,  0.55915445, -0.29640013,\n",
              "        -0.2280096 , -0.63078046,  0.7736398 ,  0.8201646 ,  0.58450645,\n",
              "        -0.524177  , -0.78986776,  0.93956906, -0.6592151 ,  0.45027462,\n",
              "         0.42264608, -0.43079144,  0.72295827, -0.21784922, -0.6563618 ,\n",
              "         0.54661995,  0.6629955 , -0.82076985, -0.71226066, -0.9635481 ,\n",
              "         0.8427607 , -0.28581506,  0.6950013 ,  1.0412056 ,  0.84659976,\n",
              "        -0.23448338, -0.65804756,  0.418569  ,  0.71472144, -0.07531606,\n",
              "        -0.3795153 ,  0.57638395,  0.73716706,  0.68122107, -0.31897464,\n",
              "         0.59313816, -0.5363237 ,  0.61981195,  0.14516477, -0.98734933,\n",
              "         0.60287595, -0.7520133 , -0.01838429,  0.45137772,  0.47984862,\n",
              "         1.12676   ,  0.56339693,  0.5870073 ,  0.47484016,  0.7264474 ,\n",
              "         0.8693892 ,  0.96499467,  0.6118706 , -0.5780763 ,  0.6081731 ,\n",
              "        -0.1235064 ,  0.3060401 , -0.530028  ,  0.78533244, -0.81774276,\n",
              "         0.71637976, -0.9297866 ,  0.6447156 , -0.7728252 , -0.44045803,\n",
              "        -0.75963837,  0.65873724, -0.49864197, -0.70485646,  0.4349836 ,\n",
              "        -0.52590424,  0.588759  ,  0.44411632,  0.5826546 , -0.7346348 ,\n",
              "        -2.026033  , -0.57845587, -0.9036493 ,  0.45518214,  0.60813624,\n",
              "         0.45351845, -1.0321472 , -0.66738474,  0.7414048 ,  0.1344328 ,\n",
              "        -0.5223529 ,  0.15546082,  0.4345801 ,  0.48666996,  0.88060397,\n",
              "         0.74215704,  0.43573147,  0.83615935,  0.12212891, -0.77427465,\n",
              "        -0.09057122,  0.519665  , -0.5399688 , -0.9722037 , -0.7239558 ,\n",
              "         0.41487232,  0.50655746, -0.35357106, -0.58084404,  0.53509104,\n",
              "        -0.4608731 , -0.68450516,  0.14585154,  0.6272625 ,  0.10158717,\n",
              "         0.67192507,  0.8484621 ,  0.21778873,  0.47181445, -0.5105632 ,\n",
              "        -0.61325973,  0.4033703 , -0.52631104,  0.5276253 ,  0.5398769 ,\n",
              "         0.4253381 ,  0.48384222, -0.45907137,  0.5940961 ,  0.2242434 ,\n",
              "         0.36611262,  0.28415146, -0.74229866,  0.18471724,  1.0786889 ,\n",
              "         0.92754287,  0.35771364,  0.971181  ,  0.1307505 , -0.51169807,\n",
              "        -0.6010095 ,  0.3297337 ,  0.38346177, -0.68137276,  0.3820677 ,\n",
              "         0.6737798 ], dtype=float32),\n",
              " array([ 1.0673856 ,  1.1890713 ,  1.4796191 ,  2.018072  ,  1.7281102 ,\n",
              "         2.0297534 ,  0.9818473 ,  1.3818084 ,  0.5419341 ,  0.4506249 ,\n",
              "         0.19202611,  2.5701962 ,  2.0207548 ,  1.2310094 ,  1.837321  ,\n",
              "         1.3121332 ,  1.3300953 ,  0.71712846,  0.72066605,  0.964958  ,\n",
              "         0.19387008,  0.17720355,  0.2684211 ,  1.3357148 ,  0.5986903 ,\n",
              "         0.333122  ,  1.1126527 ,  2.1277235 ,  0.6343912 ,  0.5916857 ,\n",
              "         0.45054188,  0.7796235 ,  1.4562137 ,  0.3187218 ,  1.1444612 ,\n",
              "         0.63065076,  0.6175745 ,  0.41735527,  1.4327556 ,  0.257682  ,\n",
              "        -0.16555998,  0.8659291 ,  1.3627276 ,  0.9503289 ,  0.19025682,\n",
              "         1.6884098 ,  0.44292653,  0.03835278,  0.12378472,  0.8540868 ,\n",
              "         0.56760234,  1.6694428 ,  2.5601723 ,  1.4375558 ,  0.31954417,\n",
              "         1.6312767 ,  1.8568187 ,  1.0776435 ,  0.2495261 ,  0.21393818,\n",
              "         0.4247783 ,  1.2442782 ,  2.0013413 ,  0.17397979,  0.921099  ,\n",
              "         1.1016502 ,  1.6077279 ,  0.29245487,  2.049683  ,  0.5781357 ,\n",
              "         1.229149  ,  0.92991894,  0.6564759 ,  0.80526274,  2.0560372 ,\n",
              "         1.3299478 ,  0.6182414 ,  2.0706735 ,  1.884308  , -0.06657748,\n",
              "         1.2689784 ,  0.41961813,  0.8075632 ,  0.47641605,  0.4290946 ,\n",
              "         1.1803138 ,  0.94604284,  2.2552025 ,  1.1429968 ,  0.12686634,\n",
              "         0.74713475,  1.7600029 ,  2.0001006 ,  1.5823035 ,  1.1798917 ,\n",
              "         0.10968109,  0.2961062 ,  1.1623304 ,  1.1513071 ,  0.27869135,\n",
              "         1.1151236 ,  0.77295226,  1.6969079 ,  1.5129671 ,  0.5149765 ,\n",
              "         0.44482166,  1.129015  ,  1.7095239 ,  0.9265993 ,  1.7168629 ,\n",
              "         1.0289154 ,  0.25349006,  2.2266846 ,  0.9703717 ,  0.2963992 ,\n",
              "         1.7084593 ,  1.0301181 ,  0.5659275 ,  0.9154552 ,  0.67557424,\n",
              "         0.5670482 ,  1.7642623 ,  0.856766  ,  0.5680286 ,  1.2740102 ,\n",
              "         0.9874931 ,  1.594447  ,  1.2846843 ,  1.6924324 ,  0.5126844 ,\n",
              "         0.6225984 ,  0.724088  ,  1.4461476 ,  1.1805484 ,  0.26126277,\n",
              "         2.0477357 , -0.09754091,  1.0080622 ,  0.657137  ,  0.6324233 ,\n",
              "         1.0674857 ,  0.07498939,  1.8695686 ,  1.8990449 ,  1.688946  ,\n",
              "        -0.23066592,  1.0943785 ,  0.6551403 ,  2.064918  ,  0.971942  ,\n",
              "         0.9859138 ,  0.442354  ,  0.4680581 ,  1.7279598 ,  0.25616685,\n",
              "         1.0067596 ,  0.86247414,  0.27558106,  1.5544527 ,  1.6483158 ,\n",
              "         1.5769342 ,  1.4239933 ,  0.95037705,  1.3877475 ,  0.4155519 ,\n",
              "         1.6955924 ,  0.6405542 ,  1.6145805 ,  0.79912907,  1.7326947 ,\n",
              "         2.2660482 ,  1.5815932 ,  0.6467682 ,  2.3516207 ,  1.1832731 ,\n",
              "         0.5833412 , -0.34722927,  1.6649776 ,  2.087507  ,  0.3801723 ,\n",
              "         0.6143985 ,  1.7805246 ,  0.16304204,  1.3539623 ,  1.4269861 ,\n",
              "         1.3456674 ,  1.9921936 ,  1.3766345 ,  1.4766138 ,  0.40454483,\n",
              "         1.5140971 ,  0.55317134,  0.8589857 ,  1.5322152 ,  1.0697678 ,\n",
              "         0.5636372 ,  0.7279099 ,  0.0959748 ,  1.8856565 ,  1.1691074 ,\n",
              "         1.368759  ,  2.4123683 ,  0.7155109 ,  0.4720968 ,  2.3027887 ,\n",
              "         0.2445853 ,  1.9105387 ,  1.0004581 ,  1.4234229 ,  0.22006756,\n",
              "         1.3794498 ,  1.9004923 ,  0.26041275,  1.4447584 ,  0.19706248,\n",
              "         0.5909637 ,  0.03332043,  0.7079837 ,  0.73259485,  0.7216375 ,\n",
              "         0.33487102,  0.5035729 ,  1.0140922 ,  0.940896  ,  1.1654032 ,\n",
              "         2.4218454 ,  1.1846293 , -0.11716942,  2.025927  ,  0.5051643 ,\n",
              "         1.7203691 ,  1.2514422 ,  1.1335218 ,  1.0315332 ,  0.7102332 ,\n",
              "         0.31657198,  0.4204262 ,  0.5597256 ,  1.5465232 ,  1.0376389 ,\n",
              "         2.0081208 ,  2.1902668 ,  0.48646802,  0.97586346,  1.7377081 ,\n",
              "         0.5255631 ,  1.3544834 ,  2.3219104 ,  1.3454969 ,  0.49370223,\n",
              "         0.4686669 ,  0.7754892 ,  0.61182284,  1.2517278 ,  0.6863073 ,\n",
              "         1.6752924 ], dtype=float32),\n",
              " array([-0.59916073, -0.7907076 , -0.6670534 , -0.8786479 ,  0.28859565,\n",
              "        -0.65640134, -0.03781345,  0.48930654, -0.25885528, -0.08566829,\n",
              "        -0.01096863,  0.19646248, -0.5866928 , -0.03175484, -1.2043661 ,\n",
              "        -1.0711815 , -1.5020374 ,  0.33206755, -0.14403425, -0.5374832 ,\n",
              "         0.4580324 ,  1.0391048 , -0.4120426 , -1.2493896 , -0.31333107,\n",
              "        -0.93486476, -0.05457672,  0.4820271 , -1.0837945 , -0.4838512 ,\n",
              "        -0.25973335, -0.98161787, -0.43466002,  0.0481462 ,  0.2213567 ,\n",
              "        -1.2679089 , -0.86189175, -0.5363659 , -0.6117951 ,  0.14245711,\n",
              "        -0.6005315 , -1.1753178 ,  0.44598064, -1.3680729 ,  0.24493925,\n",
              "        -1.0008658 , -0.8750829 , -0.62106436, -0.29251483,  0.23505552,\n",
              "        -0.55055684, -0.54549676, -1.0263124 , -0.41034892,  0.03752503,\n",
              "        -0.24207006, -0.46273574, -0.6810635 ,  0.3246412 , -0.40150458,\n",
              "        -0.30527776, -0.1308709 ,  0.3979294 ,  0.1741836 ,  0.02538708,\n",
              "         0.6228254 ,  0.02620336,  0.30502763,  0.5817452 ,  0.8030939 ,\n",
              "        -1.0434306 ,  0.20153706,  0.97206545, -1.3467985 , -1.0239625 ,\n",
              "        -0.70644486, -1.293563  , -0.26952893,  0.7719047 ,  0.3088501 ,\n",
              "        -0.6414445 , -0.4551477 , -0.9802402 , -0.47789446,  0.86793417,\n",
              "         0.5594768 ,  0.48176917, -1.2936437 , -0.698488  , -0.12678894,\n",
              "        -0.7771578 , -0.9877649 ,  0.13052528, -0.7693108 , -0.9343806 ,\n",
              "        -0.27026576, -0.83139855, -0.5429171 , -1.3009988 ,  0.6000442 ,\n",
              "        -1.0278069 , -1.1106335 ,  0.44270656, -1.1578411 , -0.58812803,\n",
              "        -0.60329735, -0.6904319 , -0.29087254,  0.34054613,  0.9740855 ,\n",
              "        -0.6309927 ,  0.1630625 , -0.89131945, -1.5218812 ,  0.1318873 ,\n",
              "        -1.0189296 , -0.42084882,  0.24249522, -0.7870537 , -0.622255  ,\n",
              "        -0.0187666 , -0.62473214, -0.7242187 , -0.61324924, -0.7032624 ,\n",
              "        -1.5748717 , -0.32389882,  0.47924972,  0.07342676, -0.91772735,\n",
              "        -0.9857613 ,  0.41487122, -1.0463535 , -0.6901551 , -0.41942114,\n",
              "        -0.5965926 , -0.30669025,  0.3265961 ,  0.34495586, -0.2661077 ,\n",
              "         0.65325785, -0.7858636 , -0.3732633 , -0.45951435, -0.33689564,\n",
              "        -1.0439026 , -1.0216923 , -0.7266471 , -0.88850075, -0.81538963,\n",
              "        -1.3931655 ,  0.91405815, -1.5232573 , -0.4586937 , -0.18237588,\n",
              "        -1.2360101 , -0.95786065, -0.6522264 , -0.55818266, -0.45946148,\n",
              "        -1.1525074 ,  0.53339344, -0.04697644,  0.38569254, -0.48851123,\n",
              "        -0.03783862, -0.20275325, -1.0659602 , -1.1939725 , -0.6049663 ,\n",
              "        -0.9347743 ,  0.53613734, -0.7076139 , -0.6410049 , -0.50408655,\n",
              "        -0.49047175, -0.46792504,  0.41703945, -0.7152419 , -0.1212818 ,\n",
              "        -0.10950195, -0.2673651 ,  1.105897  , -0.0400515 , -1.0769495 ,\n",
              "        -1.1636939 ,  0.14361666, -0.4475388 , -0.99858105, -0.24988744,\n",
              "        -0.21863016, -0.7343726 , -0.19524808, -1.0311512 ,  0.4502409 ,\n",
              "        -0.24437883, -1.4814734 ,  0.00530486,  0.05128212, -1.5680373 ,\n",
              "        -0.4102176 ,  0.22979404, -0.0812654 ,  0.3821297 ,  0.58712834,\n",
              "         0.4200694 , -0.44581294, -0.61606836, -0.00274959, -1.0252888 ,\n",
              "        -0.42139268,  0.15861261, -1.0321845 , -1.1211534 , -1.0191082 ,\n",
              "        -0.9206542 ,  0.39244327,  0.35586545, -1.1893071 , -1.385506  ,\n",
              "         0.17236048, -0.35310248,  0.42579165, -0.8831079 ,  0.26920667,\n",
              "         0.6334834 , -0.6066252 , -0.9852149 , -1.2877657 ,  0.71699053,\n",
              "         0.4983427 , -1.0274646 ,  0.03324554, -0.9897008 , -0.15297212,\n",
              "         0.3108687 ,  0.6075067 , -0.46444592, -0.93648994, -1.2501539 ,\n",
              "        -0.7786792 ,  0.63566494,  0.6413436 ,  0.33063185,  0.15455566,\n",
              "        -0.33862332,  1.108536  ,  0.31166857, -0.97934115, -0.24385686,\n",
              "         0.01212789, -0.8132378 , -0.58764786,  0.3009995 , -0.85936046,\n",
              "        -0.7980502 ], dtype=float32),\n",
              " array([5.5941606e+00, 1.2418367e+01, 2.8208060e+00, 7.9859142e+00,\n",
              "        7.7344666e+00, 8.9935112e+00, 3.0939123e-01, 2.5634160e+00,\n",
              "        5.1382923e+00, 5.5840449e+00, 6.0655642e-01, 9.2264643e+00,\n",
              "        9.3689232e+00, 5.7023096e+00, 8.3358555e+00, 8.1642532e+00,\n",
              "        7.6228452e+00, 9.3669233e+00, 1.4315479e+01, 1.8593280e+00,\n",
              "        1.1123982e-01, 2.1000078e-01, 7.5140886e+00, 6.7455392e+00,\n",
              "        1.3406750e+01, 2.5428236e+00, 3.3513379e+00, 6.7991590e+00,\n",
              "        9.6023998e+00, 5.8683276e+00, 5.6160336e+00, 1.2762242e+01,\n",
              "        1.2642476e+01, 2.1083106e-01, 2.7444616e-02, 1.1104946e+01,\n",
              "        9.0599604e+00, 3.3980148e+00, 6.9445734e+00, 1.1722197e-01,\n",
              "        7.5990809e-03, 6.8528377e-02, 1.0117126e-02, 5.4134899e-03,\n",
              "        2.8292122e-01, 1.1397517e-01, 2.9945936e+00, 9.6288376e+00,\n",
              "        7.7791676e-02, 1.0031818e-01, 2.7204709e+00, 4.4789591e+00,\n",
              "        1.5066954e+01, 3.2723378e-02, 3.8775167e-01, 1.3654624e+01,\n",
              "        1.0603184e+01, 7.3670330e+00, 7.5071363e+00, 8.8262062e+00,\n",
              "        6.6647015e+00, 5.6030688e+00, 8.4999228e+00, 4.5426989e-01,\n",
              "        5.1735777e-02, 3.8458955e+00, 5.3363962e+00, 9.2523050e+00,\n",
              "        6.0697942e+00, 6.8604546e+00, 8.3350821e+00, 2.8840106e-02,\n",
              "        2.7252315e-03, 3.1139028e+00, 1.0412468e+01, 7.2508016e+00,\n",
              "        6.1253633e+00, 6.5967913e+00, 4.3663664e+00, 3.2981780e-01,\n",
              "        5.9718246e+00, 1.0063767e-01, 1.2035145e-02, 1.9460473e-02,\n",
              "        4.4166423e-02, 6.9968710e-03, 1.3890319e-02, 7.2286444e+00,\n",
              "        6.3937311e+00, 3.1445462e-02, 7.9265356e+00, 4.4575238e+00,\n",
              "        3.2845640e+00, 7.9942904e+00, 1.3062969e-02, 1.1232116e-01,\n",
              "        2.7293437e-03, 4.2672127e-02, 4.8800583e+00, 9.4118910e+00,\n",
              "        6.3421931e+00, 6.6735773e+00, 1.1387550e-01, 8.1375809e+00,\n",
              "        7.4644380e+00, 7.5115192e-01, 6.7436438e+00, 5.9235630e+00,\n",
              "        6.6488631e-02, 8.7204275e+00, 1.0062001e+00, 9.0872107e+00,\n",
              "        8.3764534e+00, 1.0758445e+01, 1.0476491e+01, 1.0367574e+01,\n",
              "        1.2847708e-03, 7.0366549e+00, 6.1606159e+00, 6.3789468e+00,\n",
              "        1.1968621e+00, 1.8467443e-04, 1.1196767e+01, 2.4933603e-02,\n",
              "        7.3730121e+00, 8.6435266e-02, 9.7771609e-01, 2.2685394e+00,\n",
              "        6.1353350e-01, 1.8089440e-02, 7.5541830e+00, 7.4029841e+00,\n",
              "        5.2852193e-03, 2.6418641e+00, 6.1529309e-01, 1.0804143e+01,\n",
              "        4.3613234e+00, 5.0998807e+00, 5.0777097e+00, 6.5750704e+00,\n",
              "        3.0608869e-01, 2.0763297e-03, 4.7312469e+00, 4.3749924e+00,\n",
              "        1.0005598e+01, 3.8908122e+00, 8.8804607e+00, 6.3850574e+00,\n",
              "        7.3129930e+00, 1.4428402e-02, 7.8244953e+00, 9.0353675e-02,\n",
              "        6.9649787e+00, 7.3051724e+00, 2.1807795e-02, 1.0328584e+01,\n",
              "        1.8416723e-02, 5.4689612e+00, 7.5742993e+00, 6.3196731e+00,\n",
              "        1.2203103e+01, 7.4054694e+00, 3.3355329e+00, 1.8542252e+00,\n",
              "        7.7492723e+00, 5.8242440e+00, 5.5500255e+00, 7.3398943e+00,\n",
              "        1.5033425e-01, 8.2943087e+00, 1.4519588e+01, 4.6676173e+00,\n",
              "        2.2494450e-02, 8.3942099e+00, 9.0232240e-03, 4.8002377e+00,\n",
              "        6.3852005e-02, 5.7469921e+00, 2.6217937e-01, 1.9633144e+00,\n",
              "        5.3622678e-02, 5.3353400e+00, 6.3552104e-02, 4.2818036e-02,\n",
              "        8.4625235e+00, 1.1691335e-02, 5.9368668e+00, 3.5609918e+00,\n",
              "        1.1591315e+01, 5.8946759e-02, 7.3524319e-02, 2.3015087e-02,\n",
              "        2.2043684e-03, 7.9660411e+00, 8.6213551e+00, 5.9664006e+00,\n",
              "        3.0852610e-02, 8.0820537e-01, 6.2734709e+00, 4.5677629e-01,\n",
              "        2.8740770e-01, 5.8943653e+00, 5.8323188e+00, 2.8380327e+00,\n",
              "        7.7404137e+00, 6.4174571e+00, 6.9787707e+00, 9.2824450e+00,\n",
              "        1.9373260e+01, 9.3648192e-03, 5.9917579e+00, 8.7867775e+00,\n",
              "        2.2484042e-02, 6.5195471e-01, 3.6466714e-02, 6.8997588e+00,\n",
              "        7.8547058e+00, 4.5566745e-02, 6.3731171e-02, 9.0894976e+00,\n",
              "        1.3550543e+00, 7.3474366e-04, 9.8804607e+00, 1.0110583e+01,\n",
              "        1.8767960e+00, 8.5461502e+00, 5.6828947e+00, 1.3333090e+01,\n",
              "        4.6598868e+00, 4.3689255e-02, 1.6030783e-02, 5.8850865e+00,\n",
              "        9.8988734e-02, 9.4885435e+00, 9.6029234e+00, 8.5295992e+00,\n",
              "        1.4950205e+00, 2.6291168e+00, 8.5207663e+00, 3.0369489e+00,\n",
              "        1.4464469e+01, 7.4919648e+00, 1.7767008e-01, 7.5046110e+00,\n",
              "        6.4597874e+00, 6.6117620e+00, 7.0628457e+00, 4.4027872e+00,\n",
              "        5.5814385e+00, 2.5035148e-02, 5.5128360e+00, 9.8099852e+00,\n",
              "        6.8815460e+00, 2.9111502e-01, 8.6958132e+00, 9.5459318e+00],\n",
              "       dtype=float32),\n",
              " array([9.5417032e+00, 4.3831955e+01, 1.9465664e+01, 4.4565918e+01,\n",
              "        8.7639866e+00, 3.6619789e+01, 3.9029598e+00, 3.5976694e+00,\n",
              "        2.8408079e+01, 2.7893513e+01, 3.9245481e+00, 2.4254906e+01,\n",
              "        1.3014518e+01, 1.2847432e+01, 4.8746033e+01, 3.4959263e+01,\n",
              "        4.6956528e+01, 1.0133859e+01, 4.1151588e+01, 8.4059114e+00,\n",
              "        9.9159670e-01, 3.2429247e+00, 4.7117035e+01, 2.1543724e+01,\n",
              "        3.2420341e+01, 1.4797153e+01, 1.2763277e+01, 2.4354992e+01,\n",
              "        1.3262934e+01, 3.3826663e+00, 2.3654278e+01, 5.5092834e+01,\n",
              "        4.6272095e+01, 2.1077874e+00, 1.3387632e-01, 3.2611401e+01,\n",
              "        1.6632105e+01, 2.4992311e+01, 1.5209127e+01, 1.9265916e+00,\n",
              "        8.6084917e-02, 1.0430396e+00, 2.4130362e-01, 7.0732489e-02,\n",
              "        4.0256968e+00, 1.7433167e+00, 1.5515451e+01, 1.2061599e+01,\n",
              "        7.2895879e-01, 8.0168253e-01, 1.4814984e+01, 3.0434662e+01,\n",
              "        5.7505642e+01, 2.4771036e-01, 2.9919300e+00, 3.3821056e+01,\n",
              "        2.9793535e+01, 1.4826429e+01, 1.7400774e+01, 6.3851933e+00,\n",
              "        1.0249110e+01, 1.8602201e+01, 3.4589100e+01, 3.2410915e+00,\n",
              "        4.6799845e-01, 2.3382467e+01, 2.3359268e+01, 9.5843840e+00,\n",
              "        4.3832371e+01, 1.2277865e+01, 3.8988827e+01, 3.1554812e-01,\n",
              "        2.9402984e-02, 2.3593321e+01, 2.1467224e+01, 2.6173365e+01,\n",
              "        9.4686117e+00, 2.0247934e+01, 2.1730499e+01, 1.9897774e+00,\n",
              "        3.0691536e+01, 8.5062164e-01, 7.1770787e-02, 1.6918176e-01,\n",
              "        2.5191334e-01, 3.5801746e-02, 9.7555146e-02, 5.2115055e+01,\n",
              "        1.1431026e+01, 1.4418717e-01, 2.3171432e+01, 3.5189789e+01,\n",
              "        1.7020948e+01, 3.8602791e+01, 1.2296386e-01, 9.3193400e-01,\n",
              "        3.2754075e-02, 4.3556479e-01, 2.6878155e+01, 5.6880100e+01,\n",
              "        2.4837486e+01, 2.6651518e+01, 1.0058446e+00, 4.9574558e+01,\n",
              "        1.7508097e+01, 3.3217266e+00, 2.3637411e+01, 1.3927394e+01,\n",
              "        1.3564509e+00, 1.0112927e+01, 5.9589133e+00, 2.3638346e+01,\n",
              "        3.8448097e+01, 3.2770092e+01, 1.2195152e+01, 1.9093842e+01,\n",
              "        9.3418546e-03, 8.2327824e+00, 4.3163862e+00, 1.7126534e+01,\n",
              "        1.1590602e+01, 5.4835533e-03, 2.4953463e+01, 1.9902082e-01,\n",
              "        4.4198051e+01, 1.6641380e-01, 1.4352097e+01, 1.7342800e+01,\n",
              "        6.3884788e+00, 2.7982718e-01, 6.5984168e+00, 1.8452936e+01,\n",
              "        9.3485989e-02, 1.6759510e+01, 8.9518595e+00, 4.1537472e+01,\n",
              "        1.9633362e+01, 1.6015274e+01, 1.0947242e+01, 1.8882145e+01,\n",
              "        3.4587901e+00, 1.4985593e-02, 3.4371803e+01, 1.2569932e+01,\n",
              "        2.1616261e+01, 1.4957397e+01, 3.0120214e+01, 7.0753336e+00,\n",
              "        2.9151993e+01, 3.9998209e-01, 2.7452093e+01, 7.2266912e-01,\n",
              "        2.3245728e+01, 1.9072887e+01, 1.1499085e-01, 9.5982952e+00,\n",
              "        2.8862885e-01, 3.5083668e+01, 3.4501846e+01, 3.3789253e+01,\n",
              "        6.2672626e+01, 5.9481096e+00, 1.9832703e+01, 7.7585001e+00,\n",
              "        1.2914515e+01, 3.4462280e+01, 9.1375198e+00, 2.2463373e+01,\n",
              "        2.3756950e+00, 3.0755442e+01, 6.3487221e+01, 1.2043437e+01,\n",
              "        3.2551673e-01, 3.7925694e+01, 1.1383164e-01, 1.5894851e+01,\n",
              "        5.8702207e-01, 1.8657394e+01, 7.0863299e+00, 1.6052279e+01,\n",
              "        3.7492731e-01, 2.1667694e+01, 1.0538062e+00, 7.1475625e-01,\n",
              "        1.8379972e+01, 1.3629182e-01, 2.5660183e+01, 1.6064793e+01,\n",
              "        2.1823986e+01, 5.2088481e-01, 1.7368138e+00, 3.7030321e-01,\n",
              "        2.1111447e-02, 4.6428589e+01, 2.4751604e+01, 1.5848382e+01,\n",
              "        1.0169553e+00, 7.0707636e+00, 2.8187761e+01, 6.3843470e+00,\n",
              "        4.0938869e+00, 4.6750931e+01, 7.5973215e+00, 9.3572826e+00,\n",
              "        3.0011995e+01, 1.4741907e+00, 4.3062984e+01, 5.8355169e+00,\n",
              "        9.2465759e+01, 1.2731367e-01, 4.5931427e+01, 3.9597317e+01,\n",
              "        2.3110113e-01, 8.3671799e+00, 2.1273015e-01, 1.8030396e+01,\n",
              "        2.0014378e+01, 3.3085611e-01, 5.5784023e-01, 1.2988192e+01,\n",
              "        1.0515315e+01, 8.9400932e-03, 4.0990501e+01, 3.7315392e+01,\n",
              "        1.2459972e+01, 1.6942047e+01, 3.3599201e+01, 1.3941737e+01,\n",
              "        4.0619556e+01, 4.2383733e-01, 8.2575567e-02, 7.4593906e+00,\n",
              "        1.2654959e+00, 4.3922085e+01, 3.3699253e+01, 2.9980200e+01,\n",
              "        7.3526049e+00, 1.2618112e+01, 3.8841629e+01, 8.8490324e+00,\n",
              "        2.1607759e+01, 7.7838225e+00, 1.1850284e+00, 1.2014282e+01,\n",
              "        3.7431873e+01, 2.3722719e+01, 2.6155722e+01, 2.6843102e+01,\n",
              "        2.5935944e+01, 3.6866030e-01, 5.0154396e+01, 1.6948715e+01,\n",
              "        2.4138361e+01, 3.9407132e+00, 1.9315987e+01, 3.6824280e+01],\n",
              "       dtype=float32),\n",
              " array([[ 0.6313688 , -0.58236414, -0.08719078, ..., -0.06876092,\n",
              "         -0.13030604,  0.40741354],\n",
              "        [ 0.62541115,  0.23723474,  0.41210923, ..., -0.8955826 ,\n",
              "         -1.2152951 ,  0.3933948 ],\n",
              "        [-0.16841231,  0.7617779 , -0.04529168, ...,  0.54667   ,\n",
              "          1.1766295 ,  0.16618206],\n",
              "        ...,\n",
              "        [-0.2367156 , -0.6190394 ,  1.0667431 , ..., -0.46274364,\n",
              "         -0.8483585 ,  0.02265926],\n",
              "        [-0.49826965, -0.70357025,  0.64959735, ...,  0.27071786,\n",
              "          0.0772003 ,  0.7525074 ],\n",
              "        [-0.55192685,  0.5238049 ,  0.64017195, ...,  0.14305606,\n",
              "         -0.3268747 ,  0.64821625]], dtype=float32),\n",
              " array([-0.6252932 , -1.060838  , -0.24605958, ..., -0.7949256 ,\n",
              "        -1.2339125 , -0.50540173], dtype=float32),\n",
              " array([-0.08364818,  0.11295619,  0.22317767, ..., -0.0200466 ,\n",
              "         0.11030071,  0.35307446], dtype=float32),\n",
              " array([ 0.01176649,  0.02942586,  0.06581916, ..., -0.00666008,\n",
              "         0.05150177,  0.02144163], dtype=float32),\n",
              " array([ 6.372031  , 35.01219   ,  5.6243563 , ..., 20.460852  ,\n",
              "        28.73093   ,  0.54819936], dtype=float32),\n",
              " array([ 355.4391  , 1305.6528  ,  270.88388 , ...,  876.76215 ,\n",
              "        1927.2623  ,   35.917564], dtype=float32),\n",
              " array([[-0.01508157,  0.00873473, -0.02884386],\n",
              "        [ 0.1335819 , -0.22564892, -0.37052074],\n",
              "        [ 0.17205788, -0.19301556, -0.11759349],\n",
              "        ...,\n",
              "        [-0.02423017,  0.03609915,  0.02894419],\n",
              "        [ 0.21818937, -0.34242818, -0.07394251],\n",
              "        [ 0.0530021 , -0.07580171, -0.01506874]], dtype=float32),\n",
              " array([-0.15413356,  0.13165204,  0.13144231], dtype=float32)]"
            ]
          },
          "metadata": {},
          "execution_count": 27
        }
      ]
    },
    {
      "cell_type": "code",
      "source": [],
      "metadata": {
        "id": "YP_7g7w7yGyV"
      },
      "id": "YP_7g7w7yGyV",
      "execution_count": null,
      "outputs": []
    },
    {
      "cell_type": "code",
      "source": [],
      "metadata": {
        "id": "rJ114lgPyHAb"
      },
      "id": "rJ114lgPyHAb",
      "execution_count": null,
      "outputs": []
    },
    {
      "cell_type": "code",
      "source": [],
      "metadata": {
        "id": "aCUY-j9JyHDS"
      },
      "id": "aCUY-j9JyHDS",
      "execution_count": null,
      "outputs": []
    },
    {
      "cell_type": "code",
      "source": [],
      "metadata": {
        "id": "Xs3ZRAG-yHFl"
      },
      "id": "Xs3ZRAG-yHFl",
      "execution_count": null,
      "outputs": []
    },
    {
      "cell_type": "code",
      "execution_count": null,
      "metadata": {
        "id": "75122ab9"
      },
      "outputs": [],
      "source": [
        "# class DQN:\n",
        "#   def __init__(self,learning_rate,gamma, runs):\n",
        "#     self.gamma = gamma                                       # Discount rate for bellman equation\n",
        "#     self.epsilon = 1                                         # parameter in epsilon greedy approach\n",
        "#     self.epsilon_min = 0.01\n",
        "#     self.epsilon_decay = 0.999\n",
        "#     self.runs = runs                                         # number of simulations\n",
        "#     self.input_dims = x_train.shape[1]                       # input dimensions\n",
        "#     self.actions = len(y_train.unique())                     # 3 actions -> true alarm, false alarm, no alarm\n",
        "#     self.replay_buffer = 1000                                # Experience replay queue size\n",
        "#     self.training_buffer = 300                               # Training experience replay queue size\n",
        "#     self.learning_rate = learning_rate                       # Alpha\n",
        "\n",
        "# # Off policy Temporal Difference(0) Q learning\n",
        "# # Q(sk,ak) = Q_{old}(sk,ak) + alpha(reward - Q_{old}(sk,ak))\n",
        "# # reward = rk + gamma*max_{a}(Q(sk+1,a))\n",
        "\n"
      ],
      "id": "75122ab9"
    },
    {
      "cell_type": "code",
      "execution_count": null,
      "metadata": {
        "id": "4hnxJqRTmMPH"
      },
      "outputs": [],
      "source": [
        "# HYPERPARAMTERS\n",
        "\n",
        "gamma = 0.99                         # Discount Rate\n",
        "batch_size = 12\n",
        "buffer_size = 10000\n",
        "min_replay_size = 1000\n",
        "epsilon_start = 1.0\n",
        "epsilon_end = 0.02\n",
        "#epsilon decay is the decay period in which it goes from eps_start to eps_end\n",
        "epsilon_decay = 0.999\n",
        "target_update_freq = 1000"
      ],
      "id": "4hnxJqRTmMPH"
    },
    {
      "cell_type": "markdown",
      "metadata": {
        "id": "F6qwXqvWlfTQ"
      },
      "source": [
        "# Custom environment"
      ],
      "id": "F6qwXqvWlfTQ"
    },
    {
      "cell_type": "code",
      "execution_count": null,
      "metadata": {
        "id": "Kr6chubyU-RI"
      },
      "outputs": [],
      "source": [
        "class AnomalyEnv(Env):\n",
        "\n",
        "    def __init__(self,X_train,y_train):\n",
        "        self.x_train = X_train\n",
        "        self.y_train = y_train\n",
        "        self.action_space = Discrete(len(self.y_train.unique()))\n",
        "        self.observation_space = Box(low=np.zeros(self.x_train.shape[1]), high=np.ones(self.x_train.shape[1]))\n",
        "        self.index = 0\n",
        "        self.x_train = np.array(self.x_train)\n",
        "        self.state = self.x_train[0]\n",
        "        print(self.state.shape,self.observation_space.shape)\n",
        "\n",
        "    def step(self, action):\n",
        "        self.state = self.x_train[self.index]\n",
        "        reward = 0\n",
        "\n",
        "        if action == y_train[self.index]:\n",
        "            if action==0:\n",
        "              reward = 1\n",
        "            elif action == 1:\n",
        "              reward = 5\n",
        "            else:\n",
        "              reward = 10\n",
        "        else:\n",
        "            if y_train[self.index]==0:\n",
        "              reward = -1\n",
        "            elif y_train[self.index] == 1:\n",
        "              reward = -5\n",
        "            else:\n",
        "              reward = -10\n",
        "\n",
        "        self.index += 1\n",
        "        info = {}\n",
        "\n",
        "        if self.index == len(self.x_train):\n",
        "            done = True\n",
        "        else:\n",
        "            done = False\n",
        "            self.state = self.x_train[self.index]\n",
        "\n",
        "        return self.state, reward, done, info\n",
        "\n",
        "    def render(self):\n",
        "        # Implement viz\n",
        "        pass\n",
        "\n",
        "    def reset(self):\n",
        "        self.index=0\n",
        "        self.state=self.x_train[0]\n",
        "        return self.state"
      ],
      "id": "Kr6chubyU-RI"
    },
    {
      "cell_type": "code",
      "execution_count": null,
      "metadata": {
        "id": "wvX89Bldlow6",
        "colab": {
          "base_uri": "https://localhost:8080/"
        },
        "outputId": "a38eeb3d-f301-40f4-81d3-9e27e018d787"
      },
      "outputs": [
        {
          "output_type": "stream",
          "name": "stdout",
          "text": [
            "(6,) (6,)\n"
          ]
        },
        {
          "output_type": "stream",
          "name": "stderr",
          "text": [
            "/usr/local/lib/python3.10/dist-packages/gym/spaces/box.py:128: UserWarning: \u001b[33mWARN: Box bound precision lowered by casting to float32\u001b[0m\n",
            "  logger.warn(f\"Box bound precision lowered by casting to {self.dtype}\")\n"
          ]
        }
      ],
      "source": [
        "env = AnomalyEnv(x_train,y_train)"
      ],
      "id": "wvX89Bldlow6"
    },
    {
      "cell_type": "code",
      "source": [
        "env.observation_space.sample()"
      ],
      "metadata": {
        "colab": {
          "base_uri": "https://localhost:8080/"
        },
        "id": "6O5t5TxbxRxR",
        "outputId": "6a02ddce-c575-4771-ebd9-9733d2f2d104"
      },
      "id": "6O5t5TxbxRxR",
      "execution_count": null,
      "outputs": [
        {
          "output_type": "execute_result",
          "data": {
            "text/plain": [
              "array([0.8271753 , 0.5913803 , 0.21266064, 0.62067777, 0.67486507,\n",
              "       0.03296787], dtype=float32)"
            ]
          },
          "metadata": {},
          "execution_count": 113
        }
      ]
    },
    {
      "cell_type": "code",
      "execution_count": null,
      "metadata": {
        "id": "QhmpAr9alo2I",
        "colab": {
          "base_uri": "https://localhost:8080/"
        },
        "outputId": "cf9b47f7-c232-4d95-e3d5-3fc6c5a533ad"
      },
      "outputs": [
        {
          "output_type": "stream",
          "name": "stdout",
          "text": [
            "Episode:1 Score:-88589\n",
            "Episode:2 Score:-89371\n"
          ]
        }
      ],
      "source": [
        "episodes = 2\n",
        "for episode in range(1, episodes+1):\n",
        "    state = env.reset()\n",
        "    done = False\n",
        "    score = 0\n",
        "\n",
        "    while not done:\n",
        "        #env.render()\n",
        "        action = env.action_space.sample()\n",
        "        n_state, reward, done, info = env.step(action)\n",
        "        score+=reward\n",
        "    print('Episode:{} Score:{}'.format(episode, score))"
      ],
      "id": "QhmpAr9alo2I"
    },
    {
      "cell_type": "markdown",
      "metadata": {
        "id": "JrtwWvaomEOw"
      },
      "source": [
        "# DQN architecture"
      ],
      "id": "JrtwWvaomEOw"
    },
    {
      "cell_type": "code",
      "execution_count": null,
      "metadata": {
        "id": "ss9oik2clo4h"
      },
      "outputs": [],
      "source": [
        "# from tensorflow.keras.models import Sequential\n",
        "# from tensorflow.keras.layers import Dense, Flatten\n",
        "# from tensorflow.keras.optimizers import Adam"
      ],
      "id": "ss9oik2clo4h"
    },
    {
      "cell_type": "code",
      "execution_count": null,
      "metadata": {
        "id": "H3E71s8WmkzO"
      },
      "outputs": [],
      "source": [
        "state = env.observation_space.shape\n",
        "actions = env.action_space.n"
      ],
      "id": "H3E71s8WmkzO"
    },
    {
      "cell_type": "code",
      "execution_count": null,
      "metadata": {
        "colab": {
          "base_uri": "https://localhost:8080/"
        },
        "id": "PCnKIMYXmk2O",
        "outputId": "0a920883-6902-441d-8b88-62c49fe10ff6"
      },
      "outputs": [
        {
          "output_type": "stream",
          "name": "stdout",
          "text": [
            "(6,)\n"
          ]
        }
      ],
      "source": [
        "print(state)"
      ],
      "id": "PCnKIMYXmk2O"
    },
    {
      "cell_type": "code",
      "execution_count": null,
      "metadata": {
        "id": "37_zSUJlmk4f"
      },
      "outputs": [],
      "source": [
        "def DQN_model(states,actions):\n",
        "  model = tf.keras.models.Sequential()\n",
        "  model.add(tf.keras.layers.Dense(64, activation='relu', kernel_initializer='he_uniform',input_shape=(1,6)))\n",
        "  model.add(tf.keras.layers.Dense(256, activation='relu', kernel_initializer='he_uniform'))\n",
        "  model.add(tf.keras.layers.Dense(1024, activation='relu', kernel_initializer='he_uniform'))\n",
        "  model.add(tf.keras.layers.Dense(actions,activation='linear'))\n",
        "  model.add(tf.keras.layers.Flatten())\n",
        "  return model\n"
      ],
      "id": "37_zSUJlmk4f"
    },
    {
      "cell_type": "code",
      "execution_count": null,
      "metadata": {
        "colab": {
          "base_uri": "https://localhost:8080/",
          "height": 192
        },
        "id": "vXFt9MNamk6M",
        "outputId": "e95c3d5a-c088-4b40-9c62-59fc809a7415"
      },
      "outputs": [
        {
          "output_type": "error",
          "ename": "NameError",
          "evalue": "name 'state' is not defined",
          "traceback": [
            "\u001b[0;31m---------------------------------------------------------------------------\u001b[0m",
            "\u001b[0;31mNameError\u001b[0m                                 Traceback (most recent call last)",
            "\u001b[0;32m<ipython-input-14-a21c889d2b8a>\u001b[0m in \u001b[0;36m<cell line: 1>\u001b[0;34m()\u001b[0m\n\u001b[0;32m----> 1\u001b[0;31m \u001b[0mmodel\u001b[0m \u001b[0;34m=\u001b[0m \u001b[0mDQN_model\u001b[0m\u001b[0;34m(\u001b[0m\u001b[0mstate\u001b[0m\u001b[0;34m,\u001b[0m\u001b[0mactions\u001b[0m\u001b[0;34m)\u001b[0m\u001b[0;34m\u001b[0m\u001b[0;34m\u001b[0m\u001b[0m\n\u001b[0m\u001b[1;32m      2\u001b[0m \u001b[0mmodel\u001b[0m\u001b[0;34m.\u001b[0m\u001b[0msummary\u001b[0m\u001b[0;34m(\u001b[0m\u001b[0;34m)\u001b[0m\u001b[0;34m\u001b[0m\u001b[0;34m\u001b[0m\u001b[0m\n",
            "\u001b[0;31mNameError\u001b[0m: name 'state' is not defined"
          ]
        }
      ],
      "source": [
        "model = DQN_model(state,actions)\n",
        "model.summary()"
      ],
      "id": "vXFt9MNamk6M"
    },
    {
      "cell_type": "code",
      "source": [
        "from rl.agents import DQNAgent\n",
        "from rl.policy import EpsGreedyQPolicy\n",
        "from rl.memory import SequentialMemory\n",
        "from tensorflow.keras.optimizers.legacy import Adam"
      ],
      "metadata": {
        "id": "GcWx_gcBsp_z"
      },
      "id": "GcWx_gcBsp_z",
      "execution_count": null,
      "outputs": []
    },
    {
      "cell_type": "code",
      "source": [
        "def agent(model, actions):\n",
        "  policy = EpsGreedyQPolicy(eps=epsilon_start)\n",
        "  memory = SequentialMemory(limit = 50000, window_length = 1)\n",
        "  dqn = DQNAgent(model = model, policy = policy, memory = memory, nb_actions = actions, nb_steps_warmup = 10, target_model_update = 1e-2)\n",
        "  return dqn"
      ],
      "metadata": {
        "id": "EJrQIR-iveZf"
      },
      "id": "EJrQIR-iveZf",
      "execution_count": null,
      "outputs": []
    },
    {
      "cell_type": "code",
      "source": [
        "dqn = agent(model,actions)\n"
      ],
      "metadata": {
        "id": "XvVzu0m-ywDm"
      },
      "id": "XvVzu0m-ywDm",
      "execution_count": null,
      "outputs": []
    },
    {
      "cell_type": "code",
      "source": [
        "# del model"
      ],
      "metadata": {
        "id": "J-c7kix0o6-Y"
      },
      "id": "J-c7kix0o6-Y",
      "execution_count": null,
      "outputs": []
    },
    {
      "cell_type": "code",
      "source": [
        "dqn.compile(Adam(learning_rate=1e-3),metrics=['mse'])"
      ],
      "metadata": {
        "id": "SVATjnQWxUIK"
      },
      "id": "SVATjnQWxUIK",
      "execution_count": null,
      "outputs": []
    },
    {
      "cell_type": "code",
      "source": [
        "dqn.fit(env,nb_steps=x_train.shape[0],visualize =False, verbose = 1)"
      ],
      "metadata": {
        "colab": {
          "base_uri": "https://localhost:8080/"
        },
        "id": "-gizHFhAxUKq",
        "outputId": "54502076-ef95-4115-801e-7f4d96aa9635"
      },
      "id": "-gizHFhAxUKq",
      "execution_count": null,
      "outputs": [
        {
          "output_type": "stream",
          "name": "stdout",
          "text": [
            "Training for 177118 steps ...\n",
            "Interval 1 (0 steps performed)\n"
          ]
        },
        {
          "output_type": "stream",
          "name": "stderr",
          "text": [
            "/usr/local/lib/python3.10/dist-packages/keras/engine/training_v1.py:2357: UserWarning: `Model.state_updates` will be removed in a future version. This property should not be used in TensorFlow 2.0, as `updates` are applied automatically.\n",
            "  updates=self.state_updates,\n"
          ]
        },
        {
          "output_type": "stream",
          "name": "stdout",
          "text": [
            "\r    1/10000 [..............................] - ETA: 1:29:53 - reward: -1.0000"
          ]
        },
        {
          "output_type": "stream",
          "name": "stderr",
          "text": [
            "/usr/local/lib/python3.10/dist-packages/rl/memory.py:37: UserWarning: Not enough entries to sample without replacement. Consider increasing your warm-up phase to avoid oversampling!\n",
            "  warnings.warn('Not enough entries to sample without replacement. Consider increasing your warm-up phase to avoid oversampling!')\n",
            "/usr/local/lib/python3.10/dist-packages/rl/memory.py:38: DeprecationWarning: This function is deprecated. Please call randint(1, 10 + 1) instead\n",
            "  batch_idxs = np.random.random_integers(low, high - 1, size=size)\n"
          ]
        },
        {
          "output_type": "stream",
          "name": "stdout",
          "text": [
            "   24/10000 [..............................] - ETA: 18:49 - reward: -0.5000"
          ]
        },
        {
          "output_type": "stream",
          "name": "stderr",
          "text": [
            "/usr/local/lib/python3.10/dist-packages/rl/memory.py:38: DeprecationWarning: This function is deprecated. Please call randint(1, 11 + 1) instead\n",
            "  batch_idxs = np.random.random_integers(low, high - 1, size=size)\n",
            "/usr/local/lib/python3.10/dist-packages/rl/memory.py:38: DeprecationWarning: This function is deprecated. Please call randint(1, 12 + 1) instead\n",
            "  batch_idxs = np.random.random_integers(low, high - 1, size=size)\n",
            "/usr/local/lib/python3.10/dist-packages/rl/memory.py:38: DeprecationWarning: This function is deprecated. Please call randint(1, 13 + 1) instead\n",
            "  batch_idxs = np.random.random_integers(low, high - 1, size=size)\n",
            "/usr/local/lib/python3.10/dist-packages/rl/memory.py:38: DeprecationWarning: This function is deprecated. Please call randint(1, 14 + 1) instead\n",
            "  batch_idxs = np.random.random_integers(low, high - 1, size=size)\n",
            "/usr/local/lib/python3.10/dist-packages/rl/memory.py:38: DeprecationWarning: This function is deprecated. Please call randint(1, 15 + 1) instead\n",
            "  batch_idxs = np.random.random_integers(low, high - 1, size=size)\n",
            "/usr/local/lib/python3.10/dist-packages/rl/memory.py:38: DeprecationWarning: This function is deprecated. Please call randint(1, 16 + 1) instead\n",
            "  batch_idxs = np.random.random_integers(low, high - 1, size=size)\n",
            "/usr/local/lib/python3.10/dist-packages/rl/memory.py:38: DeprecationWarning: This function is deprecated. Please call randint(1, 17 + 1) instead\n",
            "  batch_idxs = np.random.random_integers(low, high - 1, size=size)\n",
            "/usr/local/lib/python3.10/dist-packages/rl/memory.py:38: DeprecationWarning: This function is deprecated. Please call randint(1, 18 + 1) instead\n",
            "  batch_idxs = np.random.random_integers(low, high - 1, size=size)\n",
            "/usr/local/lib/python3.10/dist-packages/rl/memory.py:38: DeprecationWarning: This function is deprecated. Please call randint(1, 19 + 1) instead\n",
            "  batch_idxs = np.random.random_integers(low, high - 1, size=size)\n",
            "/usr/local/lib/python3.10/dist-packages/rl/memory.py:38: DeprecationWarning: This function is deprecated. Please call randint(1, 20 + 1) instead\n",
            "  batch_idxs = np.random.random_integers(low, high - 1, size=size)\n",
            "/usr/local/lib/python3.10/dist-packages/rl/memory.py:38: DeprecationWarning: This function is deprecated. Please call randint(1, 21 + 1) instead\n",
            "  batch_idxs = np.random.random_integers(low, high - 1, size=size)\n",
            "/usr/local/lib/python3.10/dist-packages/rl/memory.py:38: DeprecationWarning: This function is deprecated. Please call randint(1, 22 + 1) instead\n",
            "  batch_idxs = np.random.random_integers(low, high - 1, size=size)\n",
            "/usr/local/lib/python3.10/dist-packages/rl/memory.py:38: DeprecationWarning: This function is deprecated. Please call randint(1, 23 + 1) instead\n",
            "  batch_idxs = np.random.random_integers(low, high - 1, size=size)\n",
            "/usr/local/lib/python3.10/dist-packages/rl/memory.py:38: DeprecationWarning: This function is deprecated. Please call randint(1, 24 + 1) instead\n",
            "  batch_idxs = np.random.random_integers(low, high - 1, size=size)\n"
          ]
        },
        {
          "output_type": "stream",
          "name": "stdout",
          "text": [
            "   36/10000 [..............................] - ETA: 13:13 - reward: -0.3333"
          ]
        },
        {
          "output_type": "stream",
          "name": "stderr",
          "text": [
            "/usr/local/lib/python3.10/dist-packages/rl/memory.py:38: DeprecationWarning: This function is deprecated. Please call randint(1, 25 + 1) instead\n",
            "  batch_idxs = np.random.random_integers(low, high - 1, size=size)\n",
            "/usr/local/lib/python3.10/dist-packages/rl/memory.py:38: DeprecationWarning: This function is deprecated. Please call randint(1, 26 + 1) instead\n",
            "  batch_idxs = np.random.random_integers(low, high - 1, size=size)\n",
            "/usr/local/lib/python3.10/dist-packages/rl/memory.py:38: DeprecationWarning: This function is deprecated. Please call randint(1, 27 + 1) instead\n",
            "  batch_idxs = np.random.random_integers(low, high - 1, size=size)\n",
            "/usr/local/lib/python3.10/dist-packages/rl/memory.py:38: DeprecationWarning: This function is deprecated. Please call randint(1, 28 + 1) instead\n",
            "  batch_idxs = np.random.random_integers(low, high - 1, size=size)\n",
            "/usr/local/lib/python3.10/dist-packages/rl/memory.py:38: DeprecationWarning: This function is deprecated. Please call randint(1, 29 + 1) instead\n",
            "  batch_idxs = np.random.random_integers(low, high - 1, size=size)\n",
            "/usr/local/lib/python3.10/dist-packages/rl/memory.py:38: DeprecationWarning: This function is deprecated. Please call randint(1, 30 + 1) instead\n",
            "  batch_idxs = np.random.random_integers(low, high - 1, size=size)\n",
            "/usr/local/lib/python3.10/dist-packages/rl/memory.py:38: DeprecationWarning: This function is deprecated. Please call randint(1, 31 + 1) instead\n",
            "  batch_idxs = np.random.random_integers(low, high - 1, size=size)\n"
          ]
        },
        {
          "output_type": "stream",
          "name": "stdout",
          "text": [
            "10000/10000 [==============================] - 185s 18ms/step - reward: -0.4203\n",
            "Interval 2 (10000 steps performed)\n",
            "10000/10000 [==============================] - 184s 18ms/step - reward: -0.5761\n",
            "Interval 3 (20000 steps performed)\n",
            "10000/10000 [==============================] - 185s 19ms/step - reward: -0.4644\n",
            "Interval 4 (30000 steps performed)\n",
            "10000/10000 [==============================] - 185s 19ms/step - reward: -0.4450\n",
            "Interval 5 (40000 steps performed)\n",
            "10000/10000 [==============================] - 192s 19ms/step - reward: -0.3949\n",
            "Interval 6 (50000 steps performed)\n",
            "10000/10000 [==============================] - 195s 19ms/step - reward: -0.4549\n",
            "Interval 7 (60000 steps performed)\n",
            "10000/10000 [==============================] - 191s 19ms/step - reward: -0.5576\n",
            "Interval 8 (70000 steps performed)\n",
            "10000/10000 [==============================] - 192s 19ms/step - reward: -0.3347\n",
            "Interval 9 (80000 steps performed)\n",
            "10000/10000 [==============================] - 191s 19ms/step - reward: -0.3753\n",
            "Interval 10 (90000 steps performed)\n",
            "10000/10000 [==============================] - 199s 20ms/step - reward: -0.3438\n",
            "Interval 11 (100000 steps performed)\n",
            "10000/10000 [==============================] - 192s 19ms/step - reward: -0.6232\n",
            "Interval 12 (110000 steps performed)\n",
            "10000/10000 [==============================] - 197s 20ms/step - reward: -1.6369\n",
            "Interval 13 (120000 steps performed)\n",
            "10000/10000 [==============================] - 194s 19ms/step - reward: -0.6150\n",
            "Interval 14 (130000 steps performed)\n",
            "10000/10000 [==============================] - 195s 20ms/step - reward: -0.3736\n",
            "Interval 15 (140000 steps performed)\n",
            "10000/10000 [==============================] - 189s 19ms/step - reward: -0.4002\n",
            "Interval 16 (150000 steps performed)\n",
            "10000/10000 [==============================] - 196s 20ms/step - reward: -0.3383\n",
            "Interval 17 (160000 steps performed)\n",
            "10000/10000 [==============================] - 199s 20ms/step - reward: -0.3355\n",
            "Interval 18 (170000 steps performed)\n",
            " 7117/10000 [====================>.........] - ETA: 1:01 - reward: -0.3475done, took 3412.494 seconds\n"
          ]
        },
        {
          "output_type": "execute_result",
          "data": {
            "text/plain": [
              "<keras.callbacks.History at 0x7d574d9670d0>"
            ]
          },
          "metadata": {},
          "execution_count": 140
        }
      ]
    },
    {
      "cell_type": "code",
      "source": [
        "predictions = []\n",
        "for i in range(x_test.shape[0]):\n",
        "    pred = model.predict(np.expand_dims(np.expand_dims(x_test.iloc[i], axis=0),axis=0))\n",
        "    pred =np.argmax(pred)\n",
        "    predictions.append(pred)\n",
        "\n"
      ],
      "metadata": {
        "id": "wfIKvlucxUNT"
      },
      "id": "wfIKvlucxUNT",
      "execution_count": null,
      "outputs": []
    },
    {
      "cell_type": "code",
      "source": [
        "from sklearn.metrics import accuracy_score\n",
        "accuracy = accuracy_score(y_test, predictions)\n",
        "print(\"Accuracy:\", accuracy)"
      ],
      "metadata": {
        "colab": {
          "base_uri": "https://localhost:8080/"
        },
        "id": "zx1r7r9LDAiX",
        "outputId": "eff97956-9418-4c46-bbf3-9822a1edc60a"
      },
      "id": "zx1r7r9LDAiX",
      "execution_count": null,
      "outputs": [
        {
          "output_type": "stream",
          "name": "stdout",
          "text": [
            "Accuracy: 0.935579912525689\n"
          ]
        }
      ]
    },
    {
      "cell_type": "code",
      "source": [
        "cor=0\n",
        "tot=0\n",
        "for i in range(y_test.shape[0]):\n",
        "  if y_test.iloc[i]!=0:\n",
        "    tot+=1\n",
        "    if y_test.iloc[i]==predictions[i]:\n",
        "      cor+=1\n",
        "print(cor/tot)"
      ],
      "metadata": {
        "colab": {
          "base_uri": "https://localhost:8080/"
        },
        "id": "KutTn2JZExzG",
        "outputId": "2631975c-e078-4871-a460-356df6a97747"
      },
      "id": "KutTn2JZExzG",
      "execution_count": null,
      "outputs": [
        {
          "output_type": "stream",
          "name": "stderr",
          "text": [
            "/usr/local/lib/python3.10/dist-packages/ipykernel/ipkernel.py:283: DeprecationWarning: `should_run_async` will not call `transform_cell` automatically in the future. Please pass the result to `transformed_cell` argument and any exception that happen during thetransform in `preprocessing_exc_tuple` in IPython 7.17 and above.\n",
            "  and should_run_async(code)\n"
          ]
        },
        {
          "output_type": "stream",
          "name": "stdout",
          "text": [
            "0.0\n"
          ]
        }
      ]
    },
    {
      "cell_type": "code",
      "source": [
        "cor=0\n",
        "tot=0\n",
        "for i in range(y_test.shape[0]):\n",
        "  if y_test.iloc[i]==0:\n",
        "    tot+=1\n",
        "    if y_test.iloc[i]==predictions[i]:\n",
        "      cor+=1\n",
        "print(cor/tot)"
      ],
      "metadata": {
        "colab": {
          "base_uri": "https://localhost:8080/"
        },
        "id": "5hrjJUXZEx1e",
        "outputId": "6d53cd3a-ca65-479a-cf83-3b4d779c8694"
      },
      "id": "5hrjJUXZEx1e",
      "execution_count": null,
      "outputs": [
        {
          "output_type": "stream",
          "name": "stdout",
          "text": [
            "1.0\n"
          ]
        }
      ]
    },
    {
      "cell_type": "code",
      "source": [],
      "metadata": {
        "id": "xyZzTHxiZzKq"
      },
      "id": "xyZzTHxiZzKq",
      "execution_count": null,
      "outputs": []
    }
  ],
  "metadata": {
    "colab": {
      "provenance": [],
      "include_colab_link": true
    },
    "kernelspec": {
      "display_name": "Python 3 (ipykernel)",
      "language": "python",
      "name": "python3"
    },
    "language_info": {
      "codemirror_mode": {
        "name": "ipython",
        "version": 3
      },
      "file_extension": ".py",
      "mimetype": "text/x-python",
      "name": "python",
      "nbconvert_exporter": "python",
      "pygments_lexer": "ipython3",
      "version": "3.10.5"
    }
  },
  "nbformat": 4,
  "nbformat_minor": 5
}