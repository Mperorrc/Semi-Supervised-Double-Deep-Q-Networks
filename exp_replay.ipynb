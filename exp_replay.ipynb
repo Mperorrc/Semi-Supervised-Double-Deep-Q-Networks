{
  "cells": [
    {
      "cell_type": "markdown",
      "metadata": {
        "id": "view-in-github",
        "colab_type": "text"
      },
      "source": [
        "<a href=\"https://colab.research.google.com/github/Mperorrc/Semi-Supervised-Double-Deep-Q-Networks/blob/main/exp_replay.ipynb\" target=\"_parent\"><img src=\"https://colab.research.google.com/assets/colab-badge.svg\" alt=\"Open In Colab\"/></a>"
      ]
    },
    {
      "cell_type": "code",
      "execution_count": null,
      "metadata": {
        "id": "8Eaiepu54Xrt"
      },
      "outputs": [],
      "source": [
        "import pandas as pd\n",
        "import numpy as np\n",
        "import matplotlib.pyplot as plt\n",
        "import random\n",
        "from gym import Env\n",
        "from gym.spaces import Discrete, Box"
      ]
    },
    {
      "cell_type": "code",
      "execution_count": null,
      "metadata": {
        "id": "fTuWauXZ4aOk",
        "colab": {
          "base_uri": "https://localhost:8080/"
        },
        "outputId": "286be473-b197-4669-a2f1-291e1458e881"
      },
      "outputs": [
        {
          "output_type": "stream",
          "name": "stderr",
          "text": [
            "/usr/local/lib/python3.10/dist-packages/ipykernel/ipkernel.py:283: DeprecationWarning: `should_run_async` will not call `transform_cell` automatically in the future. Please pass the result to `transformed_cell` argument and any exception that happen during thetransform in `preprocessing_exc_tuple` in IPython 7.17 and above.\n",
            "  and should_run_async(code)\n"
          ]
        }
      ],
      "source": [
        "# !pip install tensorflow==2.11.0\n",
        "# !pip install keras==2.11.0\n",
        "# !pip install keras-rl2\n",
        "# !pip install rl\n",
        "# !pip install tf-agents\n",
        "# !pip install --upgrade torch\n"
      ]
    },
    {
      "cell_type": "code",
      "execution_count": null,
      "metadata": {
        "id": "3OSrAwHKnC1d"
      },
      "outputs": [],
      "source": [
        "import torch\n",
        "import torch.nn as nn\n",
        "import torch.nn.functional as F"
      ]
    },
    {
      "cell_type": "code",
      "execution_count": null,
      "metadata": {
        "id": "CFxrJMEs4aRC",
        "colab": {
          "base_uri": "https://localhost:8080/"
        },
        "outputId": "bc781aab-6290-4780-9a27-28a103e6d358"
      },
      "outputs": [
        {
          "output_type": "stream",
          "name": "stderr",
          "text": [
            "/usr/local/lib/python3.10/dist-packages/ipykernel/ipkernel.py:283: DeprecationWarning: `should_run_async` will not call `transform_cell` automatically in the future. Please pass the result to `transformed_cell` argument and any exception that happen during thetransform in `preprocessing_exc_tuple` in IPython 7.17 and above.\n",
            "  and should_run_async(code)\n"
          ]
        }
      ],
      "source": [
        "# import tensorflow as tf\n",
        "# import keras\n",
        "# print(tf.__version__)\n",
        "# print(keras.__version__)"
      ]
    },
    {
      "cell_type": "code",
      "execution_count": null,
      "metadata": {
        "colab": {
          "base_uri": "https://localhost:8080/"
        },
        "id": "TA-m2HR_4aT0",
        "outputId": "fb87b19d-e18f-4b20-a910-4324864a4d1c"
      },
      "outputs": [
        {
          "output_type": "stream",
          "name": "stdout",
          "text": [
            "Mounted at /content/drive\n"
          ]
        }
      ],
      "source": [
        "from google.colab import drive\n",
        "drive.mount('/content/drive')"
      ]
    },
    {
      "cell_type": "code",
      "execution_count": null,
      "metadata": {
        "id": "aRcwn0Aj4aWb"
      },
      "outputs": [],
      "source": [
        "df = pd.read_excel('/content/drive/MyDrive/Colab Notebooks/DDQN/dataset.xlsx')\n",
        "df.loc[df.isnull().any(axis=1), 'ALERT'] = 1\n",
        "df.fillna(0, inplace=True)"
      ]
    },
    {
      "cell_type": "code",
      "execution_count": null,
      "metadata": {
        "colab": {
          "base_uri": "https://localhost:8080/",
          "height": 478
        },
        "id": "XJQr2ITOEBys",
        "outputId": "87663a91-1705-46ee-dd03-05e6441a470f"
      },
      "outputs": [
        {
          "output_type": "stream",
          "name": "stderr",
          "text": [
            "/usr/local/lib/python3.10/dist-packages/ipykernel/ipkernel.py:283: DeprecationWarning: `should_run_async` will not call `transform_cell` automatically in the future. Please pass the result to `transformed_cell` argument and any exception that happen during thetransform in `preprocessing_exc_tuple` in IPython 7.17 and above.\n",
            "  and should_run_async(code)\n"
          ]
        },
        {
          "output_type": "execute_result",
          "data": {
            "text/plain": [
              "        SpO2          HR       PULSE  RESP        ABP2       ABP3  ALERT\n",
              "0       94.0   71.000000   71.000000  19.0  113.000000  50.000000      0\n",
              "1       94.0   71.000000   71.000000  19.0  113.000000  50.000000      0\n",
              "2       94.0   71.000000   71.000000  17.0  113.000000  51.000000      0\n",
              "3       94.0   71.000000   71.000000  17.0  113.000000  51.000000      0\n",
              "4       94.0   71.000000   71.000000  17.0  113.000000  50.000000      0\n",
              "...      ...         ...         ...   ...         ...        ...    ...\n",
              "253021  94.0  111.000000  111.000000  14.0  107.000000  61.000000      0\n",
              "253022  94.0  111.000000  110.000000  14.0  108.000000  61.000000      0\n",
              "253023  94.0  111.000000  110.000000  14.0  108.000000  61.000000      0\n",
              "253024  94.0  111.000000  110.000000  14.0  108.000000  61.000000      0\n",
              "253025  94.0  110.489796  110.204082  14.0  108.040816  60.857143      0\n",
              "\n",
              "[253026 rows x 7 columns]"
            ],
            "text/html": [
              "\n",
              "  <div id=\"df-13d82336-e2f9-42af-902d-c909c663d092\" class=\"colab-df-container\">\n",
              "    <div>\n",
              "<style scoped>\n",
              "    .dataframe tbody tr th:only-of-type {\n",
              "        vertical-align: middle;\n",
              "    }\n",
              "\n",
              "    .dataframe tbody tr th {\n",
              "        vertical-align: top;\n",
              "    }\n",
              "\n",
              "    .dataframe thead th {\n",
              "        text-align: right;\n",
              "    }\n",
              "</style>\n",
              "<table border=\"1\" class=\"dataframe\">\n",
              "  <thead>\n",
              "    <tr style=\"text-align: right;\">\n",
              "      <th></th>\n",
              "      <th>SpO2</th>\n",
              "      <th>HR</th>\n",
              "      <th>PULSE</th>\n",
              "      <th>RESP</th>\n",
              "      <th>ABP2</th>\n",
              "      <th>ABP3</th>\n",
              "      <th>ALERT</th>\n",
              "    </tr>\n",
              "  </thead>\n",
              "  <tbody>\n",
              "    <tr>\n",
              "      <th>0</th>\n",
              "      <td>94.0</td>\n",
              "      <td>71.000000</td>\n",
              "      <td>71.000000</td>\n",
              "      <td>19.0</td>\n",
              "      <td>113.000000</td>\n",
              "      <td>50.000000</td>\n",
              "      <td>0</td>\n",
              "    </tr>\n",
              "    <tr>\n",
              "      <th>1</th>\n",
              "      <td>94.0</td>\n",
              "      <td>71.000000</td>\n",
              "      <td>71.000000</td>\n",
              "      <td>19.0</td>\n",
              "      <td>113.000000</td>\n",
              "      <td>50.000000</td>\n",
              "      <td>0</td>\n",
              "    </tr>\n",
              "    <tr>\n",
              "      <th>2</th>\n",
              "      <td>94.0</td>\n",
              "      <td>71.000000</td>\n",
              "      <td>71.000000</td>\n",
              "      <td>17.0</td>\n",
              "      <td>113.000000</td>\n",
              "      <td>51.000000</td>\n",
              "      <td>0</td>\n",
              "    </tr>\n",
              "    <tr>\n",
              "      <th>3</th>\n",
              "      <td>94.0</td>\n",
              "      <td>71.000000</td>\n",
              "      <td>71.000000</td>\n",
              "      <td>17.0</td>\n",
              "      <td>113.000000</td>\n",
              "      <td>51.000000</td>\n",
              "      <td>0</td>\n",
              "    </tr>\n",
              "    <tr>\n",
              "      <th>4</th>\n",
              "      <td>94.0</td>\n",
              "      <td>71.000000</td>\n",
              "      <td>71.000000</td>\n",
              "      <td>17.0</td>\n",
              "      <td>113.000000</td>\n",
              "      <td>50.000000</td>\n",
              "      <td>0</td>\n",
              "    </tr>\n",
              "    <tr>\n",
              "      <th>...</th>\n",
              "      <td>...</td>\n",
              "      <td>...</td>\n",
              "      <td>...</td>\n",
              "      <td>...</td>\n",
              "      <td>...</td>\n",
              "      <td>...</td>\n",
              "      <td>...</td>\n",
              "    </tr>\n",
              "    <tr>\n",
              "      <th>253021</th>\n",
              "      <td>94.0</td>\n",
              "      <td>111.000000</td>\n",
              "      <td>111.000000</td>\n",
              "      <td>14.0</td>\n",
              "      <td>107.000000</td>\n",
              "      <td>61.000000</td>\n",
              "      <td>0</td>\n",
              "    </tr>\n",
              "    <tr>\n",
              "      <th>253022</th>\n",
              "      <td>94.0</td>\n",
              "      <td>111.000000</td>\n",
              "      <td>110.000000</td>\n",
              "      <td>14.0</td>\n",
              "      <td>108.000000</td>\n",
              "      <td>61.000000</td>\n",
              "      <td>0</td>\n",
              "    </tr>\n",
              "    <tr>\n",
              "      <th>253023</th>\n",
              "      <td>94.0</td>\n",
              "      <td>111.000000</td>\n",
              "      <td>110.000000</td>\n",
              "      <td>14.0</td>\n",
              "      <td>108.000000</td>\n",
              "      <td>61.000000</td>\n",
              "      <td>0</td>\n",
              "    </tr>\n",
              "    <tr>\n",
              "      <th>253024</th>\n",
              "      <td>94.0</td>\n",
              "      <td>111.000000</td>\n",
              "      <td>110.000000</td>\n",
              "      <td>14.0</td>\n",
              "      <td>108.000000</td>\n",
              "      <td>61.000000</td>\n",
              "      <td>0</td>\n",
              "    </tr>\n",
              "    <tr>\n",
              "      <th>253025</th>\n",
              "      <td>94.0</td>\n",
              "      <td>110.489796</td>\n",
              "      <td>110.204082</td>\n",
              "      <td>14.0</td>\n",
              "      <td>108.040816</td>\n",
              "      <td>60.857143</td>\n",
              "      <td>0</td>\n",
              "    </tr>\n",
              "  </tbody>\n",
              "</table>\n",
              "<p>253026 rows × 7 columns</p>\n",
              "</div>\n",
              "    <div class=\"colab-df-buttons\">\n",
              "\n",
              "  <div class=\"colab-df-container\">\n",
              "    <button class=\"colab-df-convert\" onclick=\"convertToInteractive('df-13d82336-e2f9-42af-902d-c909c663d092')\"\n",
              "            title=\"Convert this dataframe to an interactive table.\"\n",
              "            style=\"display:none;\">\n",
              "\n",
              "  <svg xmlns=\"http://www.w3.org/2000/svg\" height=\"24px\" viewBox=\"0 -960 960 960\">\n",
              "    <path d=\"M120-120v-720h720v720H120Zm60-500h600v-160H180v160Zm220 220h160v-160H400v160Zm0 220h160v-160H400v160ZM180-400h160v-160H180v160Zm440 0h160v-160H620v160ZM180-180h160v-160H180v160Zm440 0h160v-160H620v160Z\"/>\n",
              "  </svg>\n",
              "    </button>\n",
              "\n",
              "  <style>\n",
              "    .colab-df-container {\n",
              "      display:flex;\n",
              "      gap: 12px;\n",
              "    }\n",
              "\n",
              "    .colab-df-convert {\n",
              "      background-color: #E8F0FE;\n",
              "      border: none;\n",
              "      border-radius: 50%;\n",
              "      cursor: pointer;\n",
              "      display: none;\n",
              "      fill: #1967D2;\n",
              "      height: 32px;\n",
              "      padding: 0 0 0 0;\n",
              "      width: 32px;\n",
              "    }\n",
              "\n",
              "    .colab-df-convert:hover {\n",
              "      background-color: #E2EBFA;\n",
              "      box-shadow: 0px 1px 2px rgba(60, 64, 67, 0.3), 0px 1px 3px 1px rgba(60, 64, 67, 0.15);\n",
              "      fill: #174EA6;\n",
              "    }\n",
              "\n",
              "    .colab-df-buttons div {\n",
              "      margin-bottom: 4px;\n",
              "    }\n",
              "\n",
              "    [theme=dark] .colab-df-convert {\n",
              "      background-color: #3B4455;\n",
              "      fill: #D2E3FC;\n",
              "    }\n",
              "\n",
              "    [theme=dark] .colab-df-convert:hover {\n",
              "      background-color: #434B5C;\n",
              "      box-shadow: 0px 1px 3px 1px rgba(0, 0, 0, 0.15);\n",
              "      filter: drop-shadow(0px 1px 2px rgba(0, 0, 0, 0.3));\n",
              "      fill: #FFFFFF;\n",
              "    }\n",
              "  </style>\n",
              "\n",
              "    <script>\n",
              "      const buttonEl =\n",
              "        document.querySelector('#df-13d82336-e2f9-42af-902d-c909c663d092 button.colab-df-convert');\n",
              "      buttonEl.style.display =\n",
              "        google.colab.kernel.accessAllowed ? 'block' : 'none';\n",
              "\n",
              "      async function convertToInteractive(key) {\n",
              "        const element = document.querySelector('#df-13d82336-e2f9-42af-902d-c909c663d092');\n",
              "        const dataTable =\n",
              "          await google.colab.kernel.invokeFunction('convertToInteractive',\n",
              "                                                    [key], {});\n",
              "        if (!dataTable) return;\n",
              "\n",
              "        const docLinkHtml = 'Like what you see? Visit the ' +\n",
              "          '<a target=\"_blank\" href=https://colab.research.google.com/notebooks/data_table.ipynb>data table notebook</a>'\n",
              "          + ' to learn more about interactive tables.';\n",
              "        element.innerHTML = '';\n",
              "        dataTable['output_type'] = 'display_data';\n",
              "        await google.colab.output.renderOutput(dataTable, element);\n",
              "        const docLink = document.createElement('div');\n",
              "        docLink.innerHTML = docLinkHtml;\n",
              "        element.appendChild(docLink);\n",
              "      }\n",
              "    </script>\n",
              "  </div>\n",
              "\n",
              "\n",
              "<div id=\"df-205ab8c1-30d5-41a7-bfec-09a2a49c5af1\">\n",
              "  <button class=\"colab-df-quickchart\" onclick=\"quickchart('df-205ab8c1-30d5-41a7-bfec-09a2a49c5af1')\"\n",
              "            title=\"Suggest charts\"\n",
              "            style=\"display:none;\">\n",
              "\n",
              "<svg xmlns=\"http://www.w3.org/2000/svg\" height=\"24px\"viewBox=\"0 0 24 24\"\n",
              "     width=\"24px\">\n",
              "    <g>\n",
              "        <path d=\"M19 3H5c-1.1 0-2 .9-2 2v14c0 1.1.9 2 2 2h14c1.1 0 2-.9 2-2V5c0-1.1-.9-2-2-2zM9 17H7v-7h2v7zm4 0h-2V7h2v10zm4 0h-2v-4h2v4z\"/>\n",
              "    </g>\n",
              "</svg>\n",
              "  </button>\n",
              "\n",
              "<style>\n",
              "  .colab-df-quickchart {\n",
              "      --bg-color: #E8F0FE;\n",
              "      --fill-color: #1967D2;\n",
              "      --hover-bg-color: #E2EBFA;\n",
              "      --hover-fill-color: #174EA6;\n",
              "      --disabled-fill-color: #AAA;\n",
              "      --disabled-bg-color: #DDD;\n",
              "  }\n",
              "\n",
              "  [theme=dark] .colab-df-quickchart {\n",
              "      --bg-color: #3B4455;\n",
              "      --fill-color: #D2E3FC;\n",
              "      --hover-bg-color: #434B5C;\n",
              "      --hover-fill-color: #FFFFFF;\n",
              "      --disabled-bg-color: #3B4455;\n",
              "      --disabled-fill-color: #666;\n",
              "  }\n",
              "\n",
              "  .colab-df-quickchart {\n",
              "    background-color: var(--bg-color);\n",
              "    border: none;\n",
              "    border-radius: 50%;\n",
              "    cursor: pointer;\n",
              "    display: none;\n",
              "    fill: var(--fill-color);\n",
              "    height: 32px;\n",
              "    padding: 0;\n",
              "    width: 32px;\n",
              "  }\n",
              "\n",
              "  .colab-df-quickchart:hover {\n",
              "    background-color: var(--hover-bg-color);\n",
              "    box-shadow: 0 1px 2px rgba(60, 64, 67, 0.3), 0 1px 3px 1px rgba(60, 64, 67, 0.15);\n",
              "    fill: var(--button-hover-fill-color);\n",
              "  }\n",
              "\n",
              "  .colab-df-quickchart-complete:disabled,\n",
              "  .colab-df-quickchart-complete:disabled:hover {\n",
              "    background-color: var(--disabled-bg-color);\n",
              "    fill: var(--disabled-fill-color);\n",
              "    box-shadow: none;\n",
              "  }\n",
              "\n",
              "  .colab-df-spinner {\n",
              "    border: 2px solid var(--fill-color);\n",
              "    border-color: transparent;\n",
              "    border-bottom-color: var(--fill-color);\n",
              "    animation:\n",
              "      spin 1s steps(1) infinite;\n",
              "  }\n",
              "\n",
              "  @keyframes spin {\n",
              "    0% {\n",
              "      border-color: transparent;\n",
              "      border-bottom-color: var(--fill-color);\n",
              "      border-left-color: var(--fill-color);\n",
              "    }\n",
              "    20% {\n",
              "      border-color: transparent;\n",
              "      border-left-color: var(--fill-color);\n",
              "      border-top-color: var(--fill-color);\n",
              "    }\n",
              "    30% {\n",
              "      border-color: transparent;\n",
              "      border-left-color: var(--fill-color);\n",
              "      border-top-color: var(--fill-color);\n",
              "      border-right-color: var(--fill-color);\n",
              "    }\n",
              "    40% {\n",
              "      border-color: transparent;\n",
              "      border-right-color: var(--fill-color);\n",
              "      border-top-color: var(--fill-color);\n",
              "    }\n",
              "    60% {\n",
              "      border-color: transparent;\n",
              "      border-right-color: var(--fill-color);\n",
              "    }\n",
              "    80% {\n",
              "      border-color: transparent;\n",
              "      border-right-color: var(--fill-color);\n",
              "      border-bottom-color: var(--fill-color);\n",
              "    }\n",
              "    90% {\n",
              "      border-color: transparent;\n",
              "      border-bottom-color: var(--fill-color);\n",
              "    }\n",
              "  }\n",
              "</style>\n",
              "\n",
              "  <script>\n",
              "    async function quickchart(key) {\n",
              "      const quickchartButtonEl =\n",
              "        document.querySelector('#' + key + ' button');\n",
              "      quickchartButtonEl.disabled = true;  // To prevent multiple clicks.\n",
              "      quickchartButtonEl.classList.add('colab-df-spinner');\n",
              "      try {\n",
              "        const charts = await google.colab.kernel.invokeFunction(\n",
              "            'suggestCharts', [key], {});\n",
              "      } catch (error) {\n",
              "        console.error('Error during call to suggestCharts:', error);\n",
              "      }\n",
              "      quickchartButtonEl.classList.remove('colab-df-spinner');\n",
              "      quickchartButtonEl.classList.add('colab-df-quickchart-complete');\n",
              "    }\n",
              "    (() => {\n",
              "      let quickchartButtonEl =\n",
              "        document.querySelector('#df-205ab8c1-30d5-41a7-bfec-09a2a49c5af1 button');\n",
              "      quickchartButtonEl.style.display =\n",
              "        google.colab.kernel.accessAllowed ? 'block' : 'none';\n",
              "    })();\n",
              "  </script>\n",
              "</div>\n",
              "    </div>\n",
              "  </div>\n"
            ],
            "application/vnd.google.colaboratory.intrinsic+json": {
              "type": "dataframe",
              "variable_name": "df"
            }
          },
          "metadata": {},
          "execution_count": 7
        }
      ],
      "source": [
        "df"
      ]
    },
    {
      "cell_type": "code",
      "execution_count": null,
      "metadata": {
        "colab": {
          "base_uri": "https://localhost:8080/",
          "height": 527
        },
        "id": "CWJGwPAqsFzQ",
        "outputId": "b23fe33a-4bf1-443f-a90e-e64ca3e6d6b0"
      },
      "outputs": [
        {
          "output_type": "stream",
          "name": "stderr",
          "text": [
            "/usr/local/lib/python3.10/dist-packages/ipykernel/ipkernel.py:283: DeprecationWarning: `should_run_async` will not call `transform_cell` automatically in the future. Please pass the result to `transformed_cell` argument and any exception that happen during thetransform in `preprocessing_exc_tuple` in IPython 7.17 and above.\n",
            "  and should_run_async(code)\n"
          ]
        },
        {
          "output_type": "display_data",
          "data": {
            "text/plain": [
              "<Figure size 640x480 with 1 Axes>"
            ],
            "image/png": "[encoded data removed]"
          },
          "metadata": {}
        }
      ],
      "source": [
        "temp = df[80000:140000]\n",
        "colors = ['r', 'g', 'b', 'c', 'm', 'y']\n",
        "for i, (colname, color) in enumerate(zip(temp.columns, colors)):\n",
        "    plt.plot(temp.index, temp[colname], label=colname, color=color)\n",
        "\n",
        "plt.xlabel('Index')\n",
        "plt.ylabel('Feature Value')\n",
        "plt.legend()\n",
        "plt.title('A plot displaying patient vital signs')\n",
        "plt.show()"
      ]
    },
    {
      "cell_type": "code",
      "execution_count": null,
      "metadata": {
        "colab": {
          "base_uri": "https://localhost:8080/",
          "height": 551
        },
        "id": "_jAmiGWBq_t3",
        "outputId": "251632c5-a46a-413d-f7f7-b71522bb2aa3"
      },
      "outputs": [
        {
          "output_type": "execute_result",
          "data": {
            "text/plain": [
              "[<matplotlib.lines.Line2D at 0x7da86389d150>,\n",
              " <matplotlib.lines.Line2D at 0x7da86389d1b0>,\n",
              " <matplotlib.lines.Line2D at 0x7da86386bfa0>,\n",
              " <matplotlib.lines.Line2D at 0x7da86386bfd0>,\n",
              " <matplotlib.lines.Line2D at 0x7da86389d1e0>,\n",
              " <matplotlib.lines.Line2D at 0x7da86389c130>,\n",
              " <matplotlib.lines.Line2D at 0x7da86389d480>]"
            ]
          },
          "metadata": {},
          "execution_count": 9
        },
        {
          "output_type": "display_data",
          "data": {
            "text/plain": [
              "<Figure size 640x480 with 1 Axes>"
            ],
            "image/png": "[encoded data removed]"
          },
          "metadata": {}
        }
      ],
      "source": [
        "plt.plot(df[:100000])"
      ]
    },
    {
      "cell_type": "code",
      "execution_count": null,
      "metadata": {
        "id": "pzJOmXQc2BVz"
      },
      "outputs": [],
      "source": [
        "# df = df[:30000]"
      ]
    },
    {
      "cell_type": "code",
      "execution_count": null,
      "metadata": {
        "colab": {
          "base_uri": "https://localhost:8080/"
        },
        "id": "WfJpu6D8EHfm",
        "outputId": "72a316ef-cfac-4695-8b9b-669a90240154"
      },
      "outputs": [
        {
          "output_type": "stream",
          "name": "stdout",
          "text": [
            "228848 24178 0\n"
          ]
        }
      ],
      "source": [
        "df.loc[df['ALERT']==2]=0\n",
        "print(len(df[df['ALERT']==0]),len(df[df['ALERT']==1]),len(df[df['ALERT']==2]))"
      ]
    },
    {
      "cell_type": "code",
      "execution_count": null,
      "metadata": {
        "colab": {
          "base_uri": "https://localhost:8080/"
        },
        "id": "hKJ8jskj4j0k",
        "outputId": "67d097b5-0b2b-4fe0-d48a-7b7f99a145f7"
      },
      "outputs": [
        {
          "output_type": "stream",
          "name": "stdout",
          "text": [
            "SpO2    -0.928728\n",
            "HR       0.026014\n",
            "PULSE   -0.858925\n",
            "RESP     0.075630\n",
            "ABP2     0.089362\n",
            "ABP3     0.093886\n",
            "dtype: float64\n"
          ]
        }
      ],
      "source": [
        "target_class_column = 'ALERT'\n",
        "\n",
        "# Compute correlation between each feature and the target class\n",
        "correlations = {}\n",
        "for column in df.columns:\n",
        "    if column != target_class_column:\n",
        "        correlation = df[column].corr(df[target_class_column])\n",
        "        correlations[column] = correlation\n",
        "\n",
        "# Convert the dictionary to a pandas Series for better visualization\n",
        "correlation_series = pd.Series(correlations)\n",
        "\n",
        "# Print or visualize the correlations\n",
        "print(correlation_series)"
      ]
    },
    {
      "cell_type": "code",
      "execution_count": null,
      "metadata": {
        "id": "BcMh3yB2VvEY"
      },
      "outputs": [],
      "source": [
        "from sklearn.preprocessing import MinMaxScaler\n",
        "# scaler = MinMaxScaler()\n",
        "# columns = df.columns\n",
        "# df = pd.DataFrame(scaler.fit_transform(df), columns=columns)"
      ]
    },
    {
      "cell_type": "code",
      "execution_count": null,
      "metadata": {
        "id": "QF0JHmhOWXuc",
        "colab": {
          "base_uri": "https://localhost:8080/"
        },
        "outputId": "4f8368b2-3bd4-4bfb-f6ef-e0de476c5b60"
      },
      "outputs": [
        {
          "output_type": "stream",
          "name": "stderr",
          "text": [
            "/usr/local/lib/python3.10/dist-packages/ipykernel/ipkernel.py:283: DeprecationWarning: `should_run_async` will not call `transform_cell` automatically in the future. Please pass the result to `transformed_cell` argument and any exception that happen during thetransform in `preprocessing_exc_tuple` in IPython 7.17 and above.\n",
            "  and should_run_async(code)\n"
          ]
        }
      ],
      "source": [
        "knn_x = df.iloc[:,:-1]\n",
        "knn_y = df.iloc[:,-1]"
      ]
    },
    {
      "cell_type": "code",
      "execution_count": null,
      "metadata": {
        "colab": {
          "base_uri": "https://localhost:8080/",
          "height": 423
        },
        "id": "SuFJaIQ-Wbgp",
        "outputId": "fccd10f5-a220-4d02-b4ae-c0f27bbc81a5"
      },
      "outputs": [
        {
          "output_type": "execute_result",
          "data": {
            "text/plain": [
              "        SpO2          HR       PULSE  RESP        ABP2       ABP3  ALERT\n",
              "0       94.0   71.000000   71.000000  19.0  113.000000  50.000000      0\n",
              "1       94.0   71.000000   71.000000  19.0  113.000000  50.000000      0\n",
              "2       94.0   71.000000   71.000000  17.0  113.000000  51.000000      0\n",
              "3       94.0   71.000000   71.000000  17.0  113.000000  51.000000      0\n",
              "4       94.0   71.000000   71.000000  17.0  113.000000  50.000000      0\n",
              "...      ...         ...         ...   ...         ...        ...    ...\n",
              "253021  94.0  111.000000  111.000000  14.0  107.000000  61.000000      0\n",
              "253022  94.0  111.000000  110.000000  14.0  108.000000  61.000000      0\n",
              "253023  94.0  111.000000  110.000000  14.0  108.000000  61.000000      0\n",
              "253024  94.0  111.000000  110.000000  14.0  108.000000  61.000000      0\n",
              "253025  94.0  110.489796  110.204082  14.0  108.040816  60.857143      0\n",
              "\n",
              "[253026 rows x 7 columns]"
            ],
            "text/html": [
              "\n",
              "  <div id=\"df-b0cf3c6e-64bb-47bc-8188-7516035e49f2\" class=\"colab-df-container\">\n",
              "    <div>\n",
              "<style scoped>\n",
              "    .dataframe tbody tr th:only-of-type {\n",
              "        vertical-align: middle;\n",
              "    }\n",
              "\n",
              "    .dataframe tbody tr th {\n",
              "        vertical-align: top;\n",
              "    }\n",
              "\n",
              "    .dataframe thead th {\n",
              "        text-align: right;\n",
              "    }\n",
              "</style>\n",
              "<table border=\"1\" class=\"dataframe\">\n",
              "  <thead>\n",
              "    <tr style=\"text-align: right;\">\n",
              "      <th></th>\n",
              "      <th>SpO2</th>\n",
              "      <th>HR</th>\n",
              "      <th>PULSE</th>\n",
              "      <th>RESP</th>\n",
              "      <th>ABP2</th>\n",
              "      <th>ABP3</th>\n",
              "      <th>ALERT</th>\n",
              "    </tr>\n",
              "  </thead>\n",
              "  <tbody>\n",
              "    <tr>\n",
              "      <th>0</th>\n",
              "      <td>94.0</td>\n",
              "      <td>71.000000</td>\n",
              "      <td>71.000000</td>\n",
              "      <td>19.0</td>\n",
              "      <td>113.000000</td>\n",
              "      <td>50.000000</td>\n",
              "      <td>0</td>\n",
              "    </tr>\n",
              "    <tr>\n",
              "      <th>1</th>\n",
              "      <td>94.0</td>\n",
              "      <td>71.000000</td>\n",
              "      <td>71.000000</td>\n",
              "      <td>19.0</td>\n",
              "      <td>113.000000</td>\n",
              "      <td>50.000000</td>\n",
              "      <td>0</td>\n",
              "    </tr>\n",
              "    <tr>\n",
              "      <th>2</th>\n",
              "      <td>94.0</td>\n",
              "      <td>71.000000</td>\n",
              "      <td>71.000000</td>\n",
              "      <td>17.0</td>\n",
              "      <td>113.000000</td>\n",
              "      <td>51.000000</td>\n",
              "      <td>0</td>\n",
              "    </tr>\n",
              "    <tr>\n",
              "      <th>3</th>\n",
              "      <td>94.0</td>\n",
              "      <td>71.000000</td>\n",
              "      <td>71.000000</td>\n",
              "      <td>17.0</td>\n",
              "      <td>113.000000</td>\n",
              "      <td>51.000000</td>\n",
              "      <td>0</td>\n",
              "    </tr>\n",
              "    <tr>\n",
              "      <th>4</th>\n",
              "      <td>94.0</td>\n",
              "      <td>71.000000</td>\n",
              "      <td>71.000000</td>\n",
              "      <td>17.0</td>\n",
              "      <td>113.000000</td>\n",
              "      <td>50.000000</td>\n",
              "      <td>0</td>\n",
              "    </tr>\n",
              "    <tr>\n",
              "      <th>...</th>\n",
              "      <td>...</td>\n",
              "      <td>...</td>\n",
              "      <td>...</td>\n",
              "      <td>...</td>\n",
              "      <td>...</td>\n",
              "      <td>...</td>\n",
              "      <td>...</td>\n",
              "    </tr>\n",
              "    <tr>\n",
              "      <th>253021</th>\n",
              "      <td>94.0</td>\n",
              "      <td>111.000000</td>\n",
              "      <td>111.000000</td>\n",
              "      <td>14.0</td>\n",
              "      <td>107.000000</td>\n",
              "      <td>61.000000</td>\n",
              "      <td>0</td>\n",
              "    </tr>\n",
              "    <tr>\n",
              "      <th>253022</th>\n",
              "      <td>94.0</td>\n",
              "      <td>111.000000</td>\n",
              "      <td>110.000000</td>\n",
              "      <td>14.0</td>\n",
              "      <td>108.000000</td>\n",
              "      <td>61.000000</td>\n",
              "      <td>0</td>\n",
              "    </tr>\n",
              "    <tr>\n",
              "      <th>253023</th>\n",
              "      <td>94.0</td>\n",
              "      <td>111.000000</td>\n",
              "      <td>110.000000</td>\n",
              "      <td>14.0</td>\n",
              "      <td>108.000000</td>\n",
              "      <td>61.000000</td>\n",
              "      <td>0</td>\n",
              "    </tr>\n",
              "    <tr>\n",
              "      <th>253024</th>\n",
              "      <td>94.0</td>\n",
              "      <td>111.000000</td>\n",
              "      <td>110.000000</td>\n",
              "      <td>14.0</td>\n",
              "      <td>108.000000</td>\n",
              "      <td>61.000000</td>\n",
              "      <td>0</td>\n",
              "    </tr>\n",
              "    <tr>\n",
              "      <th>253025</th>\n",
              "      <td>94.0</td>\n",
              "      <td>110.489796</td>\n",
              "      <td>110.204082</td>\n",
              "      <td>14.0</td>\n",
              "      <td>108.040816</td>\n",
              "      <td>60.857143</td>\n",
              "      <td>0</td>\n",
              "    </tr>\n",
              "  </tbody>\n",
              "</table>\n",
              "<p>253026 rows × 7 columns</p>\n",
              "</div>\n",
              "    <div class=\"colab-df-buttons\">\n",
              "\n",
              "  <div class=\"colab-df-container\">\n",
              "    <button class=\"colab-df-convert\" onclick=\"convertToInteractive('df-b0cf3c6e-64bb-47bc-8188-7516035e49f2')\"\n",
              "            title=\"Convert this dataframe to an interactive table.\"\n",
              "            style=\"display:none;\">\n",
              "\n",
              "  <svg xmlns=\"http://www.w3.org/2000/svg\" height=\"24px\" viewBox=\"0 -960 960 960\">\n",
              "    <path d=\"M120-120v-720h720v720H120Zm60-500h600v-160H180v160Zm220 220h160v-160H400v160Zm0 220h160v-160H400v160ZM180-400h160v-160H180v160Zm440 0h160v-160H620v160ZM180-180h160v-160H180v160Zm440 0h160v-160H620v160Z\"/>\n",
              "  </svg>\n",
              "    </button>\n",
              "\n",
              "  <style>\n",
              "    .colab-df-container {\n",
              "      display:flex;\n",
              "      gap: 12px;\n",
              "    }\n",
              "\n",
              "    .colab-df-convert {\n",
              "      background-color: #E8F0FE;\n",
              "      border: none;\n",
              "      border-radius: 50%;\n",
              "      cursor: pointer;\n",
              "      display: none;\n",
              "      fill: #1967D2;\n",
              "      height: 32px;\n",
              "      padding: 0 0 0 0;\n",
              "      width: 32px;\n",
              "    }\n",
              "\n",
              "    .colab-df-convert:hover {\n",
              "      background-color: #E2EBFA;\n",
              "      box-shadow: 0px 1px 2px rgba(60, 64, 67, 0.3), 0px 1px 3px 1px rgba(60, 64, 67, 0.15);\n",
              "      fill: #174EA6;\n",
              "    }\n",
              "\n",
              "    .colab-df-buttons div {\n",
              "      margin-bottom: 4px;\n",
              "    }\n",
              "\n",
              "    [theme=dark] .colab-df-convert {\n",
              "      background-color: #3B4455;\n",
              "      fill: #D2E3FC;\n",
              "    }\n",
              "\n",
              "    [theme=dark] .colab-df-convert:hover {\n",
              "      background-color: #434B5C;\n",
              "      box-shadow: 0px 1px 3px 1px rgba(0, 0, 0, 0.15);\n",
              "      filter: drop-shadow(0px 1px 2px rgba(0, 0, 0, 0.3));\n",
              "      fill: #FFFFFF;\n",
              "    }\n",
              "  </style>\n",
              "\n",
              "    <script>\n",
              "      const buttonEl =\n",
              "        document.querySelector('#df-b0cf3c6e-64bb-47bc-8188-7516035e49f2 button.colab-df-convert');\n",
              "      buttonEl.style.display =\n",
              "        google.colab.kernel.accessAllowed ? 'block' : 'none';\n",
              "\n",
              "      async function convertToInteractive(key) {\n",
              "        const element = document.querySelector('#df-b0cf3c6e-64bb-47bc-8188-7516035e49f2');\n",
              "        const dataTable =\n",
              "          await google.colab.kernel.invokeFunction('convertToInteractive',\n",
              "                                                    [key], {});\n",
              "        if (!dataTable) return;\n",
              "\n",
              "        const docLinkHtml = 'Like what you see? Visit the ' +\n",
              "          '<a target=\"_blank\" href=https://colab.research.google.com/notebooks/data_table.ipynb>data table notebook</a>'\n",
              "          + ' to learn more about interactive tables.';\n",
              "        element.innerHTML = '';\n",
              "        dataTable['output_type'] = 'display_data';\n",
              "        await google.colab.output.renderOutput(dataTable, element);\n",
              "        const docLink = document.createElement('div');\n",
              "        docLink.innerHTML = docLinkHtml;\n",
              "        element.appendChild(docLink);\n",
              "      }\n",
              "    </script>\n",
              "  </div>\n",
              "\n",
              "\n",
              "<div id=\"df-a55fa739-4108-4832-9341-7bafb0ef180e\">\n",
              "  <button class=\"colab-df-quickchart\" onclick=\"quickchart('df-a55fa739-4108-4832-9341-7bafb0ef180e')\"\n",
              "            title=\"Suggest charts\"\n",
              "            style=\"display:none;\">\n",
              "\n",
              "<svg xmlns=\"http://www.w3.org/2000/svg\" height=\"24px\"viewBox=\"0 0 24 24\"\n",
              "     width=\"24px\">\n",
              "    <g>\n",
              "        <path d=\"M19 3H5c-1.1 0-2 .9-2 2v14c0 1.1.9 2 2 2h14c1.1 0 2-.9 2-2V5c0-1.1-.9-2-2-2zM9 17H7v-7h2v7zm4 0h-2V7h2v10zm4 0h-2v-4h2v4z\"/>\n",
              "    </g>\n",
              "</svg>\n",
              "  </button>\n",
              "\n",
              "<style>\n",
              "  .colab-df-quickchart {\n",
              "      --bg-color: #E8F0FE;\n",
              "      --fill-color: #1967D2;\n",
              "      --hover-bg-color: #E2EBFA;\n",
              "      --hover-fill-color: #174EA6;\n",
              "      --disabled-fill-color: #AAA;\n",
              "      --disabled-bg-color: #DDD;\n",
              "  }\n",
              "\n",
              "  [theme=dark] .colab-df-quickchart {\n",
              "      --bg-color: #3B4455;\n",
              "      --fill-color: #D2E3FC;\n",
              "      --hover-bg-color: #434B5C;\n",
              "      --hover-fill-color: #FFFFFF;\n",
              "      --disabled-bg-color: #3B4455;\n",
              "      --disabled-fill-color: #666;\n",
              "  }\n",
              "\n",
              "  .colab-df-quickchart {\n",
              "    background-color: var(--bg-color);\n",
              "    border: none;\n",
              "    border-radius: 50%;\n",
              "    cursor: pointer;\n",
              "    display: none;\n",
              "    fill: var(--fill-color);\n",
              "    height: 32px;\n",
              "    padding: 0;\n",
              "    width: 32px;\n",
              "  }\n",
              "\n",
              "  .colab-df-quickchart:hover {\n",
              "    background-color: var(--hover-bg-color);\n",
              "    box-shadow: 0 1px 2px rgba(60, 64, 67, 0.3), 0 1px 3px 1px rgba(60, 64, 67, 0.15);\n",
              "    fill: var(--button-hover-fill-color);\n",
              "  }\n",
              "\n",
              "  .colab-df-quickchart-complete:disabled,\n",
              "  .colab-df-quickchart-complete:disabled:hover {\n",
              "    background-color: var(--disabled-bg-color);\n",
              "    fill: var(--disabled-fill-color);\n",
              "    box-shadow: none;\n",
              "  }\n",
              "\n",
              "  .colab-df-spinner {\n",
              "    border: 2px solid var(--fill-color);\n",
              "    border-color: transparent;\n",
              "    border-bottom-color: var(--fill-color);\n",
              "    animation:\n",
              "      spin 1s steps(1) infinite;\n",
              "  }\n",
              "\n",
              "  @keyframes spin {\n",
              "    0% {\n",
              "      border-color: transparent;\n",
              "      border-bottom-color: var(--fill-color);\n",
              "      border-left-color: var(--fill-color);\n",
              "    }\n",
              "    20% {\n",
              "      border-color: transparent;\n",
              "      border-left-color: var(--fill-color);\n",
              "      border-top-color: var(--fill-color);\n",
              "    }\n",
              "    30% {\n",
              "      border-color: transparent;\n",
              "      border-left-color: var(--fill-color);\n",
              "      border-top-color: var(--fill-color);\n",
              "      border-right-color: var(--fill-color);\n",
              "    }\n",
              "    40% {\n",
              "      border-color: transparent;\n",
              "      border-right-color: var(--fill-color);\n",
              "      border-top-color: var(--fill-color);\n",
              "    }\n",
              "    60% {\n",
              "      border-color: transparent;\n",
              "      border-right-color: var(--fill-color);\n",
              "    }\n",
              "    80% {\n",
              "      border-color: transparent;\n",
              "      border-right-color: var(--fill-color);\n",
              "      border-bottom-color: var(--fill-color);\n",
              "    }\n",
              "    90% {\n",
              "      border-color: transparent;\n",
              "      border-bottom-color: var(--fill-color);\n",
              "    }\n",
              "  }\n",
              "</style>\n",
              "\n",
              "  <script>\n",
              "    async function quickchart(key) {\n",
              "      const quickchartButtonEl =\n",
              "        document.querySelector('#' + key + ' button');\n",
              "      quickchartButtonEl.disabled = true;  // To prevent multiple clicks.\n",
              "      quickchartButtonEl.classList.add('colab-df-spinner');\n",
              "      try {\n",
              "        const charts = await google.colab.kernel.invokeFunction(\n",
              "            'suggestCharts', [key], {});\n",
              "      } catch (error) {\n",
              "        console.error('Error during call to suggestCharts:', error);\n",
              "      }\n",
              "      quickchartButtonEl.classList.remove('colab-df-spinner');\n",
              "      quickchartButtonEl.classList.add('colab-df-quickchart-complete');\n",
              "    }\n",
              "    (() => {\n",
              "      let quickchartButtonEl =\n",
              "        document.querySelector('#df-a55fa739-4108-4832-9341-7bafb0ef180e button');\n",
              "      quickchartButtonEl.style.display =\n",
              "        google.colab.kernel.accessAllowed ? 'block' : 'none';\n",
              "    })();\n",
              "  </script>\n",
              "</div>\n",
              "    </div>\n",
              "  </div>\n"
            ],
            "application/vnd.google.colaboratory.intrinsic+json": {
              "type": "dataframe",
              "variable_name": "df"
            }
          },
          "metadata": {},
          "execution_count": 15
        }
      ],
      "source": [
        "df"
      ]
    },
    {
      "cell_type": "code",
      "execution_count": null,
      "metadata": {
        "colab": {
          "base_uri": "https://localhost:8080/"
        },
        "id": "2l8w2-ZrWX3S",
        "outputId": "046b7a82-2d64-4c01-c806-596ff4189804"
      },
      "outputs": [
        {
          "output_type": "stream",
          "name": "stderr",
          "text": [
            "/usr/local/lib/python3.10/dist-packages/ipykernel/ipkernel.py:283: DeprecationWarning: `should_run_async` will not call `transform_cell` automatically in the future. Please pass the result to `transformed_cell` argument and any exception that happen during thetransform in `preprocessing_exc_tuple` in IPython 7.17 and above.\n",
            "  and should_run_async(code)\n"
          ]
        }
      ],
      "source": [
        "df = df[:90000]"
      ]
    },
    {
      "cell_type": "code",
      "execution_count": null,
      "metadata": {
        "id": "PiPWtkbTiEOH"
      },
      "outputs": [],
      "source": [
        "split_index = int(0.7 * len(df))\n",
        "# Splitting the data into training and testing sets\n",
        "df_train,df_test = df[:split_index],df[split_index:]\n",
        "df_test = df_test.reset_index()"
      ]
    },
    {
      "cell_type": "code",
      "execution_count": null,
      "metadata": {
        "colab": {
          "base_uri": "https://localhost:8080/",
          "height": 502
        },
        "id": "UJe3QbKKjU5G",
        "outputId": "1f0733b3-c265-417b-a1a5-3a4f17f8912c"
      },
      "outputs": [
        {
          "output_type": "stream",
          "name": "stderr",
          "text": [
            "/usr/local/lib/python3.10/dist-packages/ipykernel/ipkernel.py:283: DeprecationWarning: `should_run_async` will not call `transform_cell` automatically in the future. Please pass the result to `transformed_cell` argument and any exception that happen during thetransform in `preprocessing_exc_tuple` in IPython 7.17 and above.\n",
            "  and should_run_async(code)\n"
          ]
        },
        {
          "output_type": "execute_result",
          "data": {
            "text/plain": [
              "[<matplotlib.lines.Line2D at 0x7da865064af0>]"
            ]
          },
          "metadata": {},
          "execution_count": 18
        },
        {
          "output_type": "display_data",
          "data": {
            "text/plain": [
              "<Figure size 640x480 with 1 Axes>"
            ],
            "image/png": "[encoded data removed]"
          },
          "metadata": {}
        }
      ],
      "source": [
        "plt.plot(df_test['ALERT'])"
      ]
    },
    {
      "cell_type": "code",
      "execution_count": null,
      "metadata": {
        "id": "km_A8nfOG4ER"
      },
      "outputs": [],
      "source": [
        "def get_val(df):\n",
        "  n1 = (int(len(df[df['ALERT']==0])/len(df[df['ALERT']==1]))-1)\n",
        "  # n2 = (int(len(df[df['ALERT']==0])/len(df[df['ALERT']==2]))-1)\n",
        "  num1 = len(df[df['ALERT']==0]) - len(df[df['ALERT']==1])*(1+n1)\n",
        "  # num2 = len(df[df['ALERT']==0]) - len(df[df['ALERT']==2])*(1+n2)\n",
        "  print(n1,num1)\n",
        "  print(len(df[df['ALERT']==2]))\n",
        "  print(len(df[df['ALERT']==1]))\n",
        "  print(len(df[df['ALERT']==0]))\n",
        "  return n1,num1"
      ]
    },
    {
      "cell_type": "code",
      "execution_count": null,
      "metadata": {
        "id": "UBPKagnFG1dL"
      },
      "outputs": [],
      "source": [
        "def add_rows_false_alarm(row,n1,num1):\n",
        "    new_rows = []\n",
        "    num = n1\n",
        "    if num1 > 0:\n",
        "      num +=1\n",
        "      num1 -=1\n",
        "    for _ in range(num):\n",
        "        new_row = row.copy()\n",
        "        new_row['HR'] += np.random.choice([-1, 0, 1])\n",
        "        new_row['SpO2'] += np.random.choice([-1, 0, 1])\n",
        "        new_row['PULSE'] += np.random.choice([-1, 0, 1])\n",
        "        new_rows.append(new_row)\n",
        "    return new_rows"
      ]
    },
    {
      "cell_type": "code",
      "execution_count": null,
      "metadata": {
        "id": "SgYQTvgsMNSR"
      },
      "outputs": [],
      "source": [
        "def add_rows_true_alarm(row,n2,num2):\n",
        "    new_rows = []\n",
        "    num = n2\n",
        "    if num2 > 0:\n",
        "      num +=1\n",
        "      num2 -=1\n",
        "    for _ in range(num):\n",
        "        new_row = row.copy()\n",
        "        if new_row['SpO2'] > 1:\n",
        "          new_row['SpO2'] += np.random.choice([-1, 0, 1])\n",
        "        if new_row['HR'] > 50:\n",
        "          new_row['HR'] += np.random.choice([-1, 0, 1])\n",
        "        if new_row['PULSE'] >= 60:\n",
        "          new_row['PULSE'] += np.random.choice([-1, 0, 1])\n",
        "        new_rows.append(new_row)\n",
        "    return new_rows"
      ]
    },
    {
      "cell_type": "code",
      "execution_count": null,
      "metadata": {
        "id": "ITbZ5qz2nX94"
      },
      "outputs": [],
      "source": [
        "def oversample(df_train,n1,n2,num1,num2):\n",
        "  new_df = pd.DataFrame(columns = df_train.columns)\n",
        "  for index, row in df_train.iterrows():\n",
        "      if row['ALERT'] == 0:\n",
        "          new_df = new_df.append(row, ignore_index=True)\n",
        "      elif row['ALERT']== 1:\n",
        "          modified_rows = add_rows_false_alarm(row,n1,num1)\n",
        "          new_df = new_df.append(row, ignore_index=True)\n",
        "          for new_row in modified_rows:\n",
        "              new_df = new_df.append(new_row, ignore_index=True)\n",
        "      else:\n",
        "          modified_rows = add_rows_true_alarm(row,n2,num2)\n",
        "          new_df = new_df.append(row, ignore_index=True)\n",
        "          for new_row in modified_rows:\n",
        "              new_df = new_df.append(new_row, ignore_index=True)\n",
        "  new_df = new_df.reset_index()\n",
        "  return new_df"
      ]
    },
    {
      "cell_type": "code",
      "execution_count": null,
      "metadata": {
        "id": "CTRD5KRL3F1W"
      },
      "outputs": [],
      "source": [
        "# # n1,n2,num1,num2 = get_val(df_train)\n",
        "# n1,num1 = get_val(df_train)\n",
        "# df_train = oversample(df_train,n1,0,num1,0)\n",
        "# # n1,n2,num1,num2 = get_val(df_test)\n",
        "# # df_test = oversample(df_test,n1,n2,num1,num2)"
      ]
    },
    {
      "cell_type": "code",
      "execution_count": null,
      "metadata": {
        "id": "4Ly5wChdFqvY"
      },
      "outputs": [],
      "source": [
        "# df_train = df_train.sample(frac=1).reset_index(drop=True)"
      ]
    },
    {
      "cell_type": "code",
      "execution_count": null,
      "metadata": {
        "id": "RpHWuPSU9vW2",
        "colab": {
          "base_uri": "https://localhost:8080/"
        },
        "outputId": "18c594b1-cc16-480b-8d6e-1bdc05e2686f"
      },
      "outputs": [
        {
          "output_type": "stream",
          "name": "stdout",
          "text": [
            "SpO2    -0.969909\n",
            "HR       0.169393\n",
            "PULSE   -0.942143\n",
            "RESP     0.261728\n",
            "ABP2     0.230921\n",
            "ABP3     0.180635\n",
            "dtype: float64\n"
          ]
        }
      ],
      "source": [
        "target_class_column = 'ALERT'\n",
        "\n",
        "# Compute correlati\n",
        "# on between each feature and the target class\n",
        "correlations = {}\n",
        "for column in df_train.columns:\n",
        "    if column != target_class_column:\n",
        "        correlation = df_train[column].corr(df_train[target_class_column])\n",
        "        correlations[column] = correlation\n",
        "\n",
        "# Convert the dictionary to a pandas Series for better visualization\n",
        "correlation_series = pd.Series(correlations)\n",
        "\n",
        "# Print or visualize the correlations\n",
        "print(correlation_series)"
      ]
    },
    {
      "cell_type": "code",
      "execution_count": null,
      "metadata": {
        "id": "0qNPkkZo3P1j"
      },
      "outputs": [],
      "source": [
        "x_train,y_train,x_test,y_test = df_train.iloc[:,:-1],df_train.iloc[:,-1],df_test.iloc[:,:-1],df_test.iloc[:,-1]"
      ]
    },
    {
      "cell_type": "code",
      "execution_count": null,
      "metadata": {
        "id": "e8ARWSw-GmA9",
        "colab": {
          "base_uri": "https://localhost:8080/",
          "height": 447
        },
        "outputId": "610bccff-d205-450c-975f-d61e7d763700"
      },
      "outputs": [
        {
          "output_type": "execute_result",
          "data": {
            "text/plain": [
              "[<matplotlib.lines.Line2D at 0x7da865076650>]"
            ]
          },
          "metadata": {},
          "execution_count": 27
        },
        {
          "output_type": "display_data",
          "data": {
            "text/plain": [
              "<Figure size 640x480 with 1 Axes>"
            ],
            "image/png": "[encoded data removed]"
          },
          "metadata": {}
        }
      ],
      "source": [
        "plt.plot(y_train)"
      ]
    },
    {
      "cell_type": "code",
      "execution_count": null,
      "metadata": {
        "id": "l9UE1u_Zb3xN",
        "colab": {
          "base_uri": "https://localhost:8080/",
          "height": 423
        },
        "outputId": "d27817df-cfa6-433e-e664-7512680ff00e"
      },
      "outputs": [
        {
          "output_type": "execute_result",
          "data": {
            "text/plain": [
              "       SpO2    HR  PULSE  RESP   ABP2  ABP3\n",
              "0      90.0  68.0   67.0  14.0   88.0  44.0\n",
              "1      90.0  68.0   67.0  14.0   88.0  44.0\n",
              "2      90.0  68.0   67.0  14.0   88.0  44.0\n",
              "3      90.0  68.0   67.0  14.0   88.0  44.0\n",
              "4      90.0  68.0   67.0  14.0   88.0  44.0\n",
              "...     ...   ...    ...   ...    ...   ...\n",
              "26996  95.0  96.0   95.0   0.0  100.0  63.0\n",
              "26997  95.0  96.0   96.0   0.0  101.0  63.0\n",
              "26998  95.0  96.0   96.0   0.0  100.0  63.0\n",
              "26999  95.0  97.0   97.0   0.0  100.0  63.0\n",
              "27000  95.0  97.0   97.0   0.0  100.0  63.0\n",
              "\n",
              "[27001 rows x 6 columns]"
            ],
            "text/html": [
              "\n",
              "  <div id=\"df-f521aa64-62b7-43a9-93ca-0624cdb5503d\" class=\"colab-df-container\">\n",
              "    <div>\n",
              "<style scoped>\n",
              "    .dataframe tbody tr th:only-of-type {\n",
              "        vertical-align: middle;\n",
              "    }\n",
              "\n",
              "    .dataframe tbody tr th {\n",
              "        vertical-align: top;\n",
              "    }\n",
              "\n",
              "    .dataframe thead th {\n",
              "        text-align: right;\n",
              "    }\n",
              "</style>\n",
              "<table border=\"1\" class=\"dataframe\">\n",
              "  <thead>\n",
              "    <tr style=\"text-align: right;\">\n",
              "      <th></th>\n",
              "      <th>SpO2</th>\n",
              "      <th>HR</th>\n",
              "      <th>PULSE</th>\n",
              "      <th>RESP</th>\n",
              "      <th>ABP2</th>\n",
              "      <th>ABP3</th>\n",
              "    </tr>\n",
              "  </thead>\n",
              "  <tbody>\n",
              "    <tr>\n",
              "      <th>0</th>\n",
              "      <td>90.0</td>\n",
              "      <td>68.0</td>\n",
              "      <td>67.0</td>\n",
              "      <td>14.0</td>\n",
              "      <td>88.0</td>\n",
              "      <td>44.0</td>\n",
              "    </tr>\n",
              "    <tr>\n",
              "      <th>1</th>\n",
              "      <td>90.0</td>\n",
              "      <td>68.0</td>\n",
              "      <td>67.0</td>\n",
              "      <td>14.0</td>\n",
              "      <td>88.0</td>\n",
              "      <td>44.0</td>\n",
              "    </tr>\n",
              "    <tr>\n",
              "      <th>2</th>\n",
              "      <td>90.0</td>\n",
              "      <td>68.0</td>\n",
              "      <td>67.0</td>\n",
              "      <td>14.0</td>\n",
              "      <td>88.0</td>\n",
              "      <td>44.0</td>\n",
              "    </tr>\n",
              "    <tr>\n",
              "      <th>3</th>\n",
              "      <td>90.0</td>\n",
              "      <td>68.0</td>\n",
              "      <td>67.0</td>\n",
              "      <td>14.0</td>\n",
              "      <td>88.0</td>\n",
              "      <td>44.0</td>\n",
              "    </tr>\n",
              "    <tr>\n",
              "      <th>4</th>\n",
              "      <td>90.0</td>\n",
              "      <td>68.0</td>\n",
              "      <td>67.0</td>\n",
              "      <td>14.0</td>\n",
              "      <td>88.0</td>\n",
              "      <td>44.0</td>\n",
              "    </tr>\n",
              "    <tr>\n",
              "      <th>...</th>\n",
              "      <td>...</td>\n",
              "      <td>...</td>\n",
              "      <td>...</td>\n",
              "      <td>...</td>\n",
              "      <td>...</td>\n",
              "      <td>...</td>\n",
              "    </tr>\n",
              "    <tr>\n",
              "      <th>26996</th>\n",
              "      <td>95.0</td>\n",
              "      <td>96.0</td>\n",
              "      <td>95.0</td>\n",
              "      <td>0.0</td>\n",
              "      <td>100.0</td>\n",
              "      <td>63.0</td>\n",
              "    </tr>\n",
              "    <tr>\n",
              "      <th>26997</th>\n",
              "      <td>95.0</td>\n",
              "      <td>96.0</td>\n",
              "      <td>96.0</td>\n",
              "      <td>0.0</td>\n",
              "      <td>101.0</td>\n",
              "      <td>63.0</td>\n",
              "    </tr>\n",
              "    <tr>\n",
              "      <th>26998</th>\n",
              "      <td>95.0</td>\n",
              "      <td>96.0</td>\n",
              "      <td>96.0</td>\n",
              "      <td>0.0</td>\n",
              "      <td>100.0</td>\n",
              "      <td>63.0</td>\n",
              "    </tr>\n",
              "    <tr>\n",
              "      <th>26999</th>\n",
              "      <td>95.0</td>\n",
              "      <td>97.0</td>\n",
              "      <td>97.0</td>\n",
              "      <td>0.0</td>\n",
              "      <td>100.0</td>\n",
              "      <td>63.0</td>\n",
              "    </tr>\n",
              "    <tr>\n",
              "      <th>27000</th>\n",
              "      <td>95.0</td>\n",
              "      <td>97.0</td>\n",
              "      <td>97.0</td>\n",
              "      <td>0.0</td>\n",
              "      <td>100.0</td>\n",
              "      <td>63.0</td>\n",
              "    </tr>\n",
              "  </tbody>\n",
              "</table>\n",
              "<p>27001 rows × 6 columns</p>\n",
              "</div>\n",
              "    <div class=\"colab-df-buttons\">\n",
              "\n",
              "  <div class=\"colab-df-container\">\n",
              "    <button class=\"colab-df-convert\" onclick=\"convertToInteractive('df-f521aa64-62b7-43a9-93ca-0624cdb5503d')\"\n",
              "            title=\"Convert this dataframe to an interactive table.\"\n",
              "            style=\"display:none;\">\n",
              "\n",
              "  <svg xmlns=\"http://www.w3.org/2000/svg\" height=\"24px\" viewBox=\"0 -960 960 960\">\n",
              "    <path d=\"M120-120v-720h720v720H120Zm60-500h600v-160H180v160Zm220 220h160v-160H400v160Zm0 220h160v-160H400v160ZM180-400h160v-160H180v160Zm440 0h160v-160H620v160ZM180-180h160v-160H180v160Zm440 0h160v-160H620v160Z\"/>\n",
              "  </svg>\n",
              "    </button>\n",
              "\n",
              "  <style>\n",
              "    .colab-df-container {\n",
              "      display:flex;\n",
              "      gap: 12px;\n",
              "    }\n",
              "\n",
              "    .colab-df-convert {\n",
              "      background-color: #E8F0FE;\n",
              "      border: none;\n",
              "      border-radius: 50%;\n",
              "      cursor: pointer;\n",
              "      display: none;\n",
              "      fill: #1967D2;\n",
              "      height: 32px;\n",
              "      padding: 0 0 0 0;\n",
              "      width: 32px;\n",
              "    }\n",
              "\n",
              "    .colab-df-convert:hover {\n",
              "      background-color: #E2EBFA;\n",
              "      box-shadow: 0px 1px 2px rgba(60, 64, 67, 0.3), 0px 1px 3px 1px rgba(60, 64, 67, 0.15);\n",
              "      fill: #174EA6;\n",
              "    }\n",
              "\n",
              "    .colab-df-buttons div {\n",
              "      margin-bottom: 4px;\n",
              "    }\n",
              "\n",
              "    [theme=dark] .colab-df-convert {\n",
              "      background-color: #3B4455;\n",
              "      fill: #D2E3FC;\n",
              "    }\n",
              "\n",
              "    [theme=dark] .colab-df-convert:hover {\n",
              "      background-color: #434B5C;\n",
              "      box-shadow: 0px 1px 3px 1px rgba(0, 0, 0, 0.15);\n",
              "      filter: drop-shadow(0px 1px 2px rgba(0, 0, 0, 0.3));\n",
              "      fill: #FFFFFF;\n",
              "    }\n",
              "  </style>\n",
              "\n",
              "    <script>\n",
              "      const buttonEl =\n",
              "        document.querySelector('#df-f521aa64-62b7-43a9-93ca-0624cdb5503d button.colab-df-convert');\n",
              "      buttonEl.style.display =\n",
              "        google.colab.kernel.accessAllowed ? 'block' : 'none';\n",
              "\n",
              "      async function convertToInteractive(key) {\n",
              "        const element = document.querySelector('#df-f521aa64-62b7-43a9-93ca-0624cdb5503d');\n",
              "        const dataTable =\n",
              "          await google.colab.kernel.invokeFunction('convertToInteractive',\n",
              "                                                    [key], {});\n",
              "        if (!dataTable) return;\n",
              "\n",
              "        const docLinkHtml = 'Like what you see? Visit the ' +\n",
              "          '<a target=\"_blank\" href=https://colab.research.google.com/notebooks/data_table.ipynb>data table notebook</a>'\n",
              "          + ' to learn more about interactive tables.';\n",
              "        element.innerHTML = '';\n",
              "        dataTable['output_type'] = 'display_data';\n",
              "        await google.colab.output.renderOutput(dataTable, element);\n",
              "        const docLink = document.createElement('div');\n",
              "        docLink.innerHTML = docLinkHtml;\n",
              "        element.appendChild(docLink);\n",
              "      }\n",
              "    </script>\n",
              "  </div>\n",
              "\n",
              "\n",
              "<div id=\"df-5db3d838-8392-4314-abe8-dec229e64f1a\">\n",
              "  <button class=\"colab-df-quickchart\" onclick=\"quickchart('df-5db3d838-8392-4314-abe8-dec229e64f1a')\"\n",
              "            title=\"Suggest charts\"\n",
              "            style=\"display:none;\">\n",
              "\n",
              "<svg xmlns=\"http://www.w3.org/2000/svg\" height=\"24px\"viewBox=\"0 0 24 24\"\n",
              "     width=\"24px\">\n",
              "    <g>\n",
              "        <path d=\"M19 3H5c-1.1 0-2 .9-2 2v14c0 1.1.9 2 2 2h14c1.1 0 2-.9 2-2V5c0-1.1-.9-2-2-2zM9 17H7v-7h2v7zm4 0h-2V7h2v10zm4 0h-2v-4h2v4z\"/>\n",
              "    </g>\n",
              "</svg>\n",
              "  </button>\n",
              "\n",
              "<style>\n",
              "  .colab-df-quickchart {\n",
              "      --bg-color: #E8F0FE;\n",
              "      --fill-color: #1967D2;\n",
              "      --hover-bg-color: #E2EBFA;\n",
              "      --hover-fill-color: #174EA6;\n",
              "      --disabled-fill-color: #AAA;\n",
              "      --disabled-bg-color: #DDD;\n",
              "  }\n",
              "\n",
              "  [theme=dark] .colab-df-quickchart {\n",
              "      --bg-color: #3B4455;\n",
              "      --fill-color: #D2E3FC;\n",
              "      --hover-bg-color: #434B5C;\n",
              "      --hover-fill-color: #FFFFFF;\n",
              "      --disabled-bg-color: #3B4455;\n",
              "      --disabled-fill-color: #666;\n",
              "  }\n",
              "\n",
              "  .colab-df-quickchart {\n",
              "    background-color: var(--bg-color);\n",
              "    border: none;\n",
              "    border-radius: 50%;\n",
              "    cursor: pointer;\n",
              "    display: none;\n",
              "    fill: var(--fill-color);\n",
              "    height: 32px;\n",
              "    padding: 0;\n",
              "    width: 32px;\n",
              "  }\n",
              "\n",
              "  .colab-df-quickchart:hover {\n",
              "    background-color: var(--hover-bg-color);\n",
              "    box-shadow: 0 1px 2px rgba(60, 64, 67, 0.3), 0 1px 3px 1px rgba(60, 64, 67, 0.15);\n",
              "    fill: var(--button-hover-fill-color);\n",
              "  }\n",
              "\n",
              "  .colab-df-quickchart-complete:disabled,\n",
              "  .colab-df-quickchart-complete:disabled:hover {\n",
              "    background-color: var(--disabled-bg-color);\n",
              "    fill: var(--disabled-fill-color);\n",
              "    box-shadow: none;\n",
              "  }\n",
              "\n",
              "  .colab-df-spinner {\n",
              "    border: 2px solid var(--fill-color);\n",
              "    border-color: transparent;\n",
              "    border-bottom-color: var(--fill-color);\n",
              "    animation:\n",
              "      spin 1s steps(1) infinite;\n",
              "  }\n",
              "\n",
              "  @keyframes spin {\n",
              "    0% {\n",
              "      border-color: transparent;\n",
              "      border-bottom-color: var(--fill-color);\n",
              "      border-left-color: var(--fill-color);\n",
              "    }\n",
              "    20% {\n",
              "      border-color: transparent;\n",
              "      border-left-color: var(--fill-color);\n",
              "      border-top-color: var(--fill-color);\n",
              "    }\n",
              "    30% {\n",
              "      border-color: transparent;\n",
              "      border-left-color: var(--fill-color);\n",
              "      border-top-color: var(--fill-color);\n",
              "      border-right-color: var(--fill-color);\n",
              "    }\n",
              "    40% {\n",
              "      border-color: transparent;\n",
              "      border-right-color: var(--fill-color);\n",
              "      border-top-color: var(--fill-color);\n",
              "    }\n",
              "    60% {\n",
              "      border-color: transparent;\n",
              "      border-right-color: var(--fill-color);\n",
              "    }\n",
              "    80% {\n",
              "      border-color: transparent;\n",
              "      border-right-color: var(--fill-color);\n",
              "      border-bottom-color: var(--fill-color);\n",
              "    }\n",
              "    90% {\n",
              "      border-color: transparent;\n",
              "      border-bottom-color: var(--fill-color);\n",
              "    }\n",
              "  }\n",
              "</style>\n",
              "\n",
              "  <script>\n",
              "    async function quickchart(key) {\n",
              "      const quickchartButtonEl =\n",
              "        document.querySelector('#' + key + ' button');\n",
              "      quickchartButtonEl.disabled = true;  // To prevent multiple clicks.\n",
              "      quickchartButtonEl.classList.add('colab-df-spinner');\n",
              "      try {\n",
              "        const charts = await google.colab.kernel.invokeFunction(\n",
              "            'suggestCharts', [key], {});\n",
              "      } catch (error) {\n",
              "        console.error('Error during call to suggestCharts:', error);\n",
              "      }\n",
              "      quickchartButtonEl.classList.remove('colab-df-spinner');\n",
              "      quickchartButtonEl.classList.add('colab-df-quickchart-complete');\n",
              "    }\n",
              "    (() => {\n",
              "      let quickchartButtonEl =\n",
              "        document.querySelector('#df-5db3d838-8392-4314-abe8-dec229e64f1a button');\n",
              "      quickchartButtonEl.style.display =\n",
              "        google.colab.kernel.accessAllowed ? 'block' : 'none';\n",
              "    })();\n",
              "  </script>\n",
              "</div>\n",
              "    </div>\n",
              "  </div>\n"
            ],
            "application/vnd.google.colaboratory.intrinsic+json": {
              "type": "dataframe",
              "variable_name": "x_test",
              "summary": "{\n  \"name\": \"x_test\",\n  \"rows\": 27001,\n  \"fields\": [\n    {\n      \"column\": \"SpO2\",\n      \"properties\": {\n        \"dtype\": \"number\",\n        \"std\": 26.825587356802618,\n        \"min\": 0.0,\n        \"max\": 100.0,\n        \"num_unique_values\": 26,\n        \"samples\": [\n          92.0,\n          99.0,\n          90.0\n        ],\n        \"semantic_type\": \"\",\n        \"description\": \"\"\n      }\n    },\n    {\n      \"column\": \"HR\",\n      \"properties\": {\n        \"dtype\": \"number\",\n        \"std\": 14.056913046856113,\n        \"min\": 0.0,\n        \"max\": 112.0,\n        \"num_unique_values\": 55,\n        \"samples\": [\n          95.0,\n          64.0,\n          96.0\n        ],\n        \"semantic_type\": \"\",\n        \"description\": \"\"\n      }\n    },\n    {\n      \"column\": \"PULSE\",\n      \"properties\": {\n        \"dtype\": \"number\",\n        \"std\": 24.81517702898299,\n        \"min\": 0.0,\n        \"max\": 132.0,\n        \"num_unique_values\": 70,\n        \"samples\": [\n          75.0,\n          67.0,\n          103.0\n        ],\n        \"semantic_type\": \"\",\n        \"description\": \"\"\n      }\n    },\n    {\n      \"column\": \"RESP\",\n      \"properties\": {\n        \"dtype\": \"number\",\n        \"std\": 10.534802183259607,\n        \"min\": 0.0,\n        \"max\": 500.0,\n        \"num_unique_values\": 62,\n        \"samples\": [\n          57.0,\n          6.0,\n          14.0\n        ],\n        \"semantic_type\": \"\",\n        \"description\": \"\"\n      }\n    },\n    {\n      \"column\": \"ABP2\",\n      \"properties\": {\n        \"dtype\": \"number\",\n        \"std\": 16.85216328793552,\n        \"min\": 0.0,\n        \"max\": 249.3333333333333,\n        \"num_unique_values\": 188,\n        \"samples\": [\n          198.4,\n          107.9387755102041,\n          0.0\n        ],\n        \"semantic_type\": \"\",\n        \"description\": \"\"\n      }\n    },\n    {\n      \"column\": \"ABP3\",\n      \"properties\": {\n        \"dtype\": \"number\",\n        \"std\": 9.76405142953296,\n        \"min\": 0.0,\n        \"max\": 228.3333333333333,\n        \"num_unique_values\": 158,\n        \"samples\": [\n          78.52083333333333,\n          90.0,\n          70.52173913043478\n        ],\n        \"semantic_type\": \"\",\n        \"description\": \"\"\n      }\n    }\n  ]\n}"
            }
          },
          "metadata": {},
          "execution_count": 28
        }
      ],
      "source": [
        "x_test = x_test.drop(columns=['index'])\n",
        "x_test"
      ]
    },
    {
      "cell_type": "code",
      "execution_count": null,
      "metadata": {
        "id": "YSBsfA22iSDA",
        "colab": {
          "base_uri": "https://localhost:8080/"
        },
        "outputId": "de4a11c7-9595-4645-92a3-cf7fa67fce2f"
      },
      "outputs": [
        {
          "output_type": "stream",
          "name": "stderr",
          "text": [
            "/usr/local/lib/python3.10/dist-packages/ipykernel/ipkernel.py:283: DeprecationWarning: `should_run_async` will not call `transform_cell` automatically in the future. Please pass the result to `transformed_cell` argument and any exception that happen during thetransform in `preprocessing_exc_tuple` in IPython 7.17 and above.\n",
            "  and should_run_async(code)\n"
          ]
        }
      ],
      "source": [
        "# file_path = '/content/drive/MyDrive/Colab Notebooks/DDQN/train.xlsx'\n",
        "# new_df.to_excel(file_path, index=False)"
      ]
    },
    {
      "cell_type": "code",
      "execution_count": null,
      "metadata": {
        "id": "1elNJmOA4abq"
      },
      "outputs": [],
      "source": [
        "# # HYPERPARAMTERS\n",
        "\n",
        "# gamma = 0.99\n",
        "# batch_size = 64\n",
        "# buffer_size = 100\n",
        "# min_replay_size = 90\n",
        "# epsilon_start = 1.0\n",
        "# epsilon_end = 0.02\n",
        "# epsilon_decay = 0.999\n",
        "# epsilon_steps = 50_000\n",
        "# target_update_freq = 1000\n",
        "# alpha = 0.2"
      ]
    },
    {
      "cell_type": "code",
      "source": [
        "# HYPERPARAMTERS\n",
        "\n",
        "gamma = 0.99\n",
        "batch_size = 64\n",
        "buffer_size = 200\n",
        "min_replay_size = 100\n",
        "epsilon_start = 1.0\n",
        "epsilon_end = 0.02\n",
        "epsilon_steps = 50_000\n",
        "target_update_freq = 1000\n",
        "alpha = 0.001\n",
        "lr_decay = 0.99"
      ],
      "metadata": {
        "id": "FlzHOEBf2jGp"
      },
      "execution_count": null,
      "outputs": []
    },
    {
      "cell_type": "code",
      "execution_count": null,
      "metadata": {
        "id": "tgYQqrcoLc3d"
      },
      "outputs": [],
      "source": [
        "# x_train_mod = []\n",
        "# for i in range(lookback,x_train.shape[0]):\n",
        "#   x_train_mod.append(x_train[i-lookback:i])\n",
        "\n",
        "# x_test_mod = []\n",
        "# for i in range(lookback,x_test.shape[0]):\n",
        "#   x_test_mod.append(x_test[i-lookback:i])\n",
        "\n",
        "# x_train,y_train,x_test,y_test = np.array(x_train_mod),np.array(y_train),np.array(x_test_mod),np.array(y_test)\n",
        "x_train,y_train,x_test,y_test = np.array(x_train),np.array(y_train),np.array(x_test),np.array(y_test)"
      ]
    },
    {
      "cell_type": "code",
      "execution_count": null,
      "metadata": {
        "id": "TUdQatT5N0T4",
        "colab": {
          "base_uri": "https://localhost:8080/"
        },
        "outputId": "21f38a10-3cc6-4d06-f726-03cf5161ce0c"
      },
      "outputs": [
        {
          "output_type": "execute_result",
          "data": {
            "text/plain": [
              "(62999, 6)"
            ]
          },
          "metadata": {},
          "execution_count": 33
        }
      ],
      "source": [
        "x_train.shape"
      ]
    },
    {
      "cell_type": "code",
      "execution_count": null,
      "metadata": {
        "id": "2OrYw2Rysjqc",
        "colab": {
          "base_uri": "https://localhost:8080/"
        },
        "outputId": "fc86e79a-21d6-48e3-8a44-e8e0284a69ef"
      },
      "outputs": [
        {
          "output_type": "stream",
          "name": "stdout",
          "text": [
            "SpO2    -0.969909\n",
            "HR       0.169393\n",
            "PULSE   -0.942143\n",
            "RESP     0.261728\n",
            "ABP2     0.230921\n",
            "ABP3     0.180635\n",
            "dtype: float64\n"
          ]
        }
      ],
      "source": [
        "target_class_column = 'ALERT'\n",
        "\n",
        "# Compute correlation between each feature and the target class\n",
        "correlations = {}\n",
        "for column in df_train.columns:\n",
        "    if column != target_class_column:\n",
        "        correlation = df_train[column].corr(df_train[target_class_column])\n",
        "        correlations[column] = correlation\n",
        "\n",
        "# Convert the dictionary to a pandas Series for better visualization\n",
        "correlation_series = pd.Series(correlations)\n",
        "\n",
        "# Print or visualize the correlations\n",
        "print(correlation_series)"
      ]
    },
    {
      "cell_type": "code",
      "execution_count": null,
      "metadata": {
        "id": "0azZOYeRtp49"
      },
      "outputs": [],
      "source": []
    },
    {
      "cell_type": "markdown",
      "metadata": {
        "id": "Afny4JbTprpj"
      },
      "source": [
        "# Unsupervised Data"
      ]
    },
    {
      "cell_type": "code",
      "execution_count": null,
      "metadata": {
        "id": "le9p2Ao5puQL"
      },
      "outputs": [],
      "source": [
        "udf = pd.read_excel('/content/drive/MyDrive/Colab Notebooks/DDQN/mimic2.xlsx')\n",
        "udf = udf[['spo2','HR','PULSE','RESP','sys','dia']]\n"
      ]
    },
    {
      "cell_type": "code",
      "execution_count": null,
      "metadata": {
        "colab": {
          "base_uri": "https://localhost:8080/"
        },
        "id": "qRd0mBjstEpa",
        "outputId": "0e272c7d-6fd7-4869-bb7e-f722345ace3c"
      },
      "outputs": [
        {
          "output_type": "stream",
          "name": "stderr",
          "text": [
            "/usr/local/lib/python3.10/dist-packages/ipykernel/ipkernel.py:283: DeprecationWarning: `should_run_async` will not call `transform_cell` automatically in the future. Please pass the result to `transformed_cell` argument and any exception that happen during thetransform in `preprocessing_exc_tuple` in IPython 7.17 and above.\n",
            "  and should_run_async(code)\n"
          ]
        }
      ],
      "source": [
        "udf = udf.rename(columns = {'spo2':'SpO2','sys':'ABP2','dia':'ABP3'})"
      ]
    },
    {
      "cell_type": "code",
      "execution_count": null,
      "metadata": {
        "id": "IFxm3Kbju6lx"
      },
      "outputs": [],
      "source": [
        "# scaler2 = MinMaxScaler()\n",
        "# udf_cols = udf.columns\n",
        "# udf = pd.DataFrame(scaler2.fit_transform(udf), columns=udf_cols)"
      ]
    },
    {
      "cell_type": "code",
      "execution_count": null,
      "metadata": {
        "id": "Y2JGPvSoscO5"
      },
      "outputs": [],
      "source": [
        "udf = udf[:200000]"
      ]
    },
    {
      "cell_type": "code",
      "execution_count": null,
      "metadata": {
        "colab": {
          "base_uri": "https://localhost:8080/",
          "height": 423
        },
        "id": "99FLQ3BPTBjU",
        "outputId": "ccbe1bac-5bff-439f-cf96-5a37bf367f45"
      },
      "outputs": [
        {
          "output_type": "execute_result",
          "data": {
            "text/plain": [
              "        SpO2  HR  PULSE  RESP  ABP2  ABP3\n",
              "0          0   0      0     0     0     0\n",
              "1          0   0      0     0     0     0\n",
              "2          0   0      0     0     0     0\n",
              "3          0   0      0     0     0     0\n",
              "4          0   0      0     0     0     0\n",
              "...      ...  ..    ...   ...   ...   ...\n",
              "199995    97  80     79    20   130    67\n",
              "199996    97  80     80    19   130    67\n",
              "199997    97  81     80    19   130    67\n",
              "199998    97  80     80    19   130    67\n",
              "199999    97  80     80    19   130    67\n",
              "\n",
              "[200000 rows x 6 columns]"
            ],
            "text/html": [
              "\n",
              "  <div id=\"df-2910b8b3-c525-41e5-a10b-6328a3979648\" class=\"colab-df-container\">\n",
              "    <div>\n",
              "<style scoped>\n",
              "    .dataframe tbody tr th:only-of-type {\n",
              "        vertical-align: middle;\n",
              "    }\n",
              "\n",
              "    .dataframe tbody tr th {\n",
              "        vertical-align: top;\n",
              "    }\n",
              "\n",
              "    .dataframe thead th {\n",
              "        text-align: right;\n",
              "    }\n",
              "</style>\n",
              "<table border=\"1\" class=\"dataframe\">\n",
              "  <thead>\n",
              "    <tr style=\"text-align: right;\">\n",
              "      <th></th>\n",
              "      <th>SpO2</th>\n",
              "      <th>HR</th>\n",
              "      <th>PULSE</th>\n",
              "      <th>RESP</th>\n",
              "      <th>ABP2</th>\n",
              "      <th>ABP3</th>\n",
              "    </tr>\n",
              "  </thead>\n",
              "  <tbody>\n",
              "    <tr>\n",
              "      <th>0</th>\n",
              "      <td>0</td>\n",
              "      <td>0</td>\n",
              "      <td>0</td>\n",
              "      <td>0</td>\n",
              "      <td>0</td>\n",
              "      <td>0</td>\n",
              "    </tr>\n",
              "    <tr>\n",
              "      <th>1</th>\n",
              "      <td>0</td>\n",
              "      <td>0</td>\n",
              "      <td>0</td>\n",
              "      <td>0</td>\n",
              "      <td>0</td>\n",
              "      <td>0</td>\n",
              "    </tr>\n",
              "    <tr>\n",
              "      <th>2</th>\n",
              "      <td>0</td>\n",
              "      <td>0</td>\n",
              "      <td>0</td>\n",
              "      <td>0</td>\n",
              "      <td>0</td>\n",
              "      <td>0</td>\n",
              "    </tr>\n",
              "    <tr>\n",
              "      <th>3</th>\n",
              "      <td>0</td>\n",
              "      <td>0</td>\n",
              "      <td>0</td>\n",
              "      <td>0</td>\n",
              "      <td>0</td>\n",
              "      <td>0</td>\n",
              "    </tr>\n",
              "    <tr>\n",
              "      <th>4</th>\n",
              "      <td>0</td>\n",
              "      <td>0</td>\n",
              "      <td>0</td>\n",
              "      <td>0</td>\n",
              "      <td>0</td>\n",
              "      <td>0</td>\n",
              "    </tr>\n",
              "    <tr>\n",
              "      <th>...</th>\n",
              "      <td>...</td>\n",
              "      <td>...</td>\n",
              "      <td>...</td>\n",
              "      <td>...</td>\n",
              "      <td>...</td>\n",
              "      <td>...</td>\n",
              "    </tr>\n",
              "    <tr>\n",
              "      <th>199995</th>\n",
              "      <td>97</td>\n",
              "      <td>80</td>\n",
              "      <td>79</td>\n",
              "      <td>20</td>\n",
              "      <td>130</td>\n",
              "      <td>67</td>\n",
              "    </tr>\n",
              "    <tr>\n",
              "      <th>199996</th>\n",
              "      <td>97</td>\n",
              "      <td>80</td>\n",
              "      <td>80</td>\n",
              "      <td>19</td>\n",
              "      <td>130</td>\n",
              "      <td>67</td>\n",
              "    </tr>\n",
              "    <tr>\n",
              "      <th>199997</th>\n",
              "      <td>97</td>\n",
              "      <td>81</td>\n",
              "      <td>80</td>\n",
              "      <td>19</td>\n",
              "      <td>130</td>\n",
              "      <td>67</td>\n",
              "    </tr>\n",
              "    <tr>\n",
              "      <th>199998</th>\n",
              "      <td>97</td>\n",
              "      <td>80</td>\n",
              "      <td>80</td>\n",
              "      <td>19</td>\n",
              "      <td>130</td>\n",
              "      <td>67</td>\n",
              "    </tr>\n",
              "    <tr>\n",
              "      <th>199999</th>\n",
              "      <td>97</td>\n",
              "      <td>80</td>\n",
              "      <td>80</td>\n",
              "      <td>19</td>\n",
              "      <td>130</td>\n",
              "      <td>67</td>\n",
              "    </tr>\n",
              "  </tbody>\n",
              "</table>\n",
              "<p>200000 rows × 6 columns</p>\n",
              "</div>\n",
              "    <div class=\"colab-df-buttons\">\n",
              "\n",
              "  <div class=\"colab-df-container\">\n",
              "    <button class=\"colab-df-convert\" onclick=\"convertToInteractive('df-2910b8b3-c525-41e5-a10b-6328a3979648')\"\n",
              "            title=\"Convert this dataframe to an interactive table.\"\n",
              "            style=\"display:none;\">\n",
              "\n",
              "  <svg xmlns=\"http://www.w3.org/2000/svg\" height=\"24px\" viewBox=\"0 -960 960 960\">\n",
              "    <path d=\"M120-120v-720h720v720H120Zm60-500h600v-160H180v160Zm220 220h160v-160H400v160Zm0 220h160v-160H400v160ZM180-400h160v-160H180v160Zm440 0h160v-160H620v160ZM180-180h160v-160H180v160Zm440 0h160v-160H620v160Z\"/>\n",
              "  </svg>\n",
              "    </button>\n",
              "\n",
              "  <style>\n",
              "    .colab-df-container {\n",
              "      display:flex;\n",
              "      gap: 12px;\n",
              "    }\n",
              "\n",
              "    .colab-df-convert {\n",
              "      background-color: #E8F0FE;\n",
              "      border: none;\n",
              "      border-radius: 50%;\n",
              "      cursor: pointer;\n",
              "      display: none;\n",
              "      fill: #1967D2;\n",
              "      height: 32px;\n",
              "      padding: 0 0 0 0;\n",
              "      width: 32px;\n",
              "    }\n",
              "\n",
              "    .colab-df-convert:hover {\n",
              "      background-color: #E2EBFA;\n",
              "      box-shadow: 0px 1px 2px rgba(60, 64, 67, 0.3), 0px 1px 3px 1px rgba(60, 64, 67, 0.15);\n",
              "      fill: #174EA6;\n",
              "    }\n",
              "\n",
              "    .colab-df-buttons div {\n",
              "      margin-bottom: 4px;\n",
              "    }\n",
              "\n",
              "    [theme=dark] .colab-df-convert {\n",
              "      background-color: #3B4455;\n",
              "      fill: #D2E3FC;\n",
              "    }\n",
              "\n",
              "    [theme=dark] .colab-df-convert:hover {\n",
              "      background-color: #434B5C;\n",
              "      box-shadow: 0px 1px 3px 1px rgba(0, 0, 0, 0.15);\n",
              "      filter: drop-shadow(0px 1px 2px rgba(0, 0, 0, 0.3));\n",
              "      fill: #FFFFFF;\n",
              "    }\n",
              "  </style>\n",
              "\n",
              "    <script>\n",
              "      const buttonEl =\n",
              "        document.querySelector('#df-2910b8b3-c525-41e5-a10b-6328a3979648 button.colab-df-convert');\n",
              "      buttonEl.style.display =\n",
              "        google.colab.kernel.accessAllowed ? 'block' : 'none';\n",
              "\n",
              "      async function convertToInteractive(key) {\n",
              "        const element = document.querySelector('#df-2910b8b3-c525-41e5-a10b-6328a3979648');\n",
              "        const dataTable =\n",
              "          await google.colab.kernel.invokeFunction('convertToInteractive',\n",
              "                                                    [key], {});\n",
              "        if (!dataTable) return;\n",
              "\n",
              "        const docLinkHtml = 'Like what you see? Visit the ' +\n",
              "          '<a target=\"_blank\" href=https://colab.research.google.com/notebooks/data_table.ipynb>data table notebook</a>'\n",
              "          + ' to learn more about interactive tables.';\n",
              "        element.innerHTML = '';\n",
              "        dataTable['output_type'] = 'display_data';\n",
              "        await google.colab.output.renderOutput(dataTable, element);\n",
              "        const docLink = document.createElement('div');\n",
              "        docLink.innerHTML = docLinkHtml;\n",
              "        element.appendChild(docLink);\n",
              "      }\n",
              "    </script>\n",
              "  </div>\n",
              "\n",
              "\n",
              "<div id=\"df-57cee94d-836d-4c7c-892c-d893d30ebfed\">\n",
              "  <button class=\"colab-df-quickchart\" onclick=\"quickchart('df-57cee94d-836d-4c7c-892c-d893d30ebfed')\"\n",
              "            title=\"Suggest charts\"\n",
              "            style=\"display:none;\">\n",
              "\n",
              "<svg xmlns=\"http://www.w3.org/2000/svg\" height=\"24px\"viewBox=\"0 0 24 24\"\n",
              "     width=\"24px\">\n",
              "    <g>\n",
              "        <path d=\"M19 3H5c-1.1 0-2 .9-2 2v14c0 1.1.9 2 2 2h14c1.1 0 2-.9 2-2V5c0-1.1-.9-2-2-2zM9 17H7v-7h2v7zm4 0h-2V7h2v10zm4 0h-2v-4h2v4z\"/>\n",
              "    </g>\n",
              "</svg>\n",
              "  </button>\n",
              "\n",
              "<style>\n",
              "  .colab-df-quickchart {\n",
              "      --bg-color: #E8F0FE;\n",
              "      --fill-color: #1967D2;\n",
              "      --hover-bg-color: #E2EBFA;\n",
              "      --hover-fill-color: #174EA6;\n",
              "      --disabled-fill-color: #AAA;\n",
              "      --disabled-bg-color: #DDD;\n",
              "  }\n",
              "\n",
              "  [theme=dark] .colab-df-quickchart {\n",
              "      --bg-color: #3B4455;\n",
              "      --fill-color: #D2E3FC;\n",
              "      --hover-bg-color: #434B5C;\n",
              "      --hover-fill-color: #FFFFFF;\n",
              "      --disabled-bg-color: #3B4455;\n",
              "      --disabled-fill-color: #666;\n",
              "  }\n",
              "\n",
              "  .colab-df-quickchart {\n",
              "    background-color: var(--bg-color);\n",
              "    border: none;\n",
              "    border-radius: 50%;\n",
              "    cursor: pointer;\n",
              "    display: none;\n",
              "    fill: var(--fill-color);\n",
              "    height: 32px;\n",
              "    padding: 0;\n",
              "    width: 32px;\n",
              "  }\n",
              "\n",
              "  .colab-df-quickchart:hover {\n",
              "    background-color: var(--hover-bg-color);\n",
              "    box-shadow: 0 1px 2px rgba(60, 64, 67, 0.3), 0 1px 3px 1px rgba(60, 64, 67, 0.15);\n",
              "    fill: var(--button-hover-fill-color);\n",
              "  }\n",
              "\n",
              "  .colab-df-quickchart-complete:disabled,\n",
              "  .colab-df-quickchart-complete:disabled:hover {\n",
              "    background-color: var(--disabled-bg-color);\n",
              "    fill: var(--disabled-fill-color);\n",
              "    box-shadow: none;\n",
              "  }\n",
              "\n",
              "  .colab-df-spinner {\n",
              "    border: 2px solid var(--fill-color);\n",
              "    border-color: transparent;\n",
              "    border-bottom-color: var(--fill-color);\n",
              "    animation:\n",
              "      spin 1s steps(1) infinite;\n",
              "  }\n",
              "\n",
              "  @keyframes spin {\n",
              "    0% {\n",
              "      border-color: transparent;\n",
              "      border-bottom-color: var(--fill-color);\n",
              "      border-left-color: var(--fill-color);\n",
              "    }\n",
              "    20% {\n",
              "      border-color: transparent;\n",
              "      border-left-color: var(--fill-color);\n",
              "      border-top-color: var(--fill-color);\n",
              "    }\n",
              "    30% {\n",
              "      border-color: transparent;\n",
              "      border-left-color: var(--fill-color);\n",
              "      border-top-color: var(--fill-color);\n",
              "      border-right-color: var(--fill-color);\n",
              "    }\n",
              "    40% {\n",
              "      border-color: transparent;\n",
              "      border-right-color: var(--fill-color);\n",
              "      border-top-color: var(--fill-color);\n",
              "    }\n",
              "    60% {\n",
              "      border-color: transparent;\n",
              "      border-right-color: var(--fill-color);\n",
              "    }\n",
              "    80% {\n",
              "      border-color: transparent;\n",
              "      border-right-color: var(--fill-color);\n",
              "      border-bottom-color: var(--fill-color);\n",
              "    }\n",
              "    90% {\n",
              "      border-color: transparent;\n",
              "      border-bottom-color: var(--fill-color);\n",
              "    }\n",
              "  }\n",
              "</style>\n",
              "\n",
              "  <script>\n",
              "    async function quickchart(key) {\n",
              "      const quickchartButtonEl =\n",
              "        document.querySelector('#' + key + ' button');\n",
              "      quickchartButtonEl.disabled = true;  // To prevent multiple clicks.\n",
              "      quickchartButtonEl.classList.add('colab-df-spinner');\n",
              "      try {\n",
              "        const charts = await google.colab.kernel.invokeFunction(\n",
              "            'suggestCharts', [key], {});\n",
              "      } catch (error) {\n",
              "        console.error('Error during call to suggestCharts:', error);\n",
              "      }\n",
              "      quickchartButtonEl.classList.remove('colab-df-spinner');\n",
              "      quickchartButtonEl.classList.add('colab-df-quickchart-complete');\n",
              "    }\n",
              "    (() => {\n",
              "      let quickchartButtonEl =\n",
              "        document.querySelector('#df-57cee94d-836d-4c7c-892c-d893d30ebfed button');\n",
              "      quickchartButtonEl.style.display =\n",
              "        google.colab.kernel.accessAllowed ? 'block' : 'none';\n",
              "    })();\n",
              "  </script>\n",
              "</div>\n",
              "    </div>\n",
              "  </div>\n"
            ],
            "application/vnd.google.colaboratory.intrinsic+json": {
              "type": "dataframe",
              "variable_name": "udf"
            }
          },
          "metadata": {},
          "execution_count": 39
        }
      ],
      "source": [
        "udf"
      ]
    },
    {
      "cell_type": "code",
      "source": [
        "temp = udf[:70000]\n",
        "colors = ['r', 'g', 'b', 'c', 'm', 'y']\n",
        "for i, (colname, color) in enumerate(zip(temp.columns, colors)):\n",
        "    plt.plot(temp.index, temp[colname], label=colname, color=color)\n",
        "\n",
        "plt.xlabel('Index')\n",
        "plt.ylabel('Feature Value')\n",
        "plt.legend()\n",
        "plt.title('A plot displaying patient vital signs')\n",
        "plt.show()"
      ],
      "metadata": {
        "colab": {
          "base_uri": "https://localhost:8080/",
          "height": 527
        },
        "id": "YRk37M71u1pv",
        "outputId": "3d0f9537-fec2-4767-bf32-871e8416c128"
      },
      "execution_count": null,
      "outputs": [
        {
          "output_type": "stream",
          "name": "stderr",
          "text": [
            "/usr/local/lib/python3.10/dist-packages/ipykernel/ipkernel.py:283: DeprecationWarning: `should_run_async` will not call `transform_cell` automatically in the future. Please pass the result to `transformed_cell` argument and any exception that happen during thetransform in `preprocessing_exc_tuple` in IPython 7.17 and above.\n",
            "  and should_run_async(code)\n"
          ]
        },
        {
          "output_type": "display_data",
          "data": {
            "text/plain": [
              "<Figure size 640x480 with 1 Axes>"
            ],
            "image/png": "[encoded data removed]"
          },
          "metadata": {}
        }
      ]
    },
    {
      "cell_type": "code",
      "execution_count": null,
      "metadata": {
        "id": "peSBo-OEpuV7"
      },
      "outputs": [],
      "source": [
        "from sklearn.neighbors import KNeighborsClassifier\n",
        "from sklearn.metrics import confusion_matrix, f1_score,accuracy_score"
      ]
    },
    {
      "cell_type": "code",
      "execution_count": null,
      "metadata": {
        "id": "WemiFQNQuZsc",
        "colab": {
          "base_uri": "https://localhost:8080/"
        },
        "outputId": "5e311fe4-fb47-44c9-9482-44d10c0c475b"
      },
      "outputs": [
        {
          "output_type": "execute_result",
          "data": {
            "text/plain": [
              "503"
            ]
          },
          "metadata": {},
          "execution_count": 42
        }
      ],
      "source": [
        "n_neighbors = int(np.sqrt(knn_x.shape[0]))\n",
        "if(n_neighbors%2==0):\n",
        "  n_neighbors += 1\n",
        "n_neighbors"
      ]
    },
    {
      "cell_type": "code",
      "execution_count": null,
      "metadata": {
        "id": "MuAnYPy8uZu9"
      },
      "outputs": [],
      "source": [
        "from sklearn.neighbors import KNeighborsClassifier\n",
        "from sklearn.metrics import confusion_matrix, f1_score,accuracy_score"
      ]
    },
    {
      "cell_type": "code",
      "execution_count": null,
      "metadata": {
        "id": "MxPGxW25uZxi",
        "colab": {
          "base_uri": "https://localhost:8080/",
          "height": 74
        },
        "outputId": "9cbc2c7d-1450-4031-dd94-55ee6226557a"
      },
      "outputs": [
        {
          "output_type": "execute_result",
          "data": {
            "text/plain": [
              "KNeighborsClassifier(metric='euclidean', n_neighbors=503)"
            ],
            "text/html": [
              "<style>#sk-container-id-1 {color: black;background-color: white;}#sk-container-id-1 pre{padding: 0;}#sk-container-id-1 div.sk-toggleable {background-color: white;}#sk-container-id-1 label.sk-toggleable__label {cursor: pointer;display: block;width: 100%;margin-bottom: 0;padding: 0.3em;box-sizing: border-box;text-align: center;}#sk-container-id-1 label.sk-toggleable__label-arrow:before {content: \"▸\";float: left;margin-right: 0.25em;color: #696969;}#sk-container-id-1 label.sk-toggleable__label-arrow:hover:before {color: black;}#sk-container-id-1 div.sk-estimator:hover label.sk-toggleable__label-arrow:before {color: black;}#sk-container-id-1 div.sk-toggleable__content {max-height: 0;max-width: 0;overflow: hidden;text-align: left;background-color: #f0f8ff;}#sk-container-id-1 div.sk-toggleable__content pre {margin: 0.2em;color: black;border-radius: 0.25em;background-color: #f0f8ff;}#sk-container-id-1 input.sk-toggleable__control:checked~div.sk-toggleable__content {max-height: 200px;max-width: 100%;overflow: auto;}#sk-container-id-1 input.sk-toggleable__control:checked~label.sk-toggleable__label-arrow:before {content: \"▾\";}#sk-container-id-1 div.sk-estimator input.sk-toggleable__control:checked~label.sk-toggleable__label {background-color: #d4ebff;}#sk-container-id-1 div.sk-label input.sk-toggleable__control:checked~label.sk-toggleable__label {background-color: #d4ebff;}#sk-container-id-1 input.sk-hidden--visually {border: 0;clip: rect(1px 1px 1px 1px);clip: rect(1px, 1px, 1px, 1px);height: 1px;margin: -1px;overflow: hidden;padding: 0;position: absolute;width: 1px;}#sk-container-id-1 div.sk-estimator {font-family: monospace;background-color: #f0f8ff;border: 1px dotted black;border-radius: 0.25em;box-sizing: border-box;margin-bottom: 0.5em;}#sk-container-id-1 div.sk-estimator:hover {background-color: #d4ebff;}#sk-container-id-1 div.sk-parallel-item::after {content: \"\";width: 100%;border-bottom: 1px solid gray;flex-grow: 1;}#sk-container-id-1 div.sk-label:hover label.sk-toggleable__label {background-color: #d4ebff;}#sk-container-id-1 div.sk-serial::before {content: \"\";position: absolute;border-left: 1px solid gray;box-sizing: border-box;top: 0;bottom: 0;left: 50%;z-index: 0;}#sk-container-id-1 div.sk-serial {display: flex;flex-direction: column;align-items: center;background-color: white;padding-right: 0.2em;padding-left: 0.2em;position: relative;}#sk-container-id-1 div.sk-item {position: relative;z-index: 1;}#sk-container-id-1 div.sk-parallel {display: flex;align-items: stretch;justify-content: center;background-color: white;position: relative;}#sk-container-id-1 div.sk-item::before, #sk-container-id-1 div.sk-parallel-item::before {content: \"\";position: absolute;border-left: 1px solid gray;box-sizing: border-box;top: 0;bottom: 0;left: 50%;z-index: -1;}#sk-container-id-1 div.sk-parallel-item {display: flex;flex-direction: column;z-index: 1;position: relative;background-color: white;}#sk-container-id-1 div.sk-parallel-item:first-child::after {align-self: flex-end;width: 50%;}#sk-container-id-1 div.sk-parallel-item:last-child::after {align-self: flex-start;width: 50%;}#sk-container-id-1 div.sk-parallel-item:only-child::after {width: 0;}#sk-container-id-1 div.sk-dashed-wrapped {border: 1px dashed gray;margin: 0 0.4em 0.5em 0.4em;box-sizing: border-box;padding-bottom: 0.4em;background-color: white;}#sk-container-id-1 div.sk-label label {font-family: monospace;font-weight: bold;display: inline-block;line-height: 1.2em;}#sk-container-id-1 div.sk-label-container {text-align: center;}#sk-container-id-1 div.sk-container {/* jupyter's `normalize.less` sets `[hidden] { display: none; }` but bootstrap.min.css set `[hidden] { display: none !important; }` so we also need the `!important` here to be able to override the default hidden behavior on the sphinx rendered scikit-learn.org. See: https://github.com/scikit-learn/scikit-learn/issues/21755 */display: inline-block !important;position: relative;}#sk-container-id-1 div.sk-text-repr-fallback {display: none;}</style><div id=\"sk-container-id-1\" class=\"sk-top-container\"><div class=\"sk-text-repr-fallback\"><pre>KNeighborsClassifier(metric=&#x27;euclidean&#x27;, n_neighbors=503)</pre><b>In a Jupyter environment, please rerun this cell to show the HTML representation or trust the notebook. <br />On GitHub, the HTML representation is unable to render, please try loading this page with nbviewer.org.</b></div><div class=\"sk-container\" hidden><div class=\"sk-item\"><div class=\"sk-estimator sk-toggleable\"><input class=\"sk-toggleable__control sk-hidden--visually\" id=\"sk-estimator-id-1\" type=\"checkbox\" checked><label for=\"sk-estimator-id-1\" class=\"sk-toggleable__label sk-toggleable__label-arrow\">KNeighborsClassifier</label><div class=\"sk-toggleable__content\"><pre>KNeighborsClassifier(metric=&#x27;euclidean&#x27;, n_neighbors=503)</pre></div></div></div></div></div>"
            ]
          },
          "metadata": {},
          "execution_count": 44
        }
      ],
      "source": [
        "classifier = KNeighborsClassifier(n_neighbors = n_neighbors, p = 2, metric = 'euclidean')\n",
        "classifier.fit(knn_x,knn_y)"
      ]
    },
    {
      "cell_type": "code",
      "execution_count": null,
      "metadata": {
        "id": "bzUcn7vTuZ0Z",
        "colab": {
          "base_uri": "https://localhost:8080/"
        },
        "outputId": "35c89e3c-66f8-4369-e0a3-91daaa1aaeb2"
      },
      "outputs": [
        {
          "output_type": "stream",
          "name": "stderr",
          "text": [
            "/usr/local/lib/python3.10/dist-packages/ipykernel/ipkernel.py:283: DeprecationWarning: `should_run_async` will not call `transform_cell` automatically in the future. Please pass the result to `transformed_cell` argument and any exception that happen during thetransform in `preprocessing_exc_tuple` in IPython 7.17 and above.\n",
            "  and should_run_async(code)\n"
          ]
        }
      ],
      "source": [
        "y_pred = classifier.predict(udf)\n",
        "# y_pred = classifier.predict(knn_x)"
      ]
    },
    {
      "cell_type": "code",
      "execution_count": null,
      "metadata": {
        "id": "glOadpQMRQ3G",
        "colab": {
          "base_uri": "https://localhost:8080/"
        },
        "outputId": "be8cebe8-ed22-4fb8-fbc8-452346323161"
      },
      "outputs": [
        {
          "output_type": "stream",
          "name": "stderr",
          "text": [
            "/usr/local/lib/python3.10/dist-packages/ipykernel/ipkernel.py:283: DeprecationWarning: `should_run_async` will not call `transform_cell` automatically in the future. Please pass the result to `transformed_cell` argument and any exception that happen during thetransform in `preprocessing_exc_tuple` in IPython 7.17 and above.\n",
            "  and should_run_async(code)\n"
          ]
        },
        {
          "output_type": "execute_result",
          "data": {
            "text/plain": [
              "200000"
            ]
          },
          "metadata": {},
          "execution_count": 46
        }
      ],
      "source": [
        "len(y_pred)"
      ]
    },
    {
      "cell_type": "code",
      "execution_count": null,
      "metadata": {
        "id": "TUfXiYp2ukYz"
      },
      "outputs": [],
      "source": [
        "new_column = pd.DataFrame({'ALERT': y_pred})\n",
        "udf = pd.concat([udf,new_column],axis=1)"
      ]
    },
    {
      "cell_type": "code",
      "execution_count": null,
      "metadata": {
        "colab": {
          "base_uri": "https://localhost:8080/",
          "height": 606
        },
        "id": "fwFrScHIukbg",
        "outputId": "75bc2cb1-d1d0-4e4d-8394-d3eb89390e06"
      },
      "outputs": [
        {
          "output_type": "stream",
          "name": "stderr",
          "text": [
            "/usr/local/lib/python3.10/dist-packages/ipykernel/ipkernel.py:283: DeprecationWarning: `should_run_async` will not call `transform_cell` automatically in the future. Please pass the result to `transformed_cell` argument and any exception that happen during thetransform in `preprocessing_exc_tuple` in IPython 7.17 and above.\n",
            "  and should_run_async(code)\n"
          ]
        },
        {
          "output_type": "execute_result",
          "data": {
            "text/plain": [
              "[<matplotlib.lines.Line2D at 0x7da84c242440>,\n",
              " <matplotlib.lines.Line2D at 0x7da84c2424a0>,\n",
              " <matplotlib.lines.Line2D at 0x7da84c2424d0>,\n",
              " <matplotlib.lines.Line2D at 0x7da84c2425c0>,\n",
              " <matplotlib.lines.Line2D at 0x7da84c2426b0>,\n",
              " <matplotlib.lines.Line2D at 0x7da84c2427a0>,\n",
              " <matplotlib.lines.Line2D at 0x7da84c242890>]"
            ]
          },
          "metadata": {},
          "execution_count": 48
        },
        {
          "output_type": "display_data",
          "data": {
            "text/plain": [
              "<Figure size 640x480 with 1 Axes>"
            ],
            "image/png": "[encoded data removed]"
          },
          "metadata": {}
        }
      ],
      "source": [
        "plt.plot(udf[:50000])"
      ]
    },
    {
      "cell_type": "code",
      "execution_count": null,
      "metadata": {
        "id": "vDVoNwSuSxTs",
        "colab": {
          "base_uri": "https://localhost:8080/",
          "height": 423
        },
        "outputId": "315ae045-4f54-4674-f582-3b1ce84e3e9d"
      },
      "outputs": [
        {
          "output_type": "execute_result",
          "data": {
            "text/plain": [
              "        SpO2  HR  PULSE  RESP  ABP2  ABP3  ALERT\n",
              "0          0   0      0     0     0     0      0\n",
              "1          0   0      0     0     0     0      0\n",
              "2          0   0      0     0     0     0      0\n",
              "3          0   0      0     0     0     0      0\n",
              "4          0   0      0     0     0     0      0\n",
              "...      ...  ..    ...   ...   ...   ...    ...\n",
              "199995    97  80     79    20   130    67      0\n",
              "199996    97  80     80    19   130    67      0\n",
              "199997    97  81     80    19   130    67      0\n",
              "199998    97  80     80    19   130    67      0\n",
              "199999    97  80     80    19   130    67      0\n",
              "\n",
              "[200000 rows x 7 columns]"
            ],
            "text/html": [
              "\n",
              "  <div id=\"df-073b138d-35d8-4350-8cec-016ba5ba8e29\" class=\"colab-df-container\">\n",
              "    <div>\n",
              "<style scoped>\n",
              "    .dataframe tbody tr th:only-of-type {\n",
              "        vertical-align: middle;\n",
              "    }\n",
              "\n",
              "    .dataframe tbody tr th {\n",
              "        vertical-align: top;\n",
              "    }\n",
              "\n",
              "    .dataframe thead th {\n",
              "        text-align: right;\n",
              "    }\n",
              "</style>\n",
              "<table border=\"1\" class=\"dataframe\">\n",
              "  <thead>\n",
              "    <tr style=\"text-align: right;\">\n",
              "      <th></th>\n",
              "      <th>SpO2</th>\n",
              "      <th>HR</th>\n",
              "      <th>PULSE</th>\n",
              "      <th>RESP</th>\n",
              "      <th>ABP2</th>\n",
              "      <th>ABP3</th>\n",
              "      <th>ALERT</th>\n",
              "    </tr>\n",
              "  </thead>\n",
              "  <tbody>\n",
              "    <tr>\n",
              "      <th>0</th>\n",
              "      <td>0</td>\n",
              "      <td>0</td>\n",
              "      <td>0</td>\n",
              "      <td>0</td>\n",
              "      <td>0</td>\n",
              "      <td>0</td>\n",
              "      <td>0</td>\n",
              "    </tr>\n",
              "    <tr>\n",
              "      <th>1</th>\n",
              "      <td>0</td>\n",
              "      <td>0</td>\n",
              "      <td>0</td>\n",
              "      <td>0</td>\n",
              "      <td>0</td>\n",
              "      <td>0</td>\n",
              "      <td>0</td>\n",
              "    </tr>\n",
              "    <tr>\n",
              "      <th>2</th>\n",
              "      <td>0</td>\n",
              "      <td>0</td>\n",
              "      <td>0</td>\n",
              "      <td>0</td>\n",
              "      <td>0</td>\n",
              "      <td>0</td>\n",
              "      <td>0</td>\n",
              "    </tr>\n",
              "    <tr>\n",
              "      <th>3</th>\n",
              "      <td>0</td>\n",
              "      <td>0</td>\n",
              "      <td>0</td>\n",
              "      <td>0</td>\n",
              "      <td>0</td>\n",
              "      <td>0</td>\n",
              "      <td>0</td>\n",
              "    </tr>\n",
              "    <tr>\n",
              "      <th>4</th>\n",
              "      <td>0</td>\n",
              "      <td>0</td>\n",
              "      <td>0</td>\n",
              "      <td>0</td>\n",
              "      <td>0</td>\n",
              "      <td>0</td>\n",
              "      <td>0</td>\n",
              "    </tr>\n",
              "    <tr>\n",
              "      <th>...</th>\n",
              "      <td>...</td>\n",
              "      <td>...</td>\n",
              "      <td>...</td>\n",
              "      <td>...</td>\n",
              "      <td>...</td>\n",
              "      <td>...</td>\n",
              "      <td>...</td>\n",
              "    </tr>\n",
              "    <tr>\n",
              "      <th>199995</th>\n",
              "      <td>97</td>\n",
              "      <td>80</td>\n",
              "      <td>79</td>\n",
              "      <td>20</td>\n",
              "      <td>130</td>\n",
              "      <td>67</td>\n",
              "      <td>0</td>\n",
              "    </tr>\n",
              "    <tr>\n",
              "      <th>199996</th>\n",
              "      <td>97</td>\n",
              "      <td>80</td>\n",
              "      <td>80</td>\n",
              "      <td>19</td>\n",
              "      <td>130</td>\n",
              "      <td>67</td>\n",
              "      <td>0</td>\n",
              "    </tr>\n",
              "    <tr>\n",
              "      <th>199997</th>\n",
              "      <td>97</td>\n",
              "      <td>81</td>\n",
              "      <td>80</td>\n",
              "      <td>19</td>\n",
              "      <td>130</td>\n",
              "      <td>67</td>\n",
              "      <td>0</td>\n",
              "    </tr>\n",
              "    <tr>\n",
              "      <th>199998</th>\n",
              "      <td>97</td>\n",
              "      <td>80</td>\n",
              "      <td>80</td>\n",
              "      <td>19</td>\n",
              "      <td>130</td>\n",
              "      <td>67</td>\n",
              "      <td>0</td>\n",
              "    </tr>\n",
              "    <tr>\n",
              "      <th>199999</th>\n",
              "      <td>97</td>\n",
              "      <td>80</td>\n",
              "      <td>80</td>\n",
              "      <td>19</td>\n",
              "      <td>130</td>\n",
              "      <td>67</td>\n",
              "      <td>0</td>\n",
              "    </tr>\n",
              "  </tbody>\n",
              "</table>\n",
              "<p>200000 rows × 7 columns</p>\n",
              "</div>\n",
              "    <div class=\"colab-df-buttons\">\n",
              "\n",
              "  <div class=\"colab-df-container\">\n",
              "    <button class=\"colab-df-convert\" onclick=\"convertToInteractive('df-073b138d-35d8-4350-8cec-016ba5ba8e29')\"\n",
              "            title=\"Convert this dataframe to an interactive table.\"\n",
              "            style=\"display:none;\">\n",
              "\n",
              "  <svg xmlns=\"http://www.w3.org/2000/svg\" height=\"24px\" viewBox=\"0 -960 960 960\">\n",
              "    <path d=\"M120-120v-720h720v720H120Zm60-500h600v-160H180v160Zm220 220h160v-160H400v160Zm0 220h160v-160H400v160ZM180-400h160v-160H180v160Zm440 0h160v-160H620v160ZM180-180h160v-160H180v160Zm440 0h160v-160H620v160Z\"/>\n",
              "  </svg>\n",
              "    </button>\n",
              "\n",
              "  <style>\n",
              "    .colab-df-container {\n",
              "      display:flex;\n",
              "      gap: 12px;\n",
              "    }\n",
              "\n",
              "    .colab-df-convert {\n",
              "      background-color: #E8F0FE;\n",
              "      border: none;\n",
              "      border-radius: 50%;\n",
              "      cursor: pointer;\n",
              "      display: none;\n",
              "      fill: #1967D2;\n",
              "      height: 32px;\n",
              "      padding: 0 0 0 0;\n",
              "      width: 32px;\n",
              "    }\n",
              "\n",
              "    .colab-df-convert:hover {\n",
              "      background-color: #E2EBFA;\n",
              "      box-shadow: 0px 1px 2px rgba(60, 64, 67, 0.3), 0px 1px 3px 1px rgba(60, 64, 67, 0.15);\n",
              "      fill: #174EA6;\n",
              "    }\n",
              "\n",
              "    .colab-df-buttons div {\n",
              "      margin-bottom: 4px;\n",
              "    }\n",
              "\n",
              "    [theme=dark] .colab-df-convert {\n",
              "      background-color: #3B4455;\n",
              "      fill: #D2E3FC;\n",
              "    }\n",
              "\n",
              "    [theme=dark] .colab-df-convert:hover {\n",
              "      background-color: #434B5C;\n",
              "      box-shadow: 0px 1px 3px 1px rgba(0, 0, 0, 0.15);\n",
              "      filter: drop-shadow(0px 1px 2px rgba(0, 0, 0, 0.3));\n",
              "      fill: #FFFFFF;\n",
              "    }\n",
              "  </style>\n",
              "\n",
              "    <script>\n",
              "      const buttonEl =\n",
              "        document.querySelector('#df-073b138d-35d8-4350-8cec-016ba5ba8e29 button.colab-df-convert');\n",
              "      buttonEl.style.display =\n",
              "        google.colab.kernel.accessAllowed ? 'block' : 'none';\n",
              "\n",
              "      async function convertToInteractive(key) {\n",
              "        const element = document.querySelector('#df-073b138d-35d8-4350-8cec-016ba5ba8e29');\n",
              "        const dataTable =\n",
              "          await google.colab.kernel.invokeFunction('convertToInteractive',\n",
              "                                                    [key], {});\n",
              "        if (!dataTable) return;\n",
              "\n",
              "        const docLinkHtml = 'Like what you see? Visit the ' +\n",
              "          '<a target=\"_blank\" href=https://colab.research.google.com/notebooks/data_table.ipynb>data table notebook</a>'\n",
              "          + ' to learn more about interactive tables.';\n",
              "        element.innerHTML = '';\n",
              "        dataTable['output_type'] = 'display_data';\n",
              "        await google.colab.output.renderOutput(dataTable, element);\n",
              "        const docLink = document.createElement('div');\n",
              "        docLink.innerHTML = docLinkHtml;\n",
              "        element.appendChild(docLink);\n",
              "      }\n",
              "    </script>\n",
              "  </div>\n",
              "\n",
              "\n",
              "<div id=\"df-9aa77d45-732d-4f45-8386-dc314732a9be\">\n",
              "  <button class=\"colab-df-quickchart\" onclick=\"quickchart('df-9aa77d45-732d-4f45-8386-dc314732a9be')\"\n",
              "            title=\"Suggest charts\"\n",
              "            style=\"display:none;\">\n",
              "\n",
              "<svg xmlns=\"http://www.w3.org/2000/svg\" height=\"24px\"viewBox=\"0 0 24 24\"\n",
              "     width=\"24px\">\n",
              "    <g>\n",
              "        <path d=\"M19 3H5c-1.1 0-2 .9-2 2v14c0 1.1.9 2 2 2h14c1.1 0 2-.9 2-2V5c0-1.1-.9-2-2-2zM9 17H7v-7h2v7zm4 0h-2V7h2v10zm4 0h-2v-4h2v4z\"/>\n",
              "    </g>\n",
              "</svg>\n",
              "  </button>\n",
              "\n",
              "<style>\n",
              "  .colab-df-quickchart {\n",
              "      --bg-color: #E8F0FE;\n",
              "      --fill-color: #1967D2;\n",
              "      --hover-bg-color: #E2EBFA;\n",
              "      --hover-fill-color: #174EA6;\n",
              "      --disabled-fill-color: #AAA;\n",
              "      --disabled-bg-color: #DDD;\n",
              "  }\n",
              "\n",
              "  [theme=dark] .colab-df-quickchart {\n",
              "      --bg-color: #3B4455;\n",
              "      --fill-color: #D2E3FC;\n",
              "      --hover-bg-color: #434B5C;\n",
              "      --hover-fill-color: #FFFFFF;\n",
              "      --disabled-bg-color: #3B4455;\n",
              "      --disabled-fill-color: #666;\n",
              "  }\n",
              "\n",
              "  .colab-df-quickchart {\n",
              "    background-color: var(--bg-color);\n",
              "    border: none;\n",
              "    border-radius: 50%;\n",
              "    cursor: pointer;\n",
              "    display: none;\n",
              "    fill: var(--fill-color);\n",
              "    height: 32px;\n",
              "    padding: 0;\n",
              "    width: 32px;\n",
              "  }\n",
              "\n",
              "  .colab-df-quickchart:hover {\n",
              "    background-color: var(--hover-bg-color);\n",
              "    box-shadow: 0 1px 2px rgba(60, 64, 67, 0.3), 0 1px 3px 1px rgba(60, 64, 67, 0.15);\n",
              "    fill: var(--button-hover-fill-color);\n",
              "  }\n",
              "\n",
              "  .colab-df-quickchart-complete:disabled,\n",
              "  .colab-df-quickchart-complete:disabled:hover {\n",
              "    background-color: var(--disabled-bg-color);\n",
              "    fill: var(--disabled-fill-color);\n",
              "    box-shadow: none;\n",
              "  }\n",
              "\n",
              "  .colab-df-spinner {\n",
              "    border: 2px solid var(--fill-color);\n",
              "    border-color: transparent;\n",
              "    border-bottom-color: var(--fill-color);\n",
              "    animation:\n",
              "      spin 1s steps(1) infinite;\n",
              "  }\n",
              "\n",
              "  @keyframes spin {\n",
              "    0% {\n",
              "      border-color: transparent;\n",
              "      border-bottom-color: var(--fill-color);\n",
              "      border-left-color: var(--fill-color);\n",
              "    }\n",
              "    20% {\n",
              "      border-color: transparent;\n",
              "      border-left-color: var(--fill-color);\n",
              "      border-top-color: var(--fill-color);\n",
              "    }\n",
              "    30% {\n",
              "      border-color: transparent;\n",
              "      border-left-color: var(--fill-color);\n",
              "      border-top-color: var(--fill-color);\n",
              "      border-right-color: var(--fill-color);\n",
              "    }\n",
              "    40% {\n",
              "      border-color: transparent;\n",
              "      border-right-color: var(--fill-color);\n",
              "      border-top-color: var(--fill-color);\n",
              "    }\n",
              "    60% {\n",
              "      border-color: transparent;\n",
              "      border-right-color: var(--fill-color);\n",
              "    }\n",
              "    80% {\n",
              "      border-color: transparent;\n",
              "      border-right-color: var(--fill-color);\n",
              "      border-bottom-color: var(--fill-color);\n",
              "    }\n",
              "    90% {\n",
              "      border-color: transparent;\n",
              "      border-bottom-color: var(--fill-color);\n",
              "    }\n",
              "  }\n",
              "</style>\n",
              "\n",
              "  <script>\n",
              "    async function quickchart(key) {\n",
              "      const quickchartButtonEl =\n",
              "        document.querySelector('#' + key + ' button');\n",
              "      quickchartButtonEl.disabled = true;  // To prevent multiple clicks.\n",
              "      quickchartButtonEl.classList.add('colab-df-spinner');\n",
              "      try {\n",
              "        const charts = await google.colab.kernel.invokeFunction(\n",
              "            'suggestCharts', [key], {});\n",
              "      } catch (error) {\n",
              "        console.error('Error during call to suggestCharts:', error);\n",
              "      }\n",
              "      quickchartButtonEl.classList.remove('colab-df-spinner');\n",
              "      quickchartButtonEl.classList.add('colab-df-quickchart-complete');\n",
              "    }\n",
              "    (() => {\n",
              "      let quickchartButtonEl =\n",
              "        document.querySelector('#df-9aa77d45-732d-4f45-8386-dc314732a9be button');\n",
              "      quickchartButtonEl.style.display =\n",
              "        google.colab.kernel.accessAllowed ? 'block' : 'none';\n",
              "    })();\n",
              "  </script>\n",
              "</div>\n",
              "    </div>\n",
              "  </div>\n"
            ],
            "application/vnd.google.colaboratory.intrinsic+json": {
              "type": "dataframe",
              "variable_name": "udf"
            }
          },
          "metadata": {},
          "execution_count": 49
        }
      ],
      "source": [
        "udf"
      ]
    },
    {
      "cell_type": "code",
      "execution_count": null,
      "metadata": {
        "id": "o--CEHuCSxWT",
        "colab": {
          "base_uri": "https://localhost:8080/"
        },
        "outputId": "13f803e5-6354-43b2-e2d9-64991ca12fe8"
      },
      "outputs": [
        {
          "output_type": "stream",
          "name": "stderr",
          "text": [
            "/usr/local/lib/python3.10/dist-packages/ipykernel/ipkernel.py:283: DeprecationWarning: `should_run_async` will not call `transform_cell` automatically in the future. Please pass the result to `transformed_cell` argument and any exception that happen during thetransform in `preprocessing_exc_tuple` in IPython 7.17 and above.\n",
            "  and should_run_async(code)\n"
          ]
        }
      ],
      "source": [
        "udf_x = udf.iloc[:,:-1]\n",
        "udf_y = udf.iloc[:,-1]"
      ]
    },
    {
      "cell_type": "code",
      "execution_count": null,
      "metadata": {
        "id": "ne81fZ7lSxY0"
      },
      "outputs": [],
      "source": [
        "udf_x = np.array(udf_x)\n",
        "udf_y = np.array(udf_y)"
      ]
    },
    {
      "cell_type": "code",
      "execution_count": null,
      "metadata": {
        "id": "nexURGQpaEzo"
      },
      "outputs": [],
      "source": [
        "x_train = np.concatenate((x_train,udf_x), axis=0)\n",
        "y_train = np.concatenate((y_train,udf_y),axis=0)"
      ]
    },
    {
      "cell_type": "markdown",
      "metadata": {
        "id": "TAttsrzvSNye"
      },
      "source": [
        "# Environment"
      ]
    },
    {
      "cell_type": "code",
      "execution_count": null,
      "metadata": {
        "id": "pWN7SJl-K2Ne"
      },
      "outputs": [],
      "source": [
        "class AnomalyEnv(Env):\n",
        "\n",
        "    def __init__(self,X_train,y_train):\n",
        "        self.x_train = x_train\n",
        "        self.y_train = y_train\n",
        "        self.action_space = Discrete(2)\n",
        "        self.observation_space = Box(low=np.zeros(self.x_train.shape[1]), high=np.ones(self.x_train.shape[1]))\n",
        "        self.index = 0\n",
        "        self.x_train = np.array(self.x_train)\n",
        "        self.state = self.x_train[0]\n",
        "        print(self.state.shape,self.observation_space.shape)\n",
        "\n",
        "    def step(self, action):\n",
        "        self.state = self.x_train[self.index]\n",
        "        reward = 0\n",
        "\n",
        "        if action == y_train[self.index]:\n",
        "            reward = 1\n",
        "        else:\n",
        "            reward = -1\n",
        "\n",
        "        self.index += 1\n",
        "        info = {}\n",
        "\n",
        "        if self.index == len(self.x_train):\n",
        "            done = True\n",
        "        else:\n",
        "            done = False\n",
        "            self.state = self.x_train[self.index]\n",
        "\n",
        "        return self.state, reward, done, info\n",
        "\n",
        "    def render(self):\n",
        "        # Implement viz\n",
        "        pass\n",
        "\n",
        "    def reset(self):\n",
        "        self.index=0\n",
        "        self.state=self.x_train[0]\n",
        "        return self.state"
      ]
    },
    {
      "cell_type": "code",
      "execution_count": null,
      "metadata": {
        "colab": {
          "base_uri": "https://localhost:8080/"
        },
        "id": "fTj71WZG4ahD",
        "outputId": "cf5fd5a3-b87f-4d37-901a-7953753c4df2"
      },
      "outputs": [
        {
          "output_type": "stream",
          "name": "stdout",
          "text": [
            "(6,) (6,)\n"
          ]
        },
        {
          "output_type": "stream",
          "name": "stderr",
          "text": [
            "/usr/local/lib/python3.10/dist-packages/gym/spaces/box.py:128: UserWarning: \u001b[33mWARN: Box bound precision lowered by casting to float32\u001b[0m\n",
            "  logger.warn(f\"Box bound precision lowered by casting to {self.dtype}\")\n"
          ]
        }
      ],
      "source": [
        "env = AnomalyEnv(x_train,y_train)"
      ]
    },
    {
      "cell_type": "code",
      "execution_count": null,
      "metadata": {
        "colab": {
          "base_uri": "https://localhost:8080/"
        },
        "id": "0QyN_lUxNQI1",
        "outputId": "09ca1fe5-e8df-4960-b405-98c1c6b2b77c"
      },
      "outputs": [
        {
          "output_type": "execute_result",
          "data": {
            "text/plain": [
              "0"
            ]
          },
          "metadata": {},
          "execution_count": 55
        }
      ],
      "source": [
        "env.action_space.sample()"
      ]
    },
    {
      "cell_type": "code",
      "execution_count": null,
      "metadata": {
        "colab": {
          "base_uri": "https://localhost:8080/"
        },
        "id": "WgK1WjOP4ajq",
        "outputId": "fe0bc0ed-ef49-4b9c-f8fb-1a363ba8bcc7"
      },
      "outputs": [
        {
          "output_type": "stream",
          "name": "stdout",
          "text": [
            "Episode:1 Score:693\n",
            "Episode:2 Score:-433\n"
          ]
        }
      ],
      "source": [
        "\n",
        "episodes = 2\n",
        "for episode in range(1, episodes+1):\n",
        "    state = env.reset()\n",
        "    done = False\n",
        "    score = 0\n",
        "\n",
        "    while not done:\n",
        "        #env.render()\n",
        "        action = env.action_space.sample()\n",
        "        n_state, reward, done, info = env.step(action)\n",
        "        score+=reward\n",
        "    print('Episode:{} Score:{}'.format(episode, score))"
      ]
    },
    {
      "cell_type": "markdown",
      "metadata": {
        "id": "8EwCEgNvSTDR"
      },
      "source": [
        "# Model"
      ]
    },
    {
      "cell_type": "code",
      "execution_count": null,
      "metadata": {
        "id": "jOyAD7WC4ami"
      },
      "outputs": [],
      "source": [
        "\n",
        "from collections import deque\n",
        "replay_buffer = deque(maxlen=buffer_size)\n",
        "reward_buffer = deque([0.0],maxlen=100)\n"
      ]
    },
    {
      "cell_type": "code",
      "execution_count": null,
      "metadata": {
        "colab": {
          "base_uri": "https://localhost:8080/"
        },
        "id": "eFIjtekV4auy",
        "outputId": "57a82b26-7f9d-4548-fe47-a7905555f0a2"
      },
      "outputs": [
        {
          "output_type": "stream",
          "name": "stdout",
          "text": [
            "State  (6,)  actions  2\n"
          ]
        }
      ],
      "source": [
        "state = env.observation_space.shape\n",
        "actions = env.action_space.n\n",
        "print(\"State \",state,\" actions \",actions)"
      ]
    },
    {
      "cell_type": "code",
      "execution_count": null,
      "metadata": {
        "id": "9NdVo3Nn4apY"
      },
      "outputs": [],
      "source": [
        "episode_reward = 0.0"
      ]
    },
    {
      "cell_type": "code",
      "execution_count": null,
      "metadata": {
        "id": "2WTAqLKbnaBx"
      },
      "outputs": [],
      "source": [
        "# class Network(nn.Module):\n",
        "#   def __init__(self,env):\n",
        "#     super().__init__()\n",
        "#     ipt_features = env.observation_space.shape\n",
        "#     print(ipt_features)\n",
        "#     self.net = nn.Sequential(\n",
        "#         nn.Conv1d(in_channels=ipt_features[0], out_channels=32, kernel_size=3, padding=1),\n",
        "#         nn.ReLU(),\n",
        "#         # nn.MaxPool1d(kernel_size=3, stride=1, padding=1),\n",
        "#         # nn.ReLU(),\n",
        "#         nn.Conv1d(in_channels=32, out_channels=64, kernel_size=3, padding=1),\n",
        "#         nn.ReLU(),\n",
        "#         # nn.MaxPool1d(kernel_size=3, stride=1, padding=1),\n",
        "#         # nn.ReLU(),\n",
        "#         nn.Flatten(),\n",
        "#         nn.Linear(128, 512),\n",
        "#         nn.Softmax(),\n",
        "#         nn.Linear(512, env.action_space.n)\n",
        "#     )\n",
        "\n",
        "#   def forward(self,x):\n",
        "#     return self.net(x)\n",
        "\n",
        "#   def act(self,obs):\n",
        "#     st_t = torch.as_tensor(obs,dtype=torch.float32)\n",
        "#     q_values = self(st_t.unsqueeze(0))\n",
        "#     q_idx = torch.argmax(q_values,dim=1)[0]\n",
        "#     action = q_idx.detach().item()\n",
        "#     return action"
      ]
    },
    {
      "cell_type": "code",
      "execution_count": null,
      "metadata": {
        "id": "-wYdtouuA6q8"
      },
      "outputs": [],
      "source": [
        "class Network(nn.Module):\n",
        "  def __init__(self,env):\n",
        "    super(Network,self).__init__()\n",
        "    ipt_features = np.prod(env.observation_space.shape)\n",
        "    print(ipt_features)\n",
        "    self.dense1 = nn.Linear(ipt_features, 128)\n",
        "    self.dense2 = nn.Linear(128, 256)\n",
        "    self.lstm = nn.LSTM(128, 128)\n",
        "    self.dense3 = nn.Linear(256,512)\n",
        "    self.dense4 = nn.Linear(512, 1024)\n",
        "    self.dense5 = nn.Linear(512, 2)\n",
        "    self.sigmoid = nn.Sigmoid()\n",
        "\n",
        "  def forward(self,x):\n",
        "    x = torch.relu(self.dense1(x))\n",
        "    x = x.view(x.size(0), 1, -1)\n",
        "    x, _ = self.lstm(x)\n",
        "    x = torch.relu(self.dense2(x))\n",
        "    x = torch.relu(self.dense3(x))\n",
        "    # x = torch.relu(self.dense4(x))\n",
        "    x = self.dense5(x)\n",
        "    x = self.sigmoid(x)\n",
        "    return x\n",
        "\n",
        "  def act(self,obs):\n",
        "    st_t = torch.as_tensor(obs,dtype=torch.float32)\n",
        "    q_values = self(st_t.unsqueeze(0))\n",
        "    q_values = q_values[:,0,:]\n",
        "    q_idx = torch.argmax(q_values,dim=1)[0]\n",
        "    action = q_idx.detach().item()\n",
        "    return action"
      ]
    },
    {
      "cell_type": "code",
      "execution_count": null,
      "metadata": {
        "colab": {
          "base_uri": "https://localhost:8080/"
        },
        "id": "3J97FCm_4axT",
        "outputId": "d1305c8a-77c9-4571-efba-4af67b4ab91b"
      },
      "outputs": [
        {
          "output_type": "stream",
          "name": "stdout",
          "text": [
            "6\n",
            "6\n"
          ]
        }
      ],
      "source": [
        "online_net = Network(env)\n",
        "target_net = Network(env)"
      ]
    },
    {
      "cell_type": "code",
      "execution_count": null,
      "metadata": {
        "colab": {
          "base_uri": "https://localhost:8080/"
        },
        "id": "DD_2LFeu4a0C",
        "outputId": "3ed15cb6-126c-4e63-af6d-0a9b10dc5073"
      },
      "outputs": [
        {
          "output_type": "execute_result",
          "data": {
            "text/plain": [
              "<All keys matched successfully>"
            ]
          },
          "metadata": {},
          "execution_count": 63
        }
      ],
      "source": [
        "target_net.load_state_dict(online_net.state_dict())"
      ]
    },
    {
      "cell_type": "code",
      "execution_count": null,
      "metadata": {
        "id": "SLObGf4WrSKe"
      },
      "outputs": [],
      "source": [
        "from torch.optim.lr_scheduler import ExponentialLR\n",
        "\n",
        "optimizer = torch.optim.Adam(online_net.parameters(),lr=1e-3)\n",
        "scheduler = ExponentialLR(optimizer, gamma=0.99)\n",
        "\n",
        "# for epoch in range(170):\n",
        "#     scheduler.step()\n",
        "#     print(f\"Epoch {epoch+1}, Learning Rate: {optimizer.param_groups[0]['lr']}\")"
      ]
    },
    {
      "cell_type": "code",
      "execution_count": null,
      "metadata": {
        "id": "aPzG0LqD-h4p"
      },
      "outputs": [],
      "source": [
        "st = env.reset()"
      ]
    },
    {
      "cell_type": "code",
      "execution_count": null,
      "metadata": {
        "id": "_PUPxgxV_Cmg"
      },
      "outputs": [],
      "source": [
        "for _ in range(min_replay_size):\n",
        "  action = env.action_space.sample()\n",
        "  new_st, reward, done, info = env.step(action)\n",
        "  buffer_data = (st, action, reward, done, new_st)\n",
        "  replay_buffer.append(buffer_data)\n",
        "  st = new_st\n",
        "  if done:\n",
        "    st = env.reset()"
      ]
    },
    {
      "cell_type": "code",
      "execution_count": null,
      "metadata": {
        "id": "VSZ1Z2bM_GXh"
      },
      "outputs": [],
      "source": [
        "st = env.reset()"
      ]
    },
    {
      "cell_type": "code",
      "execution_count": null,
      "metadata": {
        "id": "OecaWy4iXwpj"
      },
      "outputs": [],
      "source": [
        "print(st)"
      ]
    },
    {
      "cell_type": "markdown",
      "metadata": {
        "id": "wWUSf-KISZvZ"
      },
      "source": [
        "# Training"
      ]
    },
    {
      "cell_type": "code",
      "execution_count": null,
      "metadata": {
        "id": "fv0WYCaRtSYw"
      },
      "outputs": [],
      "source": [
        "\n",
        "def bellman_eq(rewards_t,dones_t,max_target_net_q):\n",
        "  return rewards_t + gamma*(1-dones_t)*(max_target_net_q)"
      ]
    },
    {
      "cell_type": "code",
      "execution_count": null,
      "metadata": {
        "id": "Fs7SXsh2t5ZY"
      },
      "outputs": [],
      "source": [
        "def td_zero(rewards_t,dones_t,max_target_net_q,v_old):\n",
        "  return v_old + alpha*(rewards_t + gamma*(1-dones_t)*max_target_net_q - v_old)"
      ]
    },
    {
      "cell_type": "code",
      "execution_count": null,
      "metadata": {
        "id": "uZoIr4Z9t5cH"
      },
      "outputs": [],
      "source": [
        "network_type = \"bellman\""
      ]
    },
    {
      "cell_type": "code",
      "execution_count": null,
      "metadata": {
        "id": "sGBZQdiy_GaJ"
      },
      "outputs": [],
      "source": [
        "rews = []\n",
        "rew = 0\n",
        "\n",
        "import itertools\n",
        "\n",
        "for step in range(1*x_train.shape[0]):\n",
        "  if step < epsilon_steps:\n",
        "      epsilon = np.interp(step, [0, epsilon_steps], [epsilon_start, epsilon_end])\n",
        "  else:\n",
        "      epsilon = epsilon_start\n",
        "      epsilon_steps += 50_000\n",
        "  random_sample = random.random()\n",
        "  if random_sample <= epsilon:\n",
        "    action = env.action_space.sample()\n",
        "  else:\n",
        "    action = online_net.act(st)\n",
        "\n",
        "\n",
        "  new_st,reward,done,_ = env.step(action)\n",
        "  episode_reward +=reward\n",
        "  rew += reward\n",
        "  buffer_data = (st, action, reward, done, new_st)\n",
        "  replay_buffer.append(buffer_data)\n",
        "  st=new_st\n",
        "\n",
        "  if done:\n",
        "    st= env.reset()\n",
        "    reward_buffer.append(episode_reward)\n",
        "    epsiode_reward=0.0\n",
        "\n",
        "  buffer_samples = random.sample(replay_buffer,batch_size)\n",
        "  curr_states = np.asarray([t[0] for t in buffer_samples])\n",
        "  actions_arr = np.asarray([t[1] for t in buffer_samples])\n",
        "  rewards = np.asarray([t[2] for t in buffer_samples])\n",
        "  dones = np.asarray([t[3] for t in buffer_samples])\n",
        "  next_states = np.asarray([t[4] for t in buffer_samples])\n",
        "\n",
        "  curr_states_t = torch.as_tensor(curr_states,dtype=torch.float32)\n",
        "  actions_arr_t = torch.as_tensor(actions_arr,dtype=torch.int64).unsqueeze(-1)\n",
        "  rewards_t = torch.as_tensor(rewards,dtype=torch.float32)\n",
        "  dones_t = torch.as_tensor(dones,dtype=torch.float32)\n",
        "  next_states_t = torch.as_tensor(next_states,dtype=torch.float32)\n",
        "  # print(\"Next states shape\",next_states_t.shape)\n",
        "  # print(next_states_t.shape)\n",
        "  target_net_q = target_net(next_states_t)\n",
        "  # print(\"Target_net_q\",target_net_q)\n",
        "  target_net_q = target_net_q[:,0,:]\n",
        "  max_target_net_q = target_net_q.max(dim=1,keepdims=True)[0]\n",
        "\n",
        "  # v_old_q = target_net(curr_states_t)\n",
        "  # v_old_q = v_old_q[:,0,:]\n",
        "  # max_curr_net_q = v_old_q.max(dim=1,keepdims=True)[0]\n",
        "  # print(max_target_net_q,(1-dones))\n",
        "  # print(target)\n",
        "\n",
        "  # target_net_q = []\n",
        "  # for i in range(len(next_states)):\n",
        "  #   q_val = target_net.predict(np.expand_dims(np.expand_dims(next_states[i], axis=0),axis=0))\n",
        "  #   target_net_q.append(max(q_val[0]))\n",
        "  # target = rewards + gamma*np.multiply(1-dones,target_net_q)\n",
        "\n",
        "  online_net_q = online_net(curr_states_t)\n",
        "  # print(online_net_q)\n",
        "  # print(online_net_q.shape,online_net_q)\n",
        "  online_net_max_q = online_net_q.max(dim=2,keepdims=True)[0]\n",
        "  online_net_max_q = online_net_max_q[:,:,0]\n",
        "  # print(online_net_max_q.shape,online_net_max_q)\n",
        "  # print(actions_arr_t.shape,actions_arr_t)\n",
        "\n",
        "  if network_type == \"bellman\":\n",
        "    target = bellman_eq(rewards_t,dones_t,max_target_net_q)\n",
        "  else :\n",
        "    target = td_zero(rewards_t,dones_t,max_target_net_q,online_net_max_q)\n",
        "\n",
        "  action_q_values = torch.gather(input=online_net_max_q, dim=0,index= actions_arr_t)\n",
        "  loss = nn.functional.mse_loss(action_q_values, target)\n",
        "  optimizer.zero_grad()\n",
        "  loss.backward()\n",
        "  max_norm = 1.0\n",
        "  nn.utils.clip_grad_norm_(online_net.parameters(), max_norm)\n",
        "  optimizer.step()\n",
        "\n",
        "  # if(step%90000 ==0):\n",
        "  #   scheduler.step()\n",
        "  if(step%target_update_freq==0):\n",
        "    target_net.load_state_dict(online_net.state_dict())\n",
        "    print(episode_reward/(step+1))\n",
        "    print(\"reward \",reward)\n",
        "    print(\"loss \",loss)\n",
        "    print(\"decision \",online_net_q)\n",
        "  if(step%5000==0):\n",
        "    print()\n",
        "    print(\"STEP : \",step)\n",
        "    print(\"avg reward\",np.mean(reward_buffer))\n",
        "  if(step%1000==0):\n",
        "    rews.append(rew/1000)\n",
        "    if(rew/1000>0.95):\n",
        "      break\n",
        "    rew=0\n"
      ]
    },
    {
      "cell_type": "code",
      "execution_count": null,
      "metadata": {
        "id": "-lpp8ywi_GdB"
      },
      "outputs": [],
      "source": [
        "print(online_net.state_dict())"
      ]
    },
    {
      "cell_type": "markdown",
      "metadata": {
        "id": "hHKEyI5DSj8O"
      },
      "source": [
        "# Prediction"
      ]
    },
    {
      "cell_type": "code",
      "execution_count": null,
      "metadata": {
        "id": "RBpw3PN4_GiQ"
      },
      "outputs": [],
      "source": [
        "# file_path = '/content/drive/MyDrive/Colab Notebooks/DDQN/ddqn_best.pth'\n",
        "# torch.save(target_net.state_dict(), file_path)"
      ]
    },
    {
      "cell_type": "code",
      "execution_count": null,
      "metadata": {
        "id": "yxsriPml_GlF",
        "colab": {
          "base_uri": "https://localhost:8080/"
        },
        "outputId": "346d34a8-63b7-444c-b9b4-bae8596f2a8d"
      },
      "outputs": [
        {
          "output_type": "execute_result",
          "data": {
            "text/plain": [
              "<All keys matched successfully>"
            ]
          },
          "metadata": {},
          "execution_count": 63
        }
      ],
      "source": [
        "target_net.load_state_dict(torch.load('/content/drive/MyDrive/Colab Notebooks/DDQN/ssddqn_final.pth'))"
      ]
    },
    {
      "cell_type": "code",
      "execution_count": null,
      "metadata": {
        "id": "TUwQCA7SD0VI"
      },
      "outputs": [],
      "source": [
        "# plt.plot(rews)\n",
        "# print(max(rews))\n",
        "# rew"
      ]
    },
    {
      "cell_type": "code",
      "execution_count": null,
      "metadata": {
        "id": "6Nn6CsDcbn_6",
        "colab": {
          "base_uri": "https://localhost:8080/"
        },
        "outputId": "0ac1387b-17f0-4481-c42a-a66e870507b8"
      },
      "outputs": [
        {
          "output_type": "stream",
          "name": "stdout",
          "text": [
            "(280027, 6) (280027,)\n"
          ]
        }
      ],
      "source": [
        "combined_df = np.concatenate((np.array(x_test), knn_x), axis=0)\n",
        "cy = df = np.concatenate((y_test,knn_y))\n",
        "print(combined_df.shape,cy.shape)"
      ]
    },
    {
      "cell_type": "code",
      "execution_count": null,
      "metadata": {
        "id": "ikAQhwVw_Gnw",
        "colab": {
          "base_uri": "https://localhost:8080/"
        },
        "outputId": "48102656-d1a3-49e7-a851-b570663d4611"
      },
      "outputs": [
        {
          "output_type": "stream",
          "name": "stdout",
          "text": [
            "tensor([[ 90.,  68.,  67.,  14.,  88.,  44.],\n",
            "        [ 90.,  68.,  67.,  14.,  88.,  44.],\n",
            "        [ 90.,  68.,  67.,  14.,  88.,  44.],\n",
            "        ...,\n",
            "        [ 95.,  96.,  96.,   0., 100.,  63.],\n",
            "        [ 95.,  97.,  97.,   0., 100.,  63.],\n",
            "        [ 95.,  97.,  97.,   0., 100.,  63.]])\n"
          ]
        }
      ],
      "source": [
        "# x_train = np.array(x_train)\n",
        "x_test_t = torch.as_tensor(np.array(x_test),dtype=torch.float32)\n",
        "print(x_test_t)"
      ]
    },
    {
      "cell_type": "code",
      "execution_count": null,
      "metadata": {
        "id": "8w7lz1hG_GqZ",
        "colab": {
          "base_uri": "https://localhost:8080/"
        },
        "outputId": "ef78c256-609b-4ce7-85d7-4b194debbbad"
      },
      "outputs": [
        {
          "output_type": "stream",
          "name": "stdout",
          "text": [
            "tensor([[[1.0000, 0.4194]],\n",
            "\n",
            "        [[1.0000, 0.4094]],\n",
            "\n",
            "        [[1.0000, 0.4095]],\n",
            "\n",
            "        ...,\n",
            "\n",
            "        [[1.0000, 0.3017]],\n",
            "\n",
            "        [[1.0000, 0.3012]],\n",
            "\n",
            "        [[1.0000, 0.3012]]], grad_fn=<SigmoidBackward0>)\n"
          ]
        }
      ],
      "source": [
        "x_test_q_val = target_net(x_test_t)\n",
        "print(x_test_q_val)"
      ]
    },
    {
      "cell_type": "code",
      "execution_count": null,
      "metadata": {
        "id": "nk_FmsrF_GtS",
        "colab": {
          "base_uri": "https://localhost:8080/"
        },
        "outputId": "a50e47e7-4546-4bf4-c5fa-fe5bf2812fb0"
      },
      "outputs": [
        {
          "output_type": "stream",
          "name": "stdout",
          "text": [
            "tensor([[0],\n",
            "        [0],\n",
            "        [0],\n",
            "        ...,\n",
            "        [0],\n",
            "        [0],\n",
            "        [0]])\n"
          ]
        }
      ],
      "source": [
        "predictions = torch.argmax(x_test_q_val,dim=2)\n",
        "print(predictions)"
      ]
    },
    {
      "cell_type": "code",
      "execution_count": null,
      "metadata": {
        "id": "dM7LXiGz_Gvy",
        "colab": {
          "base_uri": "https://localhost:8080/"
        },
        "outputId": "87de47fa-83ed-4f6e-8dca-0e72b3ef34db"
      },
      "outputs": [
        {
          "output_type": "stream",
          "name": "stdout",
          "text": [
            "Accuracy: 0.9958520054812785\n",
            "F1 0.976381273724167\n",
            "R2 0.9482546905625322\n",
            "precision 0.9772055719712959\n",
            "recall 0.9755583649388959\n"
          ]
        }
      ],
      "source": [
        "from sklearn.metrics import accuracy_score,f1_score, r2_score, confusion_matrix,precision_score, recall_score\n",
        "accuracy = accuracy_score(y_test, predictions)\n",
        "\n",
        "print(\"Accuracy:\", accuracy)\n",
        "print(\"F1\",f1_score(y_test, predictions))\n",
        "print(\"R2\",r2_score(y_test, predictions))\n",
        "print(\"precision\",precision_score(y_test, predictions))\n",
        "print(\"recall\",recall_score(y_test, predictions))"
      ]
    },
    {
      "cell_type": "code",
      "execution_count": null,
      "metadata": {
        "id": "I-uVxDHSqkFT",
        "colab": {
          "base_uri": "https://localhost:8080/"
        },
        "outputId": "60fcf338-e605-45f4-9e3b-43bfe41aa19f"
      },
      "outputs": [
        {
          "output_type": "stream",
          "name": "stdout",
          "text": [
            "Confusion Matrix:\n",
            "[[24574    54]\n",
            " [   58  2315]]\n"
          ]
        },
        {
          "output_type": "stream",
          "name": "stderr",
          "text": [
            "/usr/local/lib/python3.10/dist-packages/ipykernel/ipkernel.py:283: DeprecationWarning: `should_run_async` will not call `transform_cell` automatically in the future. Please pass the result to `transformed_cell` argument and any exception that happen during thetransform in `preprocessing_exc_tuple` in IPython 7.17 and above.\n",
            "  and should_run_async(code)\n"
          ]
        }
      ],
      "source": [
        "conf_matrix = confusion_matrix(y_test, predictions)\n",
        "print(\"Confusion Matrix:\")\n",
        "print(conf_matrix)"
      ]
    },
    {
      "cell_type": "code",
      "source": [],
      "metadata": {
        "id": "okroq4FZzRJ8"
      },
      "execution_count": null,
      "outputs": []
    },
    {
      "cell_type": "code",
      "source": [
        "tn, fp, fn, tp = confusion_matrix(cy, predictions).ravel()\n",
        "fpr = fp / (fp + tn)\n",
        "fpr"
      ],
      "metadata": {
        "id": "B1an3DjiLbUv"
      },
      "execution_count": null,
      "outputs": []
    },
    {
      "cell_type": "code",
      "source": [
        "import seaborn as sns\n",
        "cm=conf_matrix\n",
        "cm = cm.astype('float') / cm.sum(axis=1)[:, np.newaxis] * 100\n",
        "print(cm)\n",
        "# sns.set(font_scale=1.4)  # Adjust font size as needed\n",
        "# sns.heatmap(cm, annot=True, fmt='.2f', cmap='Blues', cbar=False, square=True,\n",
        "#             xticklabels=['Normal data', 'False alarms'],\n",
        "#             yticklabels=['Normal data', 'False alarms'])\n",
        "# plt.xlabel('Predicted Label')\n",
        "# plt.ylabel('True Label')\n",
        "# plt.title('Confusion Matrix')\n",
        "# plt.show()"
      ],
      "metadata": {
        "id": "ZcBuKFRtOtB4"
      },
      "execution_count": null,
      "outputs": []
    },
    {
      "cell_type": "code",
      "execution_count": null,
      "metadata": {
        "id": "DJMeLFd0_GyM"
      },
      "outputs": [],
      "source": [
        "cor=0\n",
        "tot=0\n",
        "for i in range(y_test.shape[0]):\n",
        "  if y_test[i]==1:\n",
        "    tot+=1\n",
        "  if predictions[i]==1:\n",
        "    cor+=1\n",
        "print(cor,tot)"
      ]
    },
    {
      "cell_type": "code",
      "execution_count": null,
      "metadata": {
        "id": "8F3NSHPA_G0y"
      },
      "outputs": [],
      "source": [
        "cor=0\n",
        "tot=0\n",
        "for i in range(knn_y.shape[0]):\n",
        "  if knn_y[i]==1:\n",
        "    tot+=1\n",
        "    if knn_y[i]==predictions[i]:\n",
        "      cor+=1\n",
        "print(cor/tot)\n",
        "print(cor,tot)"
      ]
    },
    {
      "cell_type": "code",
      "execution_count": null,
      "metadata": {
        "id": "VZypQ-Tf_G5a"
      },
      "outputs": [],
      "source": [
        "plt.plot(knn_y)\n",
        "plt.plot(predictions)"
      ]
    },
    {
      "cell_type": "code",
      "execution_count": null,
      "metadata": {
        "id": "FZolbNrgMrd3"
      },
      "outputs": [],
      "source": [
        "knn_x=np.array(knn_x[:70000])"
      ]
    },
    {
      "cell_type": "code",
      "execution_count": null,
      "metadata": {
        "id": "LdlmAaWHZsiS"
      },
      "outputs": [],
      "source": [
        "knn_y= knn_y[:70000]"
      ]
    },
    {
      "cell_type": "code",
      "execution_count": null,
      "metadata": {
        "id": "X_fQoQVeYTXm"
      },
      "outputs": [],
      "source": [
        "knn_x.shape"
      ]
    },
    {
      "cell_type": "code",
      "execution_count": null,
      "metadata": {
        "id": "XOAaGoKh0uan"
      },
      "outputs": [],
      "source": [
        "colors = ['blue' if value == 0 else 'red' for value in predictions]\n",
        "# print(x_test[:,0])\n",
        "# Plot the line graph\n",
        "plt.plot(np.array(knn_x[:,0]), color='#0ec2a7')\n",
        "\n",
        "# Add points with different colors\n",
        "for i in range(knn_x[:,0].shape[0]):\n",
        "    if(colors[i]=='red'):\n",
        "      plt.scatter(i,knn_x[:,0][i], color=colors[i])\n",
        "\n",
        "# Show the plot\n",
        "plt.xlabel('Samples')\n",
        "plt.ylabel('SpO2')\n",
        "plt.title('Anomalies in Spo2')\n",
        "plt.show()"
      ]
    },
    {
      "cell_type": "code",
      "execution_count": null,
      "metadata": {
        "id": "6DVrSB1IXQRS"
      },
      "outputs": [],
      "source": [
        "colors = ['green' if value == 0 else 'red' for value in predictions]\n",
        "\n",
        "# Plot the line graph for Pulse (color='c')\n",
        "plt.plot(np.array(knn_x[:, 1]), color='c', label='Pulse')\n",
        "\n",
        "# Plot the line graph for Heart Rate (color='#90EE90')\n",
        "plt.plot(np.array(knn_x[:, 2]), color='#90EE90', label='Heart Rate')\n",
        "\n",
        "# Add points with different colors\n",
        "for i in range(knn_x[:, 1].shape[0]):\n",
        "    if colors[i] == 'red':\n",
        "        plt.scatter(i, knn_x[:, 1][i], color=colors[i])\n",
        "        plt.scatter(i, knn_x[:, 2][i], color=colors[i])\n",
        "\n",
        "# Add legend\n",
        "plt.legend()\n",
        "\n",
        "# Show the plot\n",
        "plt.xlabel('Samples')\n",
        "plt.ylabel('Vitals')\n",
        "plt.title('Anomalies in Pulse and Heart Rate')\n",
        "plt.show()"
      ]
    },
    {
      "cell_type": "code",
      "source": [
        "colors = ['green' if value == 0 else 'red' for value in predictions]\n",
        "\n",
        "for i in range(30000):\n",
        "    plt.scatter(knn_x[:,4][i],knn_x[:,5][i], color=colors[i], s=5)\n",
        "\n",
        "# Show the plot\n",
        "plt.xlabel('Systolic Blood Pressure')\n",
        "plt.ylabel('Diastolic Blood Pressure')\n",
        "plt.title('Plot of Blood Pressures')\n",
        "plt.show()"
      ],
      "metadata": {
        "id": "3Wcefbk1cVtC"
      },
      "execution_count": null,
      "outputs": []
    },
    {
      "cell_type": "code",
      "source": [
        "colors = ['green' if value == 0 else 'red' for value in predictions]\n",
        "# print(x_test[:,0])\n",
        "# Plot the line graph\n",
        "# Add points with different colors\n",
        "for i in range(30000):\n",
        "    plt.scatter(knn_x[:,0][i],knn_x[:,4][i], color=colors[i], s=5)\n",
        "\n",
        "# Show the plot\n",
        "plt.show()"
      ],
      "metadata": {
        "id": "1vDqr2B6ow12"
      },
      "execution_count": null,
      "outputs": []
    },
    {
      "cell_type": "code",
      "execution_count": null,
      "metadata": {
        "id": "m4Xc3Id9awlJ"
      },
      "outputs": [],
      "source": [
        "colors = ['green' if value == 0 else 'red' for value in predictions]\n",
        "\n",
        "plt.plot(np.array(knn_x[:, 4]), color='green', label='Systolic BP')\n",
        "\n",
        "plt.plot(np.array(knn_x[:, 5]), color='#ed58e6', label='Diastolic BP')\n",
        "\n",
        "# Add points with different colors\n",
        "for i in range(knn_x[:, 1].shape[0]):\n",
        "    if colors[i] == 'red':\n",
        "        plt.scatter(i, knn_x[:, 4][i], color=colors[i])\n",
        "        plt.scatter(i, knn_x[:, 5][i], color=colors[i])\n",
        "\n",
        "# Add legend\n",
        "plt.legend()\n",
        "\n",
        "# Show the plot\n",
        "plt.xlabel('Samples')\n",
        "plt.ylabel('Vitals')\n",
        "plt.title('Anomalies in Pulse and Heart Rate')\n",
        "plt.show()"
      ]
    },
    {
      "cell_type": "code",
      "execution_count": null,
      "metadata": {
        "colab": {
          "base_uri": "https://localhost:8080/",
          "height": 472
        },
        "id": "FNCwH0bfaz1U",
        "outputId": "44f5af58-e58e-4505-b91e-5eacbe0610fa"
      },
      "outputs": [
        {
          "output_type": "display_data",
          "data": {
            "text/plain": [
              "<Figure size 640x480 with 1 Axes>"
            ],
            "image/png": "[encoded data removed]"
          },
          "metadata": {}
        }
      ],
      "source": [
        "colors = ['green' if value == 0 else 'red' for value in predictions]\n",
        "# print(x_test[:,0])\n",
        "# Plot the line graph\n",
        "plt.plot(np.array(knn_x[:,3]), color='#ed58e6')\n",
        "\n",
        "# Add points with different colors\n",
        "for i in range(knn_x[:,3].shape[0]):\n",
        "    if(colors[i]=='red'):\n",
        "      plt.scatter(i,knn_x[:,3][i], color=colors[i])\n",
        "\n",
        "# Show the plot\n",
        "plt.xlabel('Samples')\n",
        "plt.ylabel('Respiration Rate')\n",
        "plt.title('Anomalies in Respiration Rate')\n",
        "plt.show()"
      ]
    },
    {
      "cell_type": "code",
      "execution_count": null,
      "metadata": {
        "id": "YA66xICea2PY"
      },
      "outputs": [],
      "source": [
        "colors = ['green' if value == 0 else 'red' for value in predictions]\n",
        "# print(x_test[:,0])\n",
        "# Plot the line graph\n",
        "plt.plot(np.array(knn_x[:,4]), color='#90EE90')\n",
        "plt.plot(np.array(knn_x[:,5]), color='#c')\n",
        "\n",
        "# Add points with different colors\n",
        "for i in range(knn_x[:,4].shape[0]):\n",
        "    if(colors[i]=='red'):\n",
        "      plt.scatter(i,knn_x[:,4][i], color=colors[i])\n",
        "      plt.scatter(i,knn_x[:,5][i], color=colors[i])\n",
        "\n",
        "# Show the plot\n",
        "plt.show()"
      ]
    },
    {
      "cell_type": "code",
      "execution_count": null,
      "metadata": {
        "colab": {
          "base_uri": "https://localhost:8080/",
          "height": 430
        },
        "id": "7cxNHFMda4Vg",
        "outputId": "3c594c74-73ac-49be-d95b-02b809f2acb6"
      },
      "outputs": [
        {
          "output_type": "display_data",
          "data": {
            "text/plain": [
              "<Figure size 640x480 with 1 Axes>"
            ],
            "image/png": "[encoded data removed]"
          },
          "metadata": {}
        }
      ],
      "source": [
        "colors = ['green' if value == 0 else 'red' for value in predictions]\n",
        "# print(x_test[:,0])\n",
        "# Plot the line graph\n",
        "plt.plot(np.array(knn_x[:,5]), color='#90EE90')\n",
        "\n",
        "# Add points with different colors\n",
        "for i in range(knn_x[:,5].shape[0]):\n",
        "    if(colors[i]=='red'):\n",
        "      plt.scatter(i,knn_x[:,5][i], color=colors[i])\n",
        "\n",
        "# Show the plot\n",
        "plt.show()"
      ]
    },
    {
      "cell_type": "code",
      "execution_count": null,
      "metadata": {
        "id": "L9u6zOe-a6yS",
        "colab": {
          "base_uri": "https://localhost:8080/",
          "height": 472
        },
        "outputId": "c1c03949-2731-48b1-9c33-2d5a02a30d9e"
      },
      "outputs": [
        {
          "output_type": "display_data",
          "data": {
            "text/plain": [
              "<Figure size 640x480 with 1 Axes>"
            ],
            "image/png": "[encoded data removed]"
          },
          "metadata": {}
        }
      ],
      "source": [
        "import matplotlib.pyplot as plt\n",
        "import numpy as np\n",
        "\n",
        "#243691 244000 N\n",
        "# 19308 18999 F\n",
        "# 24632 24628 N\n",
        "# 2369 2373 F\n",
        "\n",
        "\n",
        "\n",
        "\n",
        "# Predicted values\n",
        "actual = [268323, 21677]\n",
        "\n",
        "# Actual values\n",
        "predicted = [268628, 21372]\n",
        "\n",
        "labels = ['Normal Data', 'Anomalies']\n",
        "\n",
        "x = np.arange(len(labels))  # the label locations\n",
        "width = 0.35  # the width of the bars\n",
        "\n",
        "fig, ax = plt.subplots()\n",
        "\n",
        "# Plot predicted values in red\n",
        "rects1 = ax.bar(x - width/2, predicted, width, label='Predicted', color='red')\n",
        "\n",
        "# Plot actual values in green\n",
        "rects2 = ax.bar(x + width/2, actual, width, label='Actual', color='b')\n",
        "\n",
        "# Add some text for labels, title and custom x-axis tick labels, etc.\n",
        "ax.set_xlabel('Labels')\n",
        "ax.set_ylabel('Number of Samples')\n",
        "ax.set_title('Predicted vs Actual')\n",
        "ax.set_xticks(x)\n",
        "ax.set_xticklabels(labels)\n",
        "ax.legend()\n",
        "\n",
        "# Add labels on top of the bars\n",
        "def autolabel(rects):\n",
        "    for rect in rects:\n",
        "        height = rect.get_height()\n",
        "        ax.annotate('{}'.format(height),\n",
        "                    xy=(rect.get_x() + rect.get_width() / 2, height),\n",
        "                    xytext=(0, 3),  # 3 points vertical offset\n",
        "                    textcoords=\"offset points\",\n",
        "                    ha='center', va='bottom')\n",
        "\n",
        "autolabel(rects1)\n",
        "autolabel(rects2)\n",
        "\n",
        "plt.show()\n"
      ]
    },
    {
      "cell_type": "code",
      "source": [
        "tr = [0,0.1,0.2,0.3,0.4,0.5,0.6,0.7,1]\n",
        "plt.plot(tr)\n",
        "plt.xlabel('Iterations')\n",
        "plt.ylabel('Average Reward')\n",
        "plt.title('Plot of average reward obtained during the training process')\n",
        "plt.show()"
      ],
      "metadata": {
        "id": "iU-_zdxlypvr",
        "colab": {
          "base_uri": "https://localhost:8080/",
          "height": 527
        },
        "outputId": "0490fa56-2dd9-42a8-ec1f-a445a134a943"
      },
      "execution_count": null,
      "outputs": [
        {
          "output_type": "stream",
          "name": "stderr",
          "text": [
            "/usr/local/lib/python3.10/dist-packages/ipykernel/ipkernel.py:283: DeprecationWarning: `should_run_async` will not call `transform_cell` automatically in the future. Please pass the result to `transformed_cell` argument and any exception that happen during thetransform in `preprocessing_exc_tuple` in IPython 7.17 and above.\n",
            "  and should_run_async(code)\n"
          ]
        },
        {
          "output_type": "display_data",
          "data": {
            "text/plain": [
              "<Figure size 640x480 with 1 Axes>"
            ],
            "image/png": "[encoded data removed]"
          },
          "metadata": {}
        }
      ]
    },
    {
      "cell_type": "code",
      "source": [],
      "metadata": {
        "id": "o2gfDJuhypyK"
      },
      "execution_count": null,
      "outputs": []
    },
    {
      "cell_type": "code",
      "source": [],
      "metadata": {
        "id": "BRBYCfWfyp1C"
      },
      "execution_count": null,
      "outputs": []
    },
    {
      "cell_type": "code",
      "source": [],
      "metadata": {
        "id": "zn-rqenTyp3b"
      },
      "execution_count": null,
      "outputs": []
    },
    {
      "cell_type": "code",
      "source": [],
      "metadata": {
        "id": "CJQQYDAYyp6L"
      },
      "execution_count": null,
      "outputs": []
    }
  ],
  "metadata": {
    "colab": {
      "provenance": [],
      "authorship_tag": "ABX9TyNVf60voZwz7/V2+siR2EUq",
      "include_colab_link": true
    },
    "kernelspec": {
      "display_name": "Python 3",
      "name": "python3"
    },
    "language_info": {
      "name": "python"
    }
  },
  "nbformat": 4,
  "nbformat_minor": 0
}